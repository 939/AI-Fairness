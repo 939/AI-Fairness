{
 "cells": [
  {
   "cell_type": "markdown",
   "metadata": {},
   "source": [
    "# Try to implement Liu et al, just for longer periods of time"
   ]
  },
  {
   "cell_type": "code",
   "execution_count": 1,
   "metadata": {
    "collapsed": true
   },
   "outputs": [],
   "source": [
    "#imports\n",
    "import numpy as np\n",
    "import matplotlib.pyplot as plt\n",
    "import pandas as pd"
   ]
  },
  {
   "cell_type": "markdown",
   "metadata": {},
   "source": [
    "Build scores between 0 and 100, some people have mean of 45, others have 55."
   ]
  },
  {
   "cell_type": "code",
   "execution_count": 2,
   "metadata": {
    "collapsed": true
   },
   "outputs": [],
   "source": [
    "def create_population(blue_mu, orange_mu, sigma=10, number_of_people=100, lower_bound=10, higher_bound=90):\n",
    "    \n",
    "    blues = np.random.normal(blue_mu, sigma, (number_of_people,1))\n",
    "    oranges = np.random.normal(orange_mu, sigma, (number_of_people,1))\n",
    "    \n",
    "    blues[blues > higher_bound] = higher_bound\n",
    "    blues[blues < lower_bound] = lower_bound\n",
    "    \n",
    "    oranges[oranges > higher_bound] = higher_bound\n",
    "    oranges[oranges < lower_bound] = lower_bound\n",
    "    \n",
    "    return blues, oranges"
   ]
  },
  {
   "cell_type": "code",
   "execution_count": 40,
   "metadata": {
    "collapsed": true
   },
   "outputs": [],
   "source": [
    "blue_mu = 40\n",
    "orange_mu = 60\n",
    "number_of_people = 1000\n",
    "\n",
    "blues, oranges = create_population(blue_mu, orange_mu, number_of_people=number_of_people)"
   ]
  },
  {
   "cell_type": "code",
   "execution_count": 41,
   "metadata": {},
   "outputs": [
    {
     "data": {
      "image/png": "[encoded data removed]",
      "text/plain": [
       "<matplotlib.figure.Figure at 0x10b98be48>"
      ]
     },
     "metadata": {},
     "output_type": "display_data"
    }
   ],
   "source": [
    "bins = np.linspace(0, 100, 30)\n",
    "plt.hist([blues, oranges], bins, label=['blues', 'oranges'])\n",
    "plt.legend(loc='upper right')\n",
    "plt.show()"
   ]
  },
  {
   "cell_type": "code",
   "execution_count": 52,
   "metadata": {},
   "outputs": [],
   "source": [
    "def classification_shift(blues, oranges, number_of_people=1000, amount_up=2, amount_down=2):\n",
    "    \n",
    "    probabilities_blue = np.random.uniform(0, 1, (number_of_people,1))\n",
    "    probabilities_orange = np.random.uniform(0, 1, (number_of_people,1))\n",
    "\n",
    "    shift_blue = probabilities_blue < (blues/100)\n",
    "    shift_orange = probabilities_orange < (oranges/100)\n",
    "    \n",
    "    blues[shift_blue] += amount_up\n",
    "    blues[not shift_blue.all()] -= amount_down\n",
    "    blues[blues < 10] = 10\n",
    "    blues[blues > 90] = 90\n",
    "    \n",
    "    oranges[shift_orange] += amount_up\n",
    "    oranges[not shift_orange.all()] -= amount_down\n",
    "    oranges[oranges < 10] = 10\n",
    "    oranges[oranges > 90] = 90\n",
    "    \n",
    "    return blues, oranges\n",
    "\n",
    "def natural_shift(blues, oranges, true_mean=60, by_how_much=1):\n",
    "    if np.mean(blues) < true_mean:\n",
    "        blues += by_how_much\n",
    "    elif np.mean(blues) > true_mean:\n",
    "        blues -= by_how_much\n",
    "        \n",
    "    if np.mean(oranges) < true_mean:\n",
    "        oranges += by_how_much\n",
    "    elif np.mean(oranges) > true_mean:\n",
    "        oranges -= by_how_much\n",
    "    \n",
    "    return blues, oranges\n",
    "    \n",
    "\n",
    "def iterate_natural(blues, oranges, iters = 5):\n",
    "    mean_history = np.zeros((iters, 2))\n",
    "#     new_blues, new_oranges = classification_shift(blues, oranges)\n",
    "    new_blues, new_oranges = natural_shift(blues, oranges)\n",
    "    for i in range(iters):\n",
    "#         new_blues, new_oranges = classification_shift(new_blues, new_oranges)\n",
    "        new_blues, new_oranges = natural_shift(new_blues, new_oranges)\n",
    "        mean_history[i, 0] = np.mean(new_blues)\n",
    "        mean_history[i, 1] = np.mean(new_oranges)\n",
    "        \n",
    "    return new_blues, new_oranges, mean_history\n",
    "\n",
    "def iterate(blues, oranges, iters = 5):\n",
    "    mean_history = np.zeros((iters, 2))\n",
    "    new_blues, new_oranges = natural_shift(blues, oranges)\n",
    "    for i in range(iters):\n",
    "        new_blues, new_oranges = classification_shift(new_blues, new_oranges)\n",
    "        new_blues, new_oranges = natural_shift(new_blues, new_oranges)\n",
    "        mean_history[i, 0] = np.mean(new_blues)\n",
    "        mean_history[i, 1] = np.mean(new_oranges)\n",
    "        \n",
    "    return new_blues, new_oranges, mean_history"
   ]
  },
  {
   "cell_type": "markdown",
   "metadata": {},
   "source": [
    "# Start experimenting with changes the mean values"
   ]
  },
  {
   "cell_type": "markdown",
   "metadata": {},
   "source": [
    "## Iterate naturally, using only gradual shifts back to true distribution"
   ]
  },
  {
   "cell_type": "code",
   "execution_count": 53,
   "metadata": {
    "collapsed": true
   },
   "outputs": [],
   "source": [
    "blue_mu = 45\n",
    "orange_mu = 55\n",
    "true_mu = 55\n",
    "number_of_people = 1000\n",
    "\n",
    "blues, oranges = create_population(blue_mu, orange_mu, number_of_people=number_of_people)"
   ]
  },
  {
   "cell_type": "code",
   "execution_count": 54,
   "metadata": {},
   "outputs": [],
   "source": [
    "new_blues, new_oranges, history = iterate_natural(blues, oranges, iters = 20)"
   ]
  },
  {
   "cell_type": "code",
   "execution_count": 55,
   "metadata": {
    "scrolled": true
   },
   "outputs": [
    {
     "data": {
      "image/png": "[encoded data removed]",
      "text/plain": [
       "<matplotlib.figure.Figure at 0x10ce136d8>"
      ]
     },
     "metadata": {},
     "output_type": "display_data"
    }
   ],
   "source": [
    "bins = np.linspace(0, 100, 30)\n",
    "plt.hist([blues, oranges], bins, label=['blues', 'oranges'])\n",
    "plt.legend(loc='upper right')\n",
    "plt.show()"
   ]
  },
  {
   "cell_type": "code",
   "execution_count": 56,
   "metadata": {},
   "outputs": [
    {
     "data": {
      "image/png": "[encoded data removed]",
      "text/plain": [
       "<matplotlib.figure.Figure at 0x10c028dd8>"
      ]
     },
     "metadata": {},
     "output_type": "display_data"
    }
   ],
   "source": [
    "plt.plot(history[:, 0], label='blues')\n",
    "plt.plot(history[:, 1], label='oranges')\n",
    "plt.legend(loc='upper right')\n",
    "plt.show()"
   ]
  },
  {
   "cell_type": "markdown",
   "metadata": {},
   "source": [
    "## Include problematic stuff"
   ]
  },
  {
   "cell_type": "code",
   "execution_count": 60,
   "metadata": {
    "collapsed": true
   },
   "outputs": [],
   "source": [
    "blue_mu = 45\n",
    "orange_mu = 55\n",
    "true_mu = 55\n",
    "number_of_people = 1000\n",
    "\n",
    "blues, oranges = create_population(blue_mu, orange_mu, number_of_people=number_of_people)"
   ]
  },
  {
   "cell_type": "code",
   "execution_count": 61,
   "metadata": {
    "collapsed": true
   },
   "outputs": [],
   "source": [
    "new_blues, new_oranges, history = iterate(blues, oranges, iters = 200)"
   ]
  },
  {
   "cell_type": "code",
   "execution_count": 62,
   "metadata": {},
   "outputs": [
    {
     "data": {
      "image/png": "[encoded data removed]",
      "text/plain": [
       "<matplotlib.figure.Figure at 0x10c3ff668>"
      ]
     },
     "metadata": {},
     "output_type": "display_data"
    }
   ],
   "source": [
    "bins = np.linspace(0, 100, 30)\n",
    "plt.hist([blues, oranges], bins, label=['blues', 'oranges'])\n",
    "plt.legend(loc='upper right')\n",
    "plt.show()"
   ]
  },
  {
   "cell_type": "code",
   "execution_count": null,
   "metadata": {
    "collapsed": true
   },
   "outputs": [],
   "source": []
  }
 ],
 "metadata": {
  "kernelspec": {
   "display_name": "Python 3",
   "language": "python",
   "name": "python3"
  },
  "language_info": {
   "codemirror_mode": {
    "name": "ipython",
    "version": 3
   },
   "file_extension": ".py",
   "mimetype": "text/x-python",
   "name": "python",
   "nbconvert_exporter": "python",
   "pygments_lexer": "ipython3",
   "version": "3.6.2"
  }
 },
 "nbformat": 4,
 "nbformat_minor": 2
}
