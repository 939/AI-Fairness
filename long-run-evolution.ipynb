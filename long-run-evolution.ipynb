{
 "cells": [
  {
   "cell_type": "code",
   "execution_count": 148,
   "metadata": {
    "collapsed": true
   },
   "outputs": [],
   "source": [
    "#import stuff, and set seaborn up\n",
    "from scipy.stats import norm\n",
    "import numpy as np\n",
    "import seaborn as sns\n",
    "import matplotlib.pyplot as plt\n",
    "sns.set()\n",
    "import pandas as pd\n",
    "import time\n",
    "from scipy.optimize import minimize\n",
    "from matplotlib.patches import Patch\n",
    "from matplotlib.lines import Line2D"
   ]
  },
  {
   "cell_type": "markdown",
   "metadata": {},
   "source": [
    "# All the functions"
   ]
  },
  {
   "cell_type": "code",
   "execution_count": 2,
   "metadata": {
    "collapsed": true
   },
   "outputs": [],
   "source": [
    "#define functions\n",
    "\n",
    "#create function that finds mean of a function\n",
    "def mean_pop(a):\n",
    "    mean = 0\n",
    "    for i in range(len(a)):\n",
    "        mean += a[i]*i\n",
    "\n",
    "    mean = int(mean/sum(a))\n",
    "\n",
    "    return mean\n",
    "\n",
    "#create function that finds mean of a population\n",
    "def weighted_total(a):\n",
    "    weighted_total=0\n",
    "    history_number=np.zeros((100,1)) #100 being the number of possible credit scores\n",
    "    for i in range(100):\n",
    "        number=sum(a==i) #number being the number of people having credit score i\n",
    "        weighted_total+=number*i\n",
    "        history_number[i]=number\n",
    "    \n",
    "    weighted_total/=sum(history_number)\n",
    "    \n",
    "    return weighted_total\n",
    "\n",
    "#creates random distributions\n",
    "def brownian_population(delta=2, dt=1, n=100, x=0):\n",
    "\n",
    "    history=np.zeros(n)\n",
    "    \n",
    "    # Iterate to compute the steps of the Brownian motion.\n",
    "    for i in range(n):\n",
    "        x = x + norm.rvs(scale=delta**2*dt)\n",
    "        history[i] = x\n",
    "    \n",
    "    history = history+np.abs(np.min(history))\n",
    "    \n",
    "    original_hist = np.copy(history)\n",
    "    old_mean = mean_pop(original_hist)\n",
    "    \n",
    "    history = np.round(999*history/sum(history))\n",
    "    \n",
    "    mean = np.round(np.average(history))\n",
    "    \n",
    "    if sum(history) < 999:\n",
    "        history[0] += 999-sum(history)\n",
    "        \n",
    "    elif sum(history) > 999:  \n",
    "        history[np.argmax(history)] -= -999+sum(history)        \n",
    "    \n",
    "\n",
    "    return history, old_mean, original_hist\n",
    "\n",
    "#create function that finds true positive rates as a function of the cutoff\n",
    "def true_positive_rate(population, population_that_defaulted, cutoff):\n",
    "    population_bank_thinks_defaulted = population < cutoff\n",
    "    \n",
    "    true_positives = np.logical_and(np.logical_not(population_that_defaulted), \n",
    "                                    np.logical_not(population_bank_thinks_defaulted))\n",
    "    \n",
    "    number_true_positives = sum(true_positives)\n",
    "    \n",
    "    false_negatives = np.logical_and(np.logical_not(population_that_defaulted), \n",
    "                                     population_bank_thinks_defaulted)\n",
    "    \n",
    "    number_false_negatives = sum(false_negatives) \n",
    "    \n",
    "    true_positive_rate = number_true_positives/(number_true_positives+number_false_negatives)\n",
    "    \n",
    "    return true_positive_rate\n",
    "\n",
    "def difference_bw_positive_rates(pop1, pop2, pop1_that_defaulted, \n",
    "                                 pop2_that_defaulted, cutoff1, cutoff2, strictness=0.01):\n",
    "    true_positive_rate_group1 = true_positive_rate(pop1, pop1_that_defaulted, cutoff1)\n",
    "    true_positive_rate_group2 = true_positive_rate(pop2, pop2_that_defaulted, cutoff2)\n",
    "    # for the optimiser's constraints\n",
    "    return strictness - np.abs(true_positive_rate_group1-true_positive_rate_group2)\n",
    "\n",
    "def difference_bw_selection_rates(pop1, pop2, pop1_that_defaulted, \n",
    "                                  pop2_that_defaulted, cutoff1, cutoff2, strictness=0.01):\n",
    "    \n",
    "    _, selection_rate_group1, _ = bank_profit(pop1, pop1_that_defaulted, cutoff1)\n",
    "    _, selection_rate_group2, _ = bank_profit(pop2, pop2_that_defaulted, cutoff2)\n",
    "    \n",
    "    return strictness - np.abs(selection_rate_group1-selection_rate_group2)\n",
    "\n",
    "#create function that finds bank profit as a function of the cutoff\n",
    "def bank_profit(population, population_that_defaulted, cutoff, \n",
    "                revenue_factor=1, cost_factor=3, credit_upside=1, credit_downside=2):\n",
    "    population_bank_thinks_defaulted = population < cutoff\n",
    "    \n",
    "    true_positives = np.logical_and(np.logical_not(population_that_defaulted), \n",
    "                                    np.logical_not(population_bank_thinks_defaulted))\n",
    "    \n",
    "    paid_back = sum(true_positives)\n",
    "    false_positives = np.logical_and(population_that_defaulted, \n",
    "                                     np.logical_not(population_bank_thinks_defaulted))\n",
    "    defaulted = sum(false_positives)\n",
    "    \n",
    "    profit = paid_back*revenue_factor - defaulted*cost_factor\n",
    "    selection_rate = sum(np.logical_not(population_bank_thinks_defaulted))/len(population)\n",
    "    \n",
    "    credit_change = (paid_back*credit_upside - defaulted*credit_downside)\n",
    "\n",
    "    \n",
    "    return profit, selection_rate, credit_change\n",
    "\n",
    "\n",
    "\n",
    "def total_bank_profit(pop1, pop2, pop1_that_defaulted, pop2_that_defaulted, cutoff1, cutoff2, \n",
    "                      revenue_factor=1, cost_factor=2, credit_upside=1, credit_downside=2):\n",
    "    \n",
    "    profit_group1, _, _ = bank_profit(pop1, pop1_that_defaulted, cutoff1)\n",
    "    profit_group2, _, _ = bank_profit(pop2, pop2_that_defaulted, cutoff2)\n",
    "    \n",
    "    return -(profit_group1 + profit_group2)\n",
    "\n",
    "def create_blues_and_oranges():\n",
    "    a, mean_a, _ = brownian_population()\n",
    "    b, mean_b, _ = brownian_population()\n",
    "\n",
    "    if mean_a >= mean_b:\n",
    "        blues = np.copy(b)\n",
    "        oranges = np.copy(a)\n",
    "    elif mean_a < mean_b:\n",
    "        blues = np.copy(a)\n",
    "        oranges = np.copy(b)\n",
    "    else:\n",
    "        print(\"um\")\n",
    "\n",
    "    true_blues = np.zeros(1)\n",
    "    true_oranges = np.zeros(1)\n",
    "    \n",
    "    for i in range(100):\n",
    "        num_blues = int(blues[i])\n",
    "        num_oranges = int(oranges[i])\n",
    "        \n",
    "        if num_blues >= 0 and num_oranges >= 0:\n",
    "\n",
    "            elements_blues = np.multiply(np.ones(num_blues),i)\n",
    "            elements_oranges = np.multiply(np.ones(num_oranges), i)\n",
    "\n",
    "            true_blues = np.concatenate((true_blues, elements_blues), axis=0)\n",
    "            true_oranges = np.concatenate((true_oranges, elements_oranges), axis=0)\n",
    "\n",
    "    #determine who defaulted\n",
    "    blues_who_defaulted = true_blues.T < np.random.uniform(0, 100, (1000,1)).ravel()\n",
    "    oranges_who_defaulted = true_oranges.T < np.random.uniform(0, 100, (1000,1)).ravel()\n",
    "\n",
    "    blues = true_blues.T\n",
    "    oranges = true_oranges.T\n",
    "    \n",
    "    return blues, oranges, blues_who_defaulted, oranges_who_defaulted, mean_a, mean_b\n",
    "    "
   ]
  },
  {
   "cell_type": "markdown",
   "metadata": {},
   "source": [
    "# DO THINGS WITH BOTH"
   ]
  },
  {
   "cell_type": "markdown",
   "metadata": {},
   "source": [
    "### DO THINGS WITHOUT FAIRNESS"
   ]
  },
  {
   "cell_type": "code",
   "execution_count": null,
   "metadata": {
    "collapsed": true
   },
   "outputs": [],
   "source": [
    "b_neutral, o_neutral, bwd_neutral, owd_neutral, mb, mo = create_blues_and_oranges()"
   ]
  },
  {
   "cell_type": "code",
   "execution_count": null,
   "metadata": {},
   "outputs": [],
   "source": [
    "plt.hist([b_neutral, o_neutral], color=['b', 'xkcd:orange'])\n",
    "plt.show()"
   ]
  },
  {
   "cell_type": "code",
   "execution_count": null,
   "metadata": {
    "collapsed": true
   },
   "outputs": [],
   "source": [
    "b_unfair = np.copy(b_neutral)\n",
    "o_unfair = np.copy(o_neutral)\n",
    "bwd_unfair = np.copy(bwd_neutral)\n",
    "owd_unfair = np.copy(owd_neutral)"
   ]
  },
  {
   "cell_type": "code",
   "execution_count": null,
   "metadata": {},
   "outputs": [],
   "source": [
    "number_of_iterations = 20\n",
    "history_blue_unfair = np.zeros((number_of_iterations+1, 1000))\n",
    "history_orange_unfair = np.zeros((number_of_iterations+1, 1000))\n",
    "cutoff_history_unfair=np.zeros((number_of_iterations,2))\n",
    "# b, o, bwd, owd, mb, mo = create_blues_and_oranges()\n",
    "history_blue_unfair[0]=b_unfair\n",
    "history_orange_unfair[0]=o_unfair\n",
    "\n",
    "\n",
    "for i in range(number_of_iterations):\n",
    "\n",
    "\n",
    "    #optimise cutoffs without fairness\n",
    "    #what to optimise\n",
    "    to_optimise = lambda x: total_bank_profit(b_unfair, o_unfair, bwd_unfair, \n",
    "                                              owd_unfair, x[0], x[1])\n",
    "\n",
    "    to_constrain = lambda x: difference_bw_positive_rates(b_unfair, o_unfair, bwd_unfair, \n",
    "                                                          owd_unfair, x[0], x[1])\n",
    "\n",
    "    #initial guess\n",
    "    cutoffs = np.zeros(2)\n",
    "    cutoffs[0] = 50\n",
    "    cutoffs[1] = 50\n",
    "    #show initial objective\n",
    "    print(\"initial guess of\", cutoffs, \"got us a profit of \", -to_optimise(cutoffs), \"$\")\n",
    "\n",
    "    #optimise without fairness\n",
    "    a = (0, 100)\n",
    "    bounds = (a, a)\n",
    "\n",
    "    solution_unfair = minimize(to_optimise, cutoffs, \n",
    "                        bounds=bounds\n",
    "                               , options = {'eps': 3}\n",
    "                              )\n",
    "\n",
    "    x_unfair = solution_unfair.x\n",
    "\n",
    "    loans_b = b_unfair < x_unfair[0]\n",
    "    loans_o = o_unfair < x_unfair[1]\n",
    "    \n",
    "    \n",
    "    \n",
    "    true_positives_b = np.logical_and(np.logical_not(bwd_unfair), np.logical_not(loans_b))\n",
    "    false_positives_b = np.logical_and(np.logical_not(loans_b), bwd_unfair)\n",
    "\n",
    "    true_positives_o = np.logical_and(np.logical_not(owd_unfair), np.logical_not(loans_o))\n",
    "    false_positives_o = np.logical_and(np.logical_not(loans_o), owd_unfair)\n",
    "\n",
    "\n",
    "    b_unfair[true_positives_b] +=1\n",
    "    b_unfair[false_positives_b] -=2\n",
    "    b_unfair[b_unfair<1] = 1\n",
    "    b_unfair[b_unfair>99] = 99\n",
    "\n",
    "    o_unfair[true_positives_o] +=1\n",
    "    o_unfair[false_positives_o] -=2\n",
    "    o_unfair[o_unfair<1] = 1\n",
    "    o_unfair[o_unfair>99] = 99\n",
    "\n",
    "    b_unfair-=0.5\n",
    "    o_unfair-=0.5\n",
    "\n",
    "    history_blue_unfair[i+1]=b_unfair\n",
    "    history_orange_unfair[i+1]=o_unfair\n",
    "    cutoff_history_unfair[i]=x_unfair\n",
    "\n",
    "    b_defaults = np.random.randint(100, size=(1000,))\n",
    "    o_defaults = np.random.randint(100, size=(1000,))\n",
    "\n",
    "    bwd_unfair = b_unfair < b_defaults\n",
    "    owd_unfair = o_unfair < o_defaults\n"
   ]
  },
  {
   "cell_type": "code",
   "execution_count": null,
   "metadata": {
    "scrolled": false
   },
   "outputs": [],
   "source": [
    "for i in range(20):\n",
    "    print(weighted_total(history_orange_unfair[i]), weighted_total(history_blue_unfair[i]))"
   ]
  },
  {
   "cell_type": "code",
   "execution_count": null,
   "metadata": {
    "scrolled": true
   },
   "outputs": [],
   "source": [
    "plt.hist([history_blue_unfair[0], history_orange_unfair[0]], color=['b', 'xkcd:orange'])\n",
    "plt.show()"
   ]
  },
  {
   "cell_type": "code",
   "execution_count": null,
   "metadata": {},
   "outputs": [],
   "source": [
    "plt.hist([history_blue_unfair[19], history_orange_unfair[19]], color=['b', 'xkcd:orange'])\n",
    "plt.show()"
   ]
  },
  {
   "cell_type": "markdown",
   "metadata": {},
   "source": [
    "### DO THINGS WITH FAIRNESS"
   ]
  },
  {
   "cell_type": "code",
   "execution_count": 13,
   "metadata": {
    "collapsed": true
   },
   "outputs": [],
   "source": [
    "b_fair = np.copy(b_neutral)\n",
    "o_fair = np.copy(o_neutral)\n",
    "bwd_fair = np.copy(bwd_neutral)\n",
    "owd_fair = np.copy(owd_neutral)"
   ]
  },
  {
   "cell_type": "code",
   "execution_count": 14,
   "metadata": {},
   "outputs": [],
   "source": [
    "number_of_iterations = 2\n",
    "history_blue_fair = np.zeros((number_of_iterations+1, 1000))\n",
    "history_orange_fair = np.zeros((number_of_iterations+1, 1000))\n",
    "cutoff_history_fair=np.zeros((number_of_iterations,2))\n",
    "\n",
    "history_blue_fair[0]=b_fair\n",
    "history_orange_fair[0]=o_fair"
   ]
  },
  {
   "cell_type": "code",
   "execution_count": 5,
   "metadata": {},
   "outputs": [],
   "source": [
    "credit_score_hist=np.zeros((200,1))\n",
    "\n",
    "for q in range(200):\n",
    "    for i in range(number_of_iterations):\n",
    "        b_neutral, o_neutral, bwd_neutral, owd_neutral, mb, mo = create_blues_and_oranges()\n",
    "        b_fair = np.copy(b_neutral)\n",
    "        o_fair = np.copy(o_neutral)\n",
    "        bwd_fair = np.copy(bwd_neutral)\n",
    "        owd_fair = np.copy(owd_neutral)\n",
    "\n",
    "\n",
    "        #optimise cutoffs without fairness\n",
    "        #what to optimise\n",
    "        to_optimise = lambda x: total_bank_profit(b_fair, o_fair, bwd_fair, \n",
    "                                                  owd_fair, x[0], x[1])\n",
    "\n",
    "        #what to constrain\n",
    "        to_constrain = lambda x: difference_bw_positive_rates(b_fair, o_fair, bwd_fair, \n",
    "                                                              owd_fair, x[0], x[1])\n",
    "\n",
    "        #initial guess\n",
    "        cutoffs = np.zeros(2)\n",
    "        cutoffs[0] = 50\n",
    "        cutoffs[1] = 50\n",
    "        #show initial objective\n",
    "    #     print(\"initial guess of\", cutoffs, \"got us a profit of \", -to_optimise(cutoffs), \"$\")\n",
    "\n",
    "        #optimise with fairness\n",
    "        a = (0, 100)\n",
    "        bounds = (a, a)\n",
    "\n",
    "        #name constraints\n",
    "        equal_true_positives = {'type': 'ineq', 'fun': to_constrain}\n",
    "        cons = ([equal_true_positives])\n",
    "\n",
    "\n",
    "\n",
    "        solution_fair = minimize(to_optimise, cutoffs, \n",
    "                            bounds=bounds, constraints=cons\n",
    "                                   , options = {'eps': 3, 'maxiter':10}\n",
    "                                  )\n",
    "\n",
    "        x_fair = solution_fair.x\n",
    "\n",
    "\n",
    "        loans_b = b_fair > x_fair[0]\n",
    "        true_positives_b = np.logical_and(loans_b, np.logical_not(bwd_fair))\n",
    "        false_positives_b = np.logical_and(loans_b, bwd_fair)\n",
    "\n",
    "\n",
    "        loans_o = o_fair > x_fair[1]\n",
    "        true_positives_o = np.logical_and(loans_o, np.logical_not(owd_fair))\n",
    "        false_positives_o = np.logical_and(loans_o, owd_fair)\n",
    "\n",
    "        profit, _, credit_score_loss = bank_profit(b_fair, bwd_fair, x_fair[0])\n",
    "        credit_score_hist[q]=credit_score_loss\n",
    "\n",
    "        b_fair[true_positives_b] +=1\n",
    "        b_fair[false_positives_b] -=2\n",
    "        b_fair[b_fair<1] = 1\n",
    "        b_fair[b_fair>99] = 99\n",
    "\n",
    "        o_fair[true_positives_o] +=1\n",
    "        o_fair[false_positives_o] -=2\n",
    "        o_fair[o_fair<1] = 1\n",
    "        o_fair[o_fair>99] = 99\n",
    "\n",
    "        history_blue_fair[i+1]=b_fair\n",
    "        history_orange_fair[i+1]=o_fair\n",
    "        cutoff_history_fair[i]=x_fair\n",
    "\n",
    "        b_defaults = np.random.randint(100, size=(1000,))\n",
    "        o_defaults = np.random.randint(100, size=(1000,))\n",
    "\n",
    "        bwd_fair = b_fair < b_defaults\n",
    "        owd_fair = o_fair < o_defaults\n",
    "    "
   ]
  },
  {
   "cell_type": "code",
   "execution_count": 12,
   "metadata": {},
   "outputs": [
    {
     "data": {
      "image/png": "[encoded data removed]",
      "text/plain": [
       "<matplotlib.figure.Figure at 0x1191b8550>"
      ]
     },
     "metadata": {},
     "output_type": "display_data"
    },
    {
     "name": "stdout",
     "output_type": "stream",
     "text": [
      "[20]\n"
     ]
    }
   ],
   "source": [
    "plt.scatter(np.arange(200),np.sort(credit_score_hist, axis=0))\n",
    "plt.show()\n",
    "print(sum(credit_score_hist < 0))"
   ]
  },
  {
   "cell_type": "code",
   "execution_count": null,
   "metadata": {
    "scrolled": true
   },
   "outputs": [],
   "source": [
    "for i in range(20):\n",
    "    print(weighted_total(history_orange_fair[i]), weighted_total(history_blue_fair[i]))"
   ]
  },
  {
   "cell_type": "code",
   "execution_count": null,
   "metadata": {},
   "outputs": [],
   "source": [
    "plt.hist([history_blue_fair[0], history_orange_fair[0]], color=['b', 'xkcd:orange'])\n",
    "plt.show()"
   ]
  },
  {
   "cell_type": "code",
   "execution_count": null,
   "metadata": {},
   "outputs": [],
   "source": [
    "plt.hist([history_blue_fair[19], history_orange_fair[19]], color=['b', 'xkcd:orange'])\n",
    "plt.show()"
   ]
  },
  {
   "cell_type": "code",
   "execution_count": null,
   "metadata": {},
   "outputs": [],
   "source": [
    "plt.hist([history_blue_unfair[19], history_orange_unfair[19]], color=['b', 'xkcd:orange'])\n",
    "plt.show()"
   ]
  },
  {
   "cell_type": "code",
   "execution_count": null,
   "metadata": {},
   "outputs": [],
   "source": [
    "print(sum(history_blue_unfair[0] < 50), sum(history_blue_fair[0] < 50))\n",
    "print(sum(history_blue_unfair[20] < 50), sum(history_blue_fair[20] < 50))"
   ]
  },
  {
   "cell_type": "code",
   "execution_count": null,
   "metadata": {
    "collapsed": true
   },
   "outputs": [],
   "source": []
  },
  {
   "cell_type": "code",
   "execution_count": 54,
   "metadata": {},
   "outputs": [],
   "source": [
    "how_many_iters_ugh = 10\n",
    "how_much_history = 10\n",
    "\n",
    "history_initials_blue = np.zeros((how_many_iters_ugh, 1000))\n",
    "history_initials_orange = np.zeros((how_many_iters_ugh, 1000))\n",
    "\n",
    "history_final_blue_fair = np.zeros((how_many_iters_ugh, how_much_history, 1000))\n",
    "history_final_orange_fair = np.zeros((how_many_iters_ugh, how_much_history, 1000))\n",
    "history_cutoff_fair = np.zeros((how_many_iters_ugh, how_much_history, 2))\n",
    "\n",
    "history_final_blue_unfair = np.zeros((how_many_iters_ugh, how_much_history, 1000))\n",
    "history_final_orange_unfair = np.zeros((how_many_iters_ugh, how_much_history, 1000))\n",
    "history_cutoff_unfair = np.zeros((how_many_iters_ugh, how_much_history, 2))"
   ]
  },
  {
   "cell_type": "code",
   "execution_count": 55,
   "metadata": {
    "collapsed": true
   },
   "outputs": [],
   "source": [
    "i = np.nan\n",
    "j=np.nan"
   ]
  },
  {
   "cell_type": "code",
   "execution_count": 56,
   "metadata": {},
   "outputs": [
    {
     "name": "stdout",
     "output_type": "stream",
     "text": [
      "0 j\n",
      "0 i1\n",
      "1 i1\n",
      "2 i1\n",
      "3 i1\n",
      "4 i1\n",
      "5 i1\n",
      "6 i1\n",
      "7 i1\n",
      "8 i1\n",
      "9 i1\n",
      "0 i2\n",
      "1 i2\n",
      "2 i2\n",
      "3 i2\n",
      "4 i2\n",
      "5 i2\n",
      "6 i2\n",
      "7 i2\n",
      "8 i2\n",
      "9 i2\n",
      "1 j\n",
      "0 i1\n",
      "1 i1\n",
      "2 i1\n",
      "3 i1\n",
      "4 i1\n",
      "5 i1\n",
      "6 i1\n",
      "7 i1\n",
      "8 i1\n",
      "9 i1\n",
      "0 i2\n",
      "1 i2\n",
      "2 i2\n",
      "3 i2\n",
      "4 i2\n",
      "5 i2\n",
      "6 i2\n",
      "7 i2\n",
      "8 i2\n",
      "9 i2\n",
      "2 j\n",
      "0 i1\n",
      "1 i1\n",
      "2 i1\n",
      "3 i1\n",
      "4 i1\n",
      "5 i1\n",
      "6 i1\n",
      "7 i1\n",
      "8 i1\n",
      "9 i1\n",
      "0 i2\n",
      "1 i2\n",
      "2 i2\n",
      "3 i2\n",
      "4 i2\n",
      "5 i2\n",
      "6 i2\n",
      "7 i2\n",
      "8 i2\n",
      "9 i2\n",
      "3 j\n",
      "0 i1\n",
      "1 i1\n",
      "2 i1\n",
      "3 i1\n",
      "4 i1\n",
      "5 i1\n",
      "6 i1\n",
      "7 i1\n",
      "8 i1\n",
      "9 i1\n",
      "0 i2\n",
      "1 i2\n",
      "2 i2\n",
      "3 i2\n",
      "4 i2\n",
      "5 i2\n",
      "6 i2\n",
      "7 i2\n",
      "8 i2\n",
      "9 i2\n",
      "4 j\n",
      "0 i1\n",
      "1 i1\n",
      "2 i1\n",
      "3 i1\n",
      "4 i1\n",
      "5 i1\n",
      "6 i1\n",
      "7 i1\n",
      "8 i1\n",
      "9 i1\n",
      "0 i2\n",
      "1 i2\n",
      "2 i2\n",
      "3 i2\n",
      "4 i2\n",
      "5 i2\n",
      "6 i2\n",
      "7 i2\n",
      "8 i2\n",
      "9 i2\n",
      "5 j\n",
      "0 i1\n",
      "1 i1\n",
      "2 i1\n",
      "3 i1\n",
      "4 i1\n",
      "5 i1\n",
      "6 i1\n",
      "7 i1\n",
      "8 i1\n",
      "9 i1\n",
      "0 i2\n",
      "1 i2\n",
      "2 i2\n",
      "3 i2\n",
      "4 i2\n",
      "5 i2\n",
      "6 i2\n",
      "7 i2\n",
      "8 i2\n",
      "9 i2\n",
      "6 j\n",
      "0 i1\n",
      "1 i1\n",
      "2 i1\n",
      "3 i1\n",
      "4 i1\n",
      "5 i1\n",
      "6 i1\n",
      "7 i1\n",
      "8 i1\n",
      "9 i1\n",
      "0 i2\n",
      "1 i2\n",
      "2 i2\n",
      "3 i2\n",
      "4 i2\n",
      "5 i2\n",
      "6 i2\n",
      "7 i2\n",
      "8 i2\n",
      "9 i2\n",
      "7 j\n",
      "0 i1\n",
      "1 i1\n",
      "2 i1\n",
      "3 i1\n",
      "4 i1\n",
      "5 i1\n",
      "6 i1\n",
      "7 i1\n",
      "8 i1\n",
      "9 i1\n",
      "0 i2\n",
      "1 i2\n",
      "2 i2\n",
      "3 i2\n",
      "4 i2\n",
      "5 i2\n",
      "6 i2\n",
      "7 i2\n",
      "8 i2\n",
      "9 i2\n",
      "8 j\n",
      "0 i1\n",
      "1 i1\n",
      "2 i1\n",
      "3 i1\n",
      "4 i1\n",
      "5 i1\n",
      "6 i1\n",
      "7 i1\n",
      "8 i1\n",
      "9 i1\n",
      "0 i2\n",
      "1 i2\n",
      "2 i2\n",
      "3 i2\n",
      "4 i2\n",
      "5 i2\n",
      "6 i2\n",
      "7 i2\n",
      "8 i2\n",
      "9 i2\n",
      "9 j\n",
      "0 i1\n",
      "1 i1\n",
      "2 i1\n",
      "3 i1\n",
      "4 i1\n",
      "5 i1\n",
      "6 i1\n",
      "7 i1\n",
      "8 i1\n",
      "9 i1\n",
      "0 i2\n",
      "1 i2\n",
      "2 i2\n",
      "3 i2\n",
      "4 i2\n",
      "5 i2\n",
      "6 i2\n",
      "7 i2\n",
      "8 i2\n",
      "9 i2\n"
     ]
    }
   ],
   "source": [
    "for j in range(how_many_iters_ugh):\n",
    "    \n",
    "    print(j, \"j\")\n",
    "    \n",
    "    b_neutral, o_neutral, bwd_neutral, owd_neutral, mb, mo = create_blues_and_oranges()\n",
    "    \n",
    "    b_unfair = np.copy(b_neutral)\n",
    "    o_unfair = np.copy(o_neutral)\n",
    "    bwd_unfair = np.copy(bwd_neutral)\n",
    "    owd_unfair = np.copy(owd_neutral)\n",
    "\n",
    "    b_fair = np.copy(b_neutral)\n",
    "    o_fair = np.copy(o_neutral)\n",
    "    bwd_fair = np.copy(bwd_neutral)\n",
    "    owd_fair = np.copy(owd_neutral)\n",
    "    \n",
    "    history_initials_blue[j] = b_neutral\n",
    "    history_initials_orange[j] = o_neutral\n",
    "    \n",
    "    for i in range(how_much_history):\n",
    "\n",
    "\n",
    "        print(i, \"i1\")\n",
    "        #optimise cutoffs without fairness\n",
    "        \n",
    "        to_optimise = lambda x: total_bank_profit(b_unfair, o_unfair, bwd_unfair, \n",
    "                                                  owd_unfair, x[0], x[1])\n",
    "\n",
    "        #initial guess\n",
    "        cutoffs = np.zeros(2)\n",
    "        cutoffs[0] = 50\n",
    "        cutoffs[1] = 50\n",
    "\n",
    "\n",
    "        #optimise without fairness\n",
    "        a = (0, 100)\n",
    "        bounds = (a, a)\n",
    "\n",
    "        solution_unfair = minimize(to_optimise, cutoffs, \n",
    "                            bounds=bounds\n",
    "                                   , options = {'eps': 3}\n",
    "                                  )\n",
    "\n",
    "        x_unfair = solution_unfair.x\n",
    "\n",
    "        loans_b = b_unfair < x_unfair[0]\n",
    "        loans_o = o_unfair < x_unfair[1]\n",
    "        true_positives_b = np.logical_and(np.logical_not(bwd_unfair), np.logical_not(loans_b))\n",
    "        false_positives_b = np.logical_and(np.logical_not(loans_b), bwd_unfair)\n",
    "\n",
    "        true_positives_o = np.logical_and(np.logical_not(owd_unfair), np.logical_not(loans_o))\n",
    "        false_positives_o = np.logical_and(np.logical_not(loans_o), owd_unfair)\n",
    "\n",
    "        b_unfair[true_positives_b] +=5\n",
    "        b_unfair[false_positives_b] -=10\n",
    "        b_unfair[b_unfair<1] = 1\n",
    "        b_unfair[b_unfair>99] = 99\n",
    "\n",
    "        o_unfair[true_positives_o] +=5\n",
    "        o_unfair[false_positives_o] -=10\n",
    "        o_unfair[o_unfair<1] = 1\n",
    "        o_unfair[o_unfair>99] = 99\n",
    "\n",
    "        history_final_blue_unfair[j, i, :]=b_unfair\n",
    "        history_final_orange_unfair[j, i, :]=o_unfair\n",
    "        history_cutoff_unfair[i]=x_unfair\n",
    "\n",
    "        bwd_unfair = b_unfair < np.random.randint(100, size=(1000,))\n",
    "        owd_unfair = o_unfair < np.random.randint(100, size=(1000,))\n",
    "    \n",
    "    for i in range(how_much_history):\n",
    "        \n",
    "        print(i, \"i2\")\n",
    "\n",
    "\n",
    "        #optimise cutoffs WITH fairness\n",
    "        #what to optimise\n",
    "        to_optimise = lambda x: total_bank_profit(b_fair, o_fair, bwd_fair, \n",
    "                                                  owd_fair, x[0], x[1])\n",
    "\n",
    "        #what to constrain\n",
    "        to_constrain = lambda x: difference_bw_positive_rates(b_fair, o_fair, bwd_fair, \n",
    "                                                              owd_fair, x[0], x[1])\n",
    "\n",
    "        #initial guess\n",
    "        cutoffs = np.zeros(2)\n",
    "        cutoffs[0] = 50\n",
    "        cutoffs[1] = 50\n",
    "\n",
    "        a = (0, 100)\n",
    "        bounds = (a, a)\n",
    "\n",
    "        #name constraints\n",
    "        equal_true_positives = {'type': 'ineq', 'fun': to_constrain}\n",
    "        cons = ([equal_true_positives])\n",
    "\n",
    "\n",
    "\n",
    "        solution_fair = minimize(to_optimise, cutoffs, \n",
    "                            bounds=bounds, constraints=cons\n",
    "                                   , options = {'eps': 3, 'maxiter':10}\n",
    "                                  )\n",
    "\n",
    "        x_fair = solution_fair.x\n",
    "\n",
    "\n",
    "        loans_b = b_fair < x_fair[0]\n",
    "        true_positives_b = np.logical_and(np.logical_not(loans_b), np.logical_not(bwd_fair))\n",
    "        false_positives_b = np.logical_and(np.logical_not(loans_b), bwd_fair)\n",
    "\n",
    "\n",
    "        loans_o = o_fair < x_fair[1]\n",
    "        true_positives_o = np.logical_and(np.logical_not(loans_o), np.logical_not(owd_fair))\n",
    "        false_positives_o = np.logical_and(np.logical_not(loans_o), owd_fair)\n",
    "\n",
    "        b_fair[true_positives_b] +=5\n",
    "        b_fair[false_positives_b] -=10\n",
    "        b_fair[b_fair<1] = 1\n",
    "        b_fair[b_fair>99] = 99\n",
    "\n",
    "        o_fair[true_positives_o] +=5\n",
    "        o_fair[false_positives_o] -=10\n",
    "        o_fair[o_fair<1] = 1\n",
    "        o_fair[o_fair>99] = 99\n",
    "\n",
    "#         b_fair-=0.5\n",
    "#         o_fair-=0.5\n",
    "\n",
    "        history_final_blue_fair[j,i,:]=b_fair\n",
    "        history_final_orange_fair[j,i,:]=o_fair\n",
    "        history_cutoff_fair[j,i,:]=x_fair\n",
    "        \n",
    "\n",
    "        bwd_fair = b_fair < np.random.randint(100, size=(1000,))\n",
    "        owd_fair = o_fair < np.random.randint(100, size=(1000,))\n",
    "        \n"
   ]
  },
  {
   "cell_type": "markdown",
   "metadata": {},
   "source": [
    "Infrastructure to analyse stuff"
   ]
  },
  {
   "cell_type": "code",
   "execution_count": null,
   "metadata": {
    "collapsed": true
   },
   "outputs": [],
   "source": [
    "history_initials_blue\n",
    "history_initials_orange\n",
    "\n",
    "history_final_blue_fair\n",
    "history_final_orange_fair\n",
    "history_cutoff_fair\n",
    "\n",
    "history_final_blue_unfair\n",
    "history_final_orange_unfair\n",
    "history_cutoff_unfair"
   ]
  },
  {
   "cell_type": "code",
   "execution_count": 45,
   "metadata": {},
   "outputs": [
    {
     "data": {
      "image/png": "[encoded data removed]",
      "text/plain": [
       "<matplotlib.figure.Figure at 0x118d639b0>"
      ]
     },
     "metadata": {},
     "output_type": "display_data"
    }
   ],
   "source": [
    "plt.hist(history_initials_blue[0, :])\n",
    "plt.show()"
   ]
  },
  {
   "cell_type": "code",
   "execution_count": 46,
   "metadata": {},
   "outputs": [
    {
     "data": {
      "image/png": "[encoded data removed]",
      "text/plain": [
       "<matplotlib.figure.Figure at 0x118d63780>"
      ]
     },
     "metadata": {},
     "output_type": "display_data"
    }
   ],
   "source": [
    "plt.hist(history_final_blue_fair[0, 2, :])\n",
    "plt.show()"
   ]
  },
  {
   "cell_type": "code",
   "execution_count": 47,
   "metadata": {},
   "outputs": [
    {
     "data": {
      "image/png": "[encoded data removed]",
      "text/plain": [
       "<matplotlib.figure.Figure at 0x11940b208>"
      ]
     },
     "metadata": {},
     "output_type": "display_data"
    }
   ],
   "source": [
    "plt.hist(history_final_blue_unfair[0, 2, :])\n",
    "plt.show()"
   ]
  },
  {
   "cell_type": "code",
   "execution_count": 52,
   "metadata": {},
   "outputs": [
    {
     "data": {
      "text/plain": [
       "array([41.638])"
      ]
     },
     "execution_count": 52,
     "metadata": {},
     "output_type": "execute_result"
    }
   ],
   "source": [
    "weighted_total(history_final_blue_unfair[0,2,:])"
   ]
  },
  {
   "cell_type": "code",
   "execution_count": 53,
   "metadata": {},
   "outputs": [
    {
     "data": {
      "text/plain": [
       "array([42.071])"
      ]
     },
     "execution_count": 53,
     "metadata": {},
     "output_type": "execute_result"
    }
   ],
   "source": [
    "weighted_total(history_final_blue_fair[0,2,:])"
   ]
  },
  {
   "cell_type": "code",
   "execution_count": 117,
   "metadata": {
    "collapsed": true
   },
   "outputs": [],
   "source": [
    "fairs_blue = np.zeros((how_many_iters_ugh, how_much_history))\n",
    "unfairs_blue = np.zeros((how_many_iters_ugh, how_much_history))\n",
    "fairs_orange = np.zeros((how_many_iters_ugh, how_much_history))\n",
    "unfairs_orange = np.zeros((how_many_iters_ugh, how_much_history))"
   ]
  },
  {
   "cell_type": "code",
   "execution_count": 118,
   "metadata": {
    "scrolled": true
   },
   "outputs": [],
   "source": [
    "for j in range(how_many_iters_ugh):    \n",
    "    for i in range(how_much_history):\n",
    "        \n",
    "        fairs_blue[j,i] = weighted_total(history_final_blue_fair[j,i,:])\n",
    "        unfairs_blue[j,i] =  weighted_total(history_final_blue_unfair[j,i,:])\n",
    "        fairs_orange[j,i] = weighted_total(history_final_orange_fair[j,i,:])\n",
    "        unfairs_orange[j,i] =  weighted_total(history_final_orange_unfair[j,i,:])"
   ]
  },
  {
   "cell_type": "code",
   "execution_count": 241,
   "metadata": {},
   "outputs": [
    {
     "name": "stdout",
     "output_type": "stream",
     "text": [
      "[0.78431373 0.78431373 1.         1.        ]\n"
     ]
    }
   ],
   "source": [
    "colours = np.zeros((how_many_iters_ugh*how_much_history, 4))\n",
    "colours[:,3] = 1\n",
    "colours[:,0:2] = 200/255\n",
    "colours[:,2] = 255/255\n",
    "for i in range(how_much_history*how_much_history):\n",
    "    colours[i,0:2]-= (i % how_much_history)*200/255/how_much_history\n",
    "\n",
    "print(colours[10])"
   ]
  },
  {
   "cell_type": "code",
   "execution_count": 260,
   "metadata": {
    "scrolled": true
   },
   "outputs": [
    {
     "data": {
      "image/png": "[encoded data removed]",
      "text/plain": [
       "<matplotlib.figure.Figure at 0x11f28f748>"
      ]
     },
     "metadata": {},
     "output_type": "display_data"
    }
   ],
   "source": [
    "legend_elements = [Line2D([0], [0], marker='o', color=(234/255, 234/255, 242/255), label='1st iteration',\n",
    "                          markerfacecolor=(200/255,200/255,255/255), markersize=10),\n",
    "                   Line2D([0], [0], marker='o', color=(234/255, 234/255, 242/255), label='5th iteration',\n",
    "                          markerfacecolor=(100/255,100/255,255/255), markersize=10),\n",
    "                   Line2D([0], [0], marker='o', color=(234/255, 234/255, 242/255), label='10th iteration',\n",
    "                          markerfacecolor=(0/255,0/255,255/255), markersize=10),\n",
    "                   Line2D([0], [0], label='line y=x', color='black', markersize=3, linewidth=1, alpha=0.5)\n",
    "                  ]\n",
    "\n",
    "fig, ax = plt.subplots()\n",
    "fig.set_dpi(150)\n",
    "# fig = plt.scatter(fairs_blue, unfairs_blue, c=colours)\n",
    "ax.scatter(fairs_blue, unfairs_blue, c=colours)\n",
    "ax.plot(np.linspace(30,58), np.linspace(30,58), linewidth=1, c='black', alpha=0.5)\n",
    "ax.set_ylabel(\"$\\mu_o$ without fairness constraint\")\n",
    "ax.set_xlabel(\"$\\mu_o$ with disparate impact fairness constraint\")\n",
    "ax.legend(handles=legend_elements, loc='best')\n",
    "plt.savefig(\"plots/evolution_blues.png\")\n",
    "plt.show()"
   ]
  },
  {
   "cell_type": "code",
   "execution_count": 249,
   "metadata": {},
   "outputs": [
    {
     "data": {
      "image/png": "[encoded data removed]",
      "text/plain": [
       "<matplotlib.figure.Figure at 0x11915a048>"
      ]
     },
     "metadata": {},
     "output_type": "display_data"
    }
   ],
   "source": [
    "colours_orange = np.zeros((how_many_iters_ugh*how_much_history, 4))\n",
    "colours_orange[:,3] = 1\n",
    "colours_orange[:,0] = 255/255\n",
    "colours_orange[:,1] = 200/255\n",
    "colours_orange[:,2] = 0/255\n",
    "for i in range(how_much_history*how_much_history):\n",
    "    colours_orange[i,1]-= (i % how_much_history)*200/255/how_much_history\n",
    "\n",
    "legend_elements = [Line2D([0], [0], marker='o', color=(234/255, 234/255, 242/255), label='1st iteration',\n",
    "                          markerfacecolor=(255/255,200/255,0/255), markersize=10),\n",
    "                   Line2D([0], [0], marker='o', color=(234/255, 234/255, 242/255), label='5th iteration',\n",
    "                          markerfacecolor=(255/255,100/255,0/255), markersize=10),\n",
    "                   Line2D([0], [0], marker='o', color=(234/255, 234/255, 242/255), label='10th iteration',\n",
    "                          markerfacecolor=(255/255,0/255,0/255), markersize=10),\n",
    "                  ]\n",
    "\n",
    "fig, ax = plt.subplots()\n",
    "fig.set_dpi(150)\n",
    "# fig = plt.scatter(fairs_blue, unfairs_blue, c=colours)\n",
    "ax.scatter(fairs_orange, unfairs_orange, c=colours_orange)\n",
    "ax.set_ylabel(\"$\\mu_1$ without fairness constraint\")\n",
    "ax.set_xlabel(\"$\\mu_1$ with disparate impact fairness constraint\")\n",
    "ax.legend(handles=legend_elements, loc='best')\n",
    "plt.savefig(\"plots/evolution_oranges.png\")\n",
    "plt.show()"
   ]
  },
  {
   "cell_type": "code",
   "execution_count": 99,
   "metadata": {},
   "outputs": [
    {
     "data": {
      "image/png": "[encoded data removed]",
      "text/plain": [
       "<matplotlib.figure.Figure at 0x11db4e0f0>"
      ]
     },
     "metadata": {},
     "output_type": "display_data"
    }
   ],
   "source": [
    "plt.hist(history_final_blue_fair[9,0,:])\n",
    "plt.show()"
   ]
  },
  {
   "cell_type": "code",
   "execution_count": 62,
   "metadata": {},
   "outputs": [
    {
     "data": {
      "image/png": "[encoded data removed]",
      "text/plain": [
       "<matplotlib.figure.Figure at 0x118d63c50>"
      ]
     },
     "metadata": {},
     "output_type": "display_data"
    }
   ],
   "source": [
    "plt.hist(history_final_orange_fair[9,0,:])\n",
    "plt.show()"
   ]
  },
  {
   "cell_type": "code",
   "execution_count": null,
   "metadata": {
    "collapsed": true
   },
   "outputs": [],
   "source": []
  }
 ],
 "metadata": {
  "kernelspec": {
   "display_name": "Python 3",
   "language": "python",
   "name": "python3"
  },
  "language_info": {
   "codemirror_mode": {
    "name": "ipython",
    "version": 3
   },
   "file_extension": ".py",
   "mimetype": "text/x-python",
   "name": "python",
   "nbconvert_exporter": "python",
   "pygments_lexer": "ipython3",
   "version": "3.6.2"
  }
 },
 "nbformat": 4,
 "nbformat_minor": 2
}
