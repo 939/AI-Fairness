{
 "cells": [
  {
   "cell_type": "code",
   "execution_count": 59,
   "metadata": {
    "collapsed": true
   },
   "outputs": [],
   "source": [
    "#import stuff, and set seaborn up\n",
    "from scipy.stats import norm\n",
    "import numpy as np\n",
    "import seaborn as sns\n",
    "import matplotlib.pyplot as plt\n",
    "sns.set()\n",
    "import pandas as pd\n",
    "import time\n",
    "from scipy.optimize import minimize"
   ]
  },
  {
   "cell_type": "markdown",
   "metadata": {},
   "source": [
    "# All the functions"
   ]
  },
  {
   "cell_type": "code",
   "execution_count": 91,
   "metadata": {
    "collapsed": true
   },
   "outputs": [],
   "source": [
    "#define functions\n",
    "\n",
    "#create function that finds mena\n",
    "def mean_pop(a):\n",
    "    mean = 0\n",
    "    for i in range(len(a)):\n",
    "        mean += a[i]*i\n",
    "\n",
    "    mean = int(mean/sum(a))\n",
    "\n",
    "    return mean\n",
    "\n",
    "#creates random distributions\n",
    "def brownian_population(delta=2, dt=1, n=100, x=0):\n",
    "\n",
    "    history=np.zeros(n)\n",
    "    \n",
    "    # Iterate to compute the steps of the Brownian motion.\n",
    "    for i in range(n):\n",
    "        x = x + norm.rvs(scale=delta**2*dt)\n",
    "        history[i] = x\n",
    "    \n",
    "    history = history+np.abs(np.min(history))\n",
    "    \n",
    "    original_hist = np.copy(history)\n",
    "    old_mean = mean_pop(original_hist)\n",
    "    \n",
    "    history = np.round(999*history/sum(history))\n",
    "    \n",
    "    mean = np.round(np.average(history))\n",
    "    \n",
    "    if sum(history) < 999:\n",
    "        history[0] += 999-sum(history)\n",
    "        \n",
    "    elif sum(history) > 999:  \n",
    "        history[np.argmax(history)] -= -999+sum(history)        \n",
    "    \n",
    "\n",
    "    return history, old_mean, original_hist\n",
    "\n",
    "#create function that finds true positive rates as a function of the cutoff\n",
    "def true_positive_rate(population, population_that_defaulted, cutoff):\n",
    "    population_bank_thinks_defaulted = population < cutoff\n",
    "    \n",
    "    true_positives = np.logical_and(np.logical_not(population_that_defaulted), \n",
    "                                    np.logical_not(population_bank_thinks_defaulted))\n",
    "    \n",
    "    number_true_positives = sum(true_positives)\n",
    "    \n",
    "    false_negatives = np.logical_and(np.logical_not(population_that_defaulted), \n",
    "                                     population_bank_thinks_defaulted)\n",
    "    \n",
    "    number_false_negatives = sum(false_negatives) \n",
    "    \n",
    "    true_positive_rate = number_true_positives/(number_true_positives+number_false_negatives)\n",
    "    \n",
    "    return true_positive_rate\n",
    "\n",
    "def difference_bw_positive_rates(pop1, pop2, pop1_that_defaulted, \n",
    "                                 pop2_that_defaulted, cutoff1, cutoff2, strictness=0.01):\n",
    "    true_positive_rate_group1 = true_positive_rate(pop1, pop1_that_defaulted, cutoff1)\n",
    "    true_positive_rate_group2 = true_positive_rate(pop2, pop2_that_defaulted, cutoff2)\n",
    "    # for the optimiser's constraints\n",
    "    return strictness - np.abs(true_positive_rate_group1-true_positive_rate_group2)\n",
    "\n",
    "def difference_bw_selection_rates(pop1, pop2, pop1_that_defaulted, \n",
    "                                  pop2_that_defaulted, cutoff1, cutoff2, strictness=0.01):\n",
    "    \n",
    "    _, selection_rate_group1, _ = bank_profit(pop1, pop1_that_defaulted, cutoff1)\n",
    "    _, selection_rate_group2, _ = bank_profit(pop2, pop2_that_defaulted, cutoff2)\n",
    "    \n",
    "    return strictness - np.abs(selection_rate_group1-selection_rate_group2)\n",
    "\n",
    "#create function that finds bank profit as a function of the cutoff\n",
    "def bank_profit(population, population_that_defaulted, cutoff, \n",
    "                revenue_factor=1, cost_factor=2, credit_upside=1, credit_downside=2):\n",
    "    \n",
    "    population_bank_thinks_defaulted = population < cutoff\n",
    "    \n",
    "    true_positives = np.logical_and(np.logical_not(population_that_defaulted), \n",
    "                                    np.logical_not(population_bank_thinks_defaulted))\n",
    "    \n",
    "    paid_back = sum(true_positives)\n",
    "    false_positives = np.logical_and(population_that_defaulted, \n",
    "                                     np.logical_not(population_bank_thinks_defaulted))\n",
    "    defaulted = sum(false_positives)\n",
    "    \n",
    "    profit = paid_back*revenue_factor - defaulted*cost_factor\n",
    "    selection_rate = sum(np.logical_not(population_bank_thinks_defaulted))/len(population)\n",
    "    \n",
    "    credit_change = (paid_back*credit_upside - defaulted*credit_downside)\n",
    "\n",
    "    \n",
    "    return profit, selection_rate, credit_change\n",
    "\n",
    "def total_bank_profit(pop1, pop2, pop1_that_defaulted, pop2_that_defaulted, cutoff1, cutoff2, \n",
    "                      revenue_factor=1, cost_factor=2, credit_upside=1, credit_downside=2):\n",
    "    \n",
    "    profit_group1, _, _ = bank_profit(pop1, pop1_that_defaulted, cutoff1)\n",
    "    profit_group2, _, _ = bank_profit(pop2, pop2_that_defaulted, cutoff2)\n",
    "    \n",
    "    return -(profit_group1 + profit_group2)\n",
    "\n",
    "def create_blues_and_oranges():\n",
    "    a, mean_a, _ = brownian_population()\n",
    "    b, mean_b, _ = brownian_population()\n",
    "\n",
    "    if mean_a >= mean_b:\n",
    "        blues = np.copy(b)\n",
    "        oranges = np.copy(a)\n",
    "    elif mean_a < mean_b:\n",
    "        blues = np.copy(a)\n",
    "        oranges = np.copy(b)\n",
    "    else:\n",
    "        print(\"um\")\n",
    "\n",
    "    true_blues = np.zeros(1)\n",
    "    true_oranges = np.zeros(1)\n",
    "    \n",
    "    for i in range(100):\n",
    "        num_blues = int(blues[i])\n",
    "        num_oranges = int(oranges[i])\n",
    "        \n",
    "        if num_blues >= 0 and num_oranges >= 0:\n",
    "\n",
    "            elements_blues = np.multiply(np.ones(num_blues),i)\n",
    "            elements_oranges = np.multiply(np.ones(num_oranges), i)\n",
    "\n",
    "            true_blues = np.concatenate((true_blues, elements_blues), axis=0)\n",
    "            true_oranges = np.concatenate((true_oranges, elements_oranges), axis=0)\n",
    "\n",
    "    #determine who defaulted\n",
    "    blues_who_defaulted = true_blues < np.random.randint(100, size=(1000,))\n",
    "    oranges_who_defaulted = true_oranges < np.random.randint(100, size=(1000,))\n",
    "\n",
    "    blues = true_blues\n",
    "    oranges = true_oranges\n",
    "    \n",
    "    return blues, oranges, blues_who_defaulted, oranges_who_defaulted, mean_a, mean_b\n",
    "    "
   ]
  },
  {
   "cell_type": "markdown",
   "metadata": {},
   "source": [
    "## Find a way to create populations"
   ]
  },
  {
   "cell_type": "code",
   "execution_count": 92,
   "metadata": {
    "scrolled": true
   },
   "outputs": [],
   "source": [
    "a, mean_a, _ = brownian_population()\n",
    "b, mean_b, _ = brownian_population()\n",
    "\n",
    "if mean_a > mean_b:\n",
    "    blues = np.copy(b)\n",
    "    oranges = np.copy(a)\n",
    "else:\n",
    "    blues = np.copy(a)\n",
    "    oranges = np.copy(b)\n",
    "    \n",
    "true_blues = np.zeros(1)\n",
    "true_oranges = np.zeros(1)\n",
    "\n",
    "for i in range(100):\n",
    "    num_blues = int(blues[i])\n",
    "    num_oranges = int(oranges[i])\n",
    "    elements_blues = np.multiply(np.ones(num_blues),i)\n",
    "    elements_oranges = np.multiply(np.ones(num_oranges), i)\n",
    "    \n",
    "    true_blues = np.concatenate((true_blues, elements_blues), axis=0)\n",
    "    true_oranges = np.concatenate((true_oranges, elements_oranges), axis=0)\n",
    "    \n",
    "#determine who defaulted\n",
    "blues_who_defaulted = true_blues.T < np.random.randint(100, size=(1000,))\n",
    "oranges_who_defaulted = true_oranges.T < np.random.randint(100, size=(1000,))\n",
    "\n",
    "blues = true_blues.T\n",
    "oranges = true_oranges.T"
   ]
  },
  {
   "cell_type": "markdown",
   "metadata": {},
   "source": [
    "## Plot populations"
   ]
  },
  {
   "cell_type": "code",
   "execution_count": 93,
   "metadata": {},
   "outputs": [
    {
     "data": {
      "image/png": "[encoded data removed]",
      "text/plain": [
       "<matplotlib.figure.Figure at 0x1139c3e80>"
      ]
     },
     "metadata": {},
     "output_type": "display_data"
    }
   ],
   "source": [
    "plt.subplot(121)\n",
    "plt.hist(oranges, bins=10, color=\"orange\")\n",
    "plt.xlabel(\"credit score\")\n",
    "plt.title(\"orange population\")\n",
    "plt.subplot(122)\n",
    "plt.hist(blues, bins=10, color=\"b\")\n",
    "plt.xlabel(\"credit score\")\n",
    "plt.title(\"blue population\")\n",
    "plt.show()\n"
   ]
  },
  {
   "cell_type": "code",
   "execution_count": 94,
   "metadata": {},
   "outputs": [
    {
     "data": {
      "image/png": "[encoded data removed]",
      "text/plain": [
       "<matplotlib.figure.Figure at 0x113c23908>"
      ]
     },
     "metadata": {},
     "output_type": "display_data"
    }
   ],
   "source": [
    "plt.subplot(121)\n",
    "plt.hist([true_oranges[np.logical_not(oranges_who_defaulted)],true_oranges[oranges_who_defaulted]], \n",
    "         stacked=True, bins=20, color=(\"#ff9900\", \"#ffd782\"))\n",
    "plt.legend((\"pays back\", \"defaults\"))\n",
    "plt.title(\"orange population\")\n",
    "plt.xlabel(\"credit score\")\n",
    "plt.subplot(122)\n",
    "plt.hist([true_blues[np.logical_not(blues_who_defaulted)],true_blues[blues_who_defaulted]], \n",
    "         stacked=True, bins=20, color=(\"#0021ff\", \"#41cdf4\"))\n",
    "plt.legend((\"pays back\", \"defaults\"))\n",
    "plt.title(\"blue population\")\n",
    "plt.xlabel(\"credit score\")\n",
    "plt.show()"
   ]
  },
  {
   "cell_type": "markdown",
   "metadata": {},
   "source": [
    "## Optimise for the first time"
   ]
  },
  {
   "cell_type": "code",
   "execution_count": 95,
   "metadata": {},
   "outputs": [
    {
     "name": "stdout",
     "output_type": "stream",
     "text": [
      "initial guess of [50. 50.] got us a profit of  554 $\n"
     ]
    }
   ],
   "source": [
    "#what to optimise\n",
    "to_optimise = lambda x: total_bank_profit(blues, oranges, blues_who_defaulted, \n",
    "                                          oranges_who_defaulted, x[0], x[1])\n",
    "\n",
    "to_constrain = lambda x: difference_bw_positive_rates(blues, oranges, blues_who_defaulted, \n",
    "                                                      oranges_who_defaulted, x[0], x[1])\n",
    "\n",
    "#initial guess\n",
    "cutoffs = np.zeros(2)\n",
    "cutoffs[0] = 50\n",
    "cutoffs[1] = 50\n",
    "#show initial objective\n",
    "print(\"initial guess of\", cutoffs, \"got us a profit of \", -to_optimise(cutoffs), \"$\")"
   ]
  },
  {
   "cell_type": "markdown",
   "metadata": {},
   "source": [
    "### With fairness"
   ]
  },
  {
   "cell_type": "code",
   "execution_count": 96,
   "metadata": {},
   "outputs": [],
   "source": [
    "#optimise with fairness\n",
    "a = (0, 100)\n",
    "bounds = (a, a)\n",
    "equal_true_positives = {'type': 'ineq', 'fun': to_constrain}\n",
    "cons = ([equal_true_positives])\n",
    "\n",
    "solution = minimize(to_optimise, cutoffs, \n",
    "#                     method='SLSQP', \n",
    "                    constraints = cons,\n",
    "                    bounds=bounds, \n",
    "                    options = {'eps': 3})\n",
    "\n",
    "\n",
    "x_fair = solution.x"
   ]
  },
  {
   "cell_type": "code",
   "execution_count": 97,
   "metadata": {},
   "outputs": [
    {
     "name": "stdout",
     "output_type": "stream",
     "text": [
      "[55.4249762  55.08396995]\n",
      "final guess of [55.4249762  55.08396995] got us a profit of  602 $\n",
      "total credit score change for blues: 299 || total credit score change for oranges: 303\n"
     ]
    }
   ],
   "source": [
    "print(x_fair)\n",
    "\n",
    "#final solution got us a profit of:\n",
    "print(\"final guess of\", x_fair, \"got us a profit of \", -to_optimise(x_fair), \"$\")\n",
    "\n",
    "_, _, blues_credit_change = bank_profit(blues, blues_who_defaulted, x_fair[0])\n",
    "_, _, oranges_credit_change = bank_profit(oranges, oranges_who_defaulted, x_fair[1])\n",
    "#final solution got us a change in credit score of:\n",
    "print(\"total credit score change for blues:\", blues_credit_change, \n",
    "      \"|| total credit score change for oranges:\", oranges_credit_change)"
   ]
  },
  {
   "cell_type": "markdown",
   "metadata": {},
   "source": [
    "### Without fairness"
   ]
  },
  {
   "cell_type": "code",
   "execution_count": 98,
   "metadata": {
    "collapsed": true
   },
   "outputs": [],
   "source": [
    "#optimise without fairness\n",
    "a = (0, 100)\n",
    "bounds = (a, a)\n",
    "\n",
    "solution_unfair = minimize(to_optimise, cutoffs, method='SLSQP',\n",
    "                    bounds=bounds, options = {'eps': 3})\n",
    "\n",
    "x_unfair = solution_unfair.x"
   ]
  },
  {
   "cell_type": "code",
   "execution_count": 99,
   "metadata": {},
   "outputs": [
    {
     "name": "stdout",
     "output_type": "stream",
     "text": [
      "final guess of [62.81162782 57.91372207] got us a profit of  626 $\n",
      "total credit score change for blues: 316 || total credit score change for oranges: 310\n"
     ]
    }
   ],
   "source": [
    "#final solution got us a profit of:\n",
    "print(\"final guess of\", x_unfair, \"got us a profit of \", -to_optimise(x_unfair), \"$\")\n",
    "\n",
    "_, _, blues_credit_change = bank_profit(blues, blues_who_defaulted, x_unfair[0])\n",
    "_, _, oranges_credit_change = bank_profit(oranges, oranges_who_defaulted, x_unfair[1])\n",
    "#final solution got us a change in credit score of:\n",
    "print(\"total credit score change for blues:\", blues_credit_change, \n",
    "      \"|| total credit score change for oranges:\", oranges_credit_change)"
   ]
  },
  {
   "cell_type": "code",
   "execution_count": null,
   "metadata": {
    "collapsed": true
   },
   "outputs": [],
   "source": []
  },
  {
   "cell_type": "code",
   "execution_count": null,
   "metadata": {
    "collapsed": true
   },
   "outputs": [],
   "source": []
  },
  {
   "cell_type": "code",
   "execution_count": null,
   "metadata": {
    "collapsed": true
   },
   "outputs": [],
   "source": []
  },
  {
   "cell_type": "code",
   "execution_count": null,
   "metadata": {
    "collapsed": true
   },
   "outputs": [],
   "source": []
  },
  {
   "cell_type": "code",
   "execution_count": null,
   "metadata": {
    "collapsed": true
   },
   "outputs": [],
   "source": []
  },
  {
   "cell_type": "code",
   "execution_count": null,
   "metadata": {
    "collapsed": true
   },
   "outputs": [],
   "source": []
  },
  {
   "cell_type": "code",
   "execution_count": null,
   "metadata": {
    "collapsed": true
   },
   "outputs": [],
   "source": []
  },
  {
   "cell_type": "code",
   "execution_count": null,
   "metadata": {
    "collapsed": true
   },
   "outputs": [],
   "source": []
  },
  {
   "cell_type": "markdown",
   "metadata": {},
   "source": [
    "# Do this all systematically\n",
    "\n",
    "## 1. With BOTH!"
   ]
  },
  {
   "cell_type": "code",
   "execution_count": 103,
   "metadata": {},
   "outputs": [
    {
     "name": "stdout",
     "output_type": "stream",
     "text": [
      "iteration 0 (which took 4.541299819946289 seconds).\n",
      "0\n",
      "1\n",
      "2\n",
      "3\n",
      "4\n",
      "5\n",
      "6\n",
      "7\n",
      "8\n",
      "9\n",
      "10\n",
      "11\n",
      "12\n",
      "13\n",
      "14\n",
      "15\n",
      "16\n",
      "17\n",
      "18\n",
      "19\n",
      "20\n",
      "21\n",
      "22\n",
      "23\n",
      "24\n",
      "25\n",
      "26\n",
      "27\n",
      "28\n",
      "29\n",
      "30\n",
      "31\n",
      "32\n",
      "33\n",
      "34\n",
      "35\n",
      "36\n",
      "37\n",
      "38\n",
      "39\n",
      "40\n",
      "41\n",
      "42\n",
      "43\n",
      "44\n",
      "45\n",
      "46\n",
      "47\n",
      "48\n",
      "49\n",
      "iteration 50 (which took 1.536733865737915 seconds).\n",
      "50\n",
      "51\n",
      "52\n",
      "53\n",
      "54\n",
      "55\n",
      "56\n",
      "57\n",
      "58\n",
      "59\n",
      "60\n",
      "61\n",
      "62\n",
      "63\n",
      "64\n",
      "65\n",
      "66\n",
      "67\n",
      "68\n",
      "69\n",
      "70\n",
      "71\n",
      "72\n",
      "73\n",
      "74\n",
      "75\n",
      "76\n",
      "77\n",
      "78\n",
      "79\n",
      "80\n",
      "81\n",
      "82\n",
      "83\n",
      "84\n",
      "85\n",
      "86\n",
      "87\n",
      "88\n",
      "89\n",
      "90\n",
      "91\n",
      "92\n",
      "93\n",
      "94\n",
      "95\n",
      "96\n",
      "97\n",
      "98\n",
      "99\n",
      "iteration 100 (which took 1.294814109802246 seconds).\n",
      "100\n",
      "101\n",
      "102\n",
      "103\n",
      "104\n",
      "105\n",
      "106\n",
      "107\n",
      "108\n",
      "109\n",
      "110\n",
      "111\n",
      "112\n",
      "113\n",
      "114\n",
      "115\n",
      "116\n",
      "117\n",
      "118\n",
      "119\n",
      "120\n",
      "121\n",
      "122\n",
      "123\n",
      "124\n",
      "125\n",
      "126\n",
      "127\n",
      "128\n",
      "129\n",
      "130\n",
      "131\n",
      "132\n",
      "133\n",
      "134\n",
      "135\n",
      "136\n",
      "137\n",
      "138\n",
      "139\n",
      "140\n",
      "141\n",
      "142\n",
      "143\n",
      "144\n",
      "145\n",
      "146\n",
      "147\n",
      "148\n",
      "149\n",
      "iteration 150 (which took 1.274799108505249 seconds).\n",
      "150\n",
      "151\n",
      "152\n",
      "153\n",
      "154\n",
      "155\n",
      "156\n",
      "157\n",
      "158\n",
      "159\n",
      "160\n",
      "161\n",
      "162\n",
      "163\n",
      "164\n",
      "165\n",
      "166\n",
      "167\n",
      "168\n",
      "169\n",
      "170\n",
      "171\n",
      "172\n",
      "173\n",
      "174\n",
      "175\n",
      "176\n",
      "177\n",
      "178\n",
      "179\n",
      "180\n",
      "181\n",
      "182\n",
      "183\n",
      "184\n",
      "185\n",
      "186\n",
      "187\n",
      "188\n",
      "189\n",
      "190\n",
      "191\n",
      "192\n",
      "193\n",
      "194\n",
      "195\n",
      "196\n",
      "197\n",
      "198\n",
      "199\n",
      "This took long to run, 10.047728983561198 minutes to be exact.\n"
     ]
    }
   ],
   "source": [
    "\n",
    "num_its = 200\n",
    "\n",
    "profit_eq_opt = np.zeros(num_its)\n",
    "credit_change_blues_eq_opt = np.zeros(num_its)\n",
    "credit_change_oranges_eq_opt = np.zeros(num_its)\n",
    "cutoffs_eq_opt = np.zeros((num_its, 2))\n",
    "\n",
    "population_log_blues = np.zeros((num_its, 1000))\n",
    "population_log_oranges = np.zeros((num_its, 1000))\n",
    "\n",
    "profit_no_fairness = np.zeros(num_its)\n",
    "credit_change_blues_no_fairness = np.zeros(num_its)\n",
    "credit_change_oranges_no_fairness = np.zeros(num_its)\n",
    "cutoffs_no_fairness = np.zeros((num_its, 2))\n",
    "\n",
    "#initial guess\n",
    "cutoffs = np.zeros(2)\n",
    "cutoffs[0] = 50\n",
    "cutoffs[1] = 50\n",
    "\n",
    "\n",
    "\n",
    "#impose bounds\n",
    "a = (0, 100)\n",
    "bounds = (a, a)\n",
    "\n",
    "how_long_did_it_take = time.time()\n",
    "\n",
    "for i in range(num_its):\n",
    "    t = time.time()\n",
    "    \n",
    "\n",
    "    \n",
    "    blues, oranges, blues_who_defaulted, oranges_who_defaulted, _, _ = create_blues_and_oranges()\n",
    "    \n",
    "    \n",
    "    \n",
    "    population_log_blues[i] = blues\n",
    "    population_log_oranges[i] = oranges\n",
    "    \n",
    "    to_constrain = lambda x: difference_bw_positive_rates(blues, oranges, blues_who_defaulted, \n",
    "                                                          oranges_who_defaulted, x[0], x[1])\n",
    "    \n",
    "    \n",
    "    \n",
    "    #optimise bank profit\n",
    "    to_optimise = lambda x: total_bank_profit(blues, oranges, blues_who_defaulted, \n",
    "                                      oranges_who_defaulted, x[0], x[1])\n",
    "    \n",
    "    \n",
    "    equal_true_positives = {'type': 'ineq', 'fun': to_constrain}\n",
    "    cons = ([equal_true_positives])\n",
    "    \n",
    "    solution_fair = minimize(to_optimise, cutoffs, method='SLSQP', \n",
    "                        constraints = cons, bounds=bounds, options = {'eps': 3, 'maxiter': 10})\n",
    "\n",
    "    x_fair = solution_fair.x\n",
    "    \n",
    "    cutoffs_eq_opt[i] = x_fair\n",
    "\n",
    "    profit_eq_opt[i] = -to_optimise(x_fair)\n",
    "    _, _, credit_change_blues_eq_opt[i] = bank_profit(blues, blues_who_defaulted, x_fair[0])\n",
    "    _, _, credit_change_oranges_eq_opt[i] = bank_profit(oranges, oranges_who_defaulted, x_fair[1])\n",
    "    \n",
    "    solution_unfair = minimize(to_optimise, cutoffs, method='SLSQP', \n",
    "                        bounds=bounds, options = {'eps': 3})\n",
    "\n",
    "    x_unfair = solution_unfair.x\n",
    "    \n",
    "    profit_no_fairness[i] = -to_optimise(x_unfair)\n",
    "    _, _, credit_change_blues_no_fairness[i] = bank_profit(blues, blues_who_defaulted, x_unfair[0])\n",
    "    _, _, credit_change_oranges_no_fairness[i] = bank_profit(oranges, oranges_who_defaulted, x_unfair[1])\n",
    "    \n",
    "    cutoffs_no_fairness[i] = x_unfair\n",
    "    \n",
    "    if (i % 50 == 0):\n",
    "        print(\"iteration\", i, \"(which took\", time.time() - t, \"seconds).\")\n",
    "    \n",
    "    print(i)\n",
    "\n",
    "print(\"This took long to run,\", (time.time() - how_long_did_it_take)/60, \"minutes to be exact.\")"
   ]
  },
  {
   "cell_type": "markdown",
   "metadata": {},
   "source": [
    "## Plot distributions of populations under fairness and no fairness constraints"
   ]
  },
  {
   "cell_type": "code",
   "execution_count": 104,
   "metadata": {
    "scrolled": false
   },
   "outputs": [
    {
     "data": {
      "image/png": "[encoded data removed]",
      "text/plain": [
       "<matplotlib.figure.Figure at 0x1139b51d0>"
      ]
     },
     "metadata": {},
     "output_type": "display_data"
    }
   ],
   "source": [
    "plt.hist((credit_change_blues_eq_opt, credit_change_blues_no_fairness), color=(\"b\", \"c\"))\n",
    "plt.show()"
   ]
  },
  {
   "cell_type": "code",
   "execution_count": 105,
   "metadata": {},
   "outputs": [
    {
     "data": {
      "image/png": "[encoded data removed]",
      "text/plain": [
       "<matplotlib.figure.Figure at 0x1146a2080>"
      ]
     },
     "metadata": {},
     "output_type": "display_data"
    }
   ],
   "source": [
    "plt.hist((credit_change_oranges_eq_opt, credit_change_oranges_no_fairness), color=(\"xkcd:orange\", \"r\"))\n",
    "plt.show()"
   ]
  },
  {
   "cell_type": "code",
   "execution_count": 106,
   "metadata": {},
   "outputs": [
    {
     "name": "stdout",
     "output_type": "stream",
     "text": [
      "Fairness blues got 14305.0 whereas unfair blues got 23790.0\n",
      "Fairness oranges got 44496.0 whereas unfair oranges got 45711.0\n"
     ]
    }
   ],
   "source": [
    "print(\"Fairness blues got\", sum(credit_change_blues_eq_opt), \n",
    "      \"whereas unfair blues got\", sum(credit_change_blues_no_fairness))\n",
    "\n",
    "print(\"Fairness oranges got\", sum(credit_change_oranges_eq_opt), \n",
    "      \"whereas unfair oranges got\", sum(credit_change_oranges_no_fairness))"
   ]
  },
  {
   "cell_type": "code",
   "execution_count": 107,
   "metadata": {
    "collapsed": true
   },
   "outputs": [],
   "source": [
    "comparisons_smaller = credit_change_blues_eq_opt < credit_change_blues_no_fairness\n",
    "comparisons_bigger = credit_change_blues_eq_opt > credit_change_blues_no_fairness\n",
    "comparisons_equal = np.abs(credit_change_blues_eq_opt - credit_change_blues_no_fairness) < 3"
   ]
  },
  {
   "cell_type": "markdown",
   "metadata": {},
   "source": [
    "# Generate pretty plots\n",
    "\n",
    "1. What's the gap between unfair and fair classification\n",
    "2. What do the distributions look like?\n",
    "3. How many people default?\n",
    "\n",
    "\n",
    "### 1. What's the gap between unfair and fair classification"
   ]
  },
  {
   "cell_type": "code",
   "execution_count": 142,
   "metadata": {},
   "outputs": [
    {
     "data": {
      "text/plain": [
       "(200,)"
      ]
     },
     "execution_count": 142,
     "metadata": {},
     "output_type": "execute_result"
    }
   ],
   "source": [
    "average_blue = np.average(population_log_blues, axis=0)\n",
    "average_orange = np.average(population_log_oranges, axis=0)\n",
    "average_distance = average_orange[:200]-average_blue[200]\n",
    "average_distance.shape"
   ]
  },
  {
   "cell_type": "code",
   "execution_count": 143,
   "metadata": {},
   "outputs": [],
   "source": [
    "frame = np.concatenate((credit_change_blues_eq_opt.reshape(200,1), \n",
    "                        credit_change_oranges_eq_opt.reshape(200,1), \n",
    "                        credit_change_blues_no_fairness.reshape(200,1), \n",
    "                        credit_change_oranges_no_fairness.reshape(200,1)), axis=1)\n",
    "\n",
    "change_for_blues = np.concatenate((credit_change_blues_eq_opt.reshape(200,1), \n",
    "                                   credit_change_blues_no_fairness.reshape(200,1),\n",
    "                                   average_distance.reshape(200,1)), \n",
    "                                  axis=1)\n",
    "\n",
    "credit_changes_blue = pd.DataFrame(change_for_blues)\n",
    "credit_changes_blue.columns = [\"blue with equal opportunity\",\n",
    "                               \"blue with no constraints\",\n",
    "                               \"average distance\"]\n",
    "\n",
    "\n",
    "credit_changes = pd.DataFrame(frame)\n",
    "credit_changes.columns = [\"blue with equal opportunity\", \n",
    "                          \"orange with equal opportunity\", \n",
    "                          \"blue with no constraint\", \n",
    "                          \"oranges with no constraint\"]"
   ]
  },
  {
   "cell_type": "code",
   "execution_count": 145,
   "metadata": {
    "scrolled": true
   },
   "outputs": [
    {
     "data": {
      "text/html": [
       "<div>\n",
       "<style>\n",
       "    .dataframe thead tr:only-child th {\n",
       "        text-align: right;\n",
       "    }\n",
       "\n",
       "    .dataframe thead th {\n",
       "        text-align: left;\n",
       "    }\n",
       "\n",
       "    .dataframe tbody tr th {\n",
       "        vertical-align: top;\n",
       "    }\n",
       "</style>\n",
       "<table border=\"1\" class=\"dataframe\">\n",
       "  <thead>\n",
       "    <tr style=\"text-align: right;\">\n",
       "      <th></th>\n",
       "      <th>blue with equal opportunity</th>\n",
       "      <th>blue with no constraints</th>\n",
       "      <th>average distance</th>\n",
       "      <th>distance</th>\n",
       "      <th>sorted index</th>\n",
       "    </tr>\n",
       "  </thead>\n",
       "  <tbody>\n",
       "    <tr>\n",
       "      <th>127</th>\n",
       "      <td>-242.0</td>\n",
       "      <td>35.0</td>\n",
       "      <td>2.780</td>\n",
       "      <td>277.0</td>\n",
       "      <td>0</td>\n",
       "    </tr>\n",
       "    <tr>\n",
       "      <th>103</th>\n",
       "      <td>-233.0</td>\n",
       "      <td>18.0</td>\n",
       "      <td>-0.190</td>\n",
       "      <td>251.0</td>\n",
       "      <td>1</td>\n",
       "    </tr>\n",
       "    <tr>\n",
       "      <th>177</th>\n",
       "      <td>-218.0</td>\n",
       "      <td>29.0</td>\n",
       "      <td>8.955</td>\n",
       "      <td>247.0</td>\n",
       "      <td>2</td>\n",
       "    </tr>\n",
       "    <tr>\n",
       "      <th>154</th>\n",
       "      <td>-187.0</td>\n",
       "      <td>55.0</td>\n",
       "      <td>6.100</td>\n",
       "      <td>242.0</td>\n",
       "      <td>3</td>\n",
       "    </tr>\n",
       "    <tr>\n",
       "      <th>21</th>\n",
       "      <td>-177.0</td>\n",
       "      <td>36.0</td>\n",
       "      <td>-12.785</td>\n",
       "      <td>213.0</td>\n",
       "      <td>4</td>\n",
       "    </tr>\n",
       "  </tbody>\n",
       "</table>\n",
       "</div>"
      ],
      "text/plain": [
       "     blue with equal opportunity  blue with no constraints  average distance  \\\n",
       "127                       -242.0                      35.0             2.780   \n",
       "103                       -233.0                      18.0            -0.190   \n",
       "177                       -218.0                      29.0             8.955   \n",
       "154                       -187.0                      55.0             6.100   \n",
       "21                        -177.0                      36.0           -12.785   \n",
       "\n",
       "     distance  sorted index  \n",
       "127     277.0             0  \n",
       "103     251.0             1  \n",
       "177     247.0             2  \n",
       "154     242.0             3  \n",
       "21      213.0             4  "
      ]
     },
     "execution_count": 145,
     "metadata": {},
     "output_type": "execute_result"
    }
   ],
   "source": [
    "credit_changes_blue[\"distance\"] = credit_changes_blue[\"blue with no constraints\"] - credit_changes_blue[\"blue with equal opportunity\"]\n",
    "\n",
    "credit_changes_blue = credit_changes_blue.sort_values(\"distance\", ascending=False)\n",
    "\n",
    "credit_changes_blue[\"sorted index\"] = np.arange(200)\n",
    "credit_changes_blue.head()"
   ]
  },
  {
   "cell_type": "code",
   "execution_count": null,
   "metadata": {
    "collapsed": true
   },
   "outputs": [],
   "source": []
  },
  {
   "cell_type": "markdown",
   "metadata": {},
   "source": [
    "# HERHEHEHREHRHERE"
   ]
  },
  {
   "cell_type": "code",
   "execution_count": 146,
   "metadata": {
    "collapsed": true
   },
   "outputs": [],
   "source": [
    "workblue = np.copy(population_log_blues[168])\n",
    "workorange = np.copy(population_log_oranges[168])\n",
    "workblue_defaults = workblue < np.random.randint(100, size=(1000,))\n",
    "workorange_defaults = workorange < np.random.randint(100, size=(1000,))"
   ]
  },
  {
   "cell_type": "code",
   "execution_count": 147,
   "metadata": {},
   "outputs": [
    {
     "name": "stdout",
     "output_type": "stream",
     "text": [
      "initial guess of [50. 50.] got us a profit of  412 $\n"
     ]
    }
   ],
   "source": [
    "#what to optimise\n",
    "to_optimise = lambda x: total_bank_profit(workblue, workorange, workblue_defaults, \n",
    "                                          workorange_defaults, x[0], x[1])\n",
    "\n",
    "to_constrain = lambda x: difference_bw_positive_rates(workblue, workorange, workblue_defaults, \n",
    "                                                      workorange_defaults, x[0], x[1])\n",
    "\n",
    "#initial guess\n",
    "cutoffs = np.zeros(2)\n",
    "cutoffs[0] = 50\n",
    "cutoffs[1] = 50\n",
    "#show initial objective\n",
    "print(\"initial guess of\", cutoffs, \"got us a profit of \", -to_optimise(cutoffs), \"$\")"
   ]
  },
  {
   "cell_type": "markdown",
   "metadata": {},
   "source": [
    "### With fairness"
   ]
  },
  {
   "cell_type": "code",
   "execution_count": 148,
   "metadata": {},
   "outputs": [
    {
     "name": "stdout",
     "output_type": "stream",
     "text": [
      "[53.08365743 60.39690246]\n",
      "final guess of [53.08365743 60.39690246] got us a profit of  485 $\n",
      "total credit score change for blues: 156 || total credit score change for oranges: 329\n"
     ]
    }
   ],
   "source": [
    "#optimise with fairness\n",
    "a = (0, 100)\n",
    "bounds = (a, a)\n",
    "equal_true_positives = {'type': 'ineq', 'fun': to_constrain}\n",
    "cons = ([equal_true_positives])\n",
    "\n",
    "solution = minimize(to_optimise, cutoffs, method='SLSQP', constraints = cons,\n",
    "                    bounds=bounds, options = {'eps': 3, 'maxiter':10})\n",
    "\n",
    "x_fair = solution.x\n",
    "\n",
    "print(x_fair)\n",
    "\n",
    "#final solution got us a profit of:\n",
    "print(\"final guess of\", x_fair, \"got us a profit of \", -to_optimise(x_fair), \"$\")\n",
    "\n",
    "_, _, blues_credit_change = bank_profit(workblue, workblue_defaults, x_fair[0])\n",
    "_, _, oranges_credit_change = bank_profit(workorange, workorange_defaults, x_fair[1])\n",
    "#final solution got us a change in credit score of:\n",
    "print(\"total credit score change for blues:\", blues_credit_change, \n",
    "      \"|| total credit score change for oranges:\", oranges_credit_change)"
   ]
  },
  {
   "cell_type": "code",
   "execution_count": 149,
   "metadata": {},
   "outputs": [
    {
     "name": "stdout",
     "output_type": "stream",
     "text": [
      "492 this is true positive\n",
      "221 false positive\n",
      "476 this is true positive\n",
      "82 false positive\n"
     ]
    }
   ],
   "source": [
    "print(sum(np.logical_and(workblue > 31.2, np.logical_not(workblue_defaults))), \"this is true positive\")\n",
    "print(sum(np.logical_and(workblue > 31.09, workblue_defaults)), \"false positive\")\n",
    "\n",
    "print(sum(np.logical_and(workorange > 58.2, np.logical_not(workorange_defaults))), \"this is true positive\")\n",
    "print(sum(np.logical_and(workorange > 58.09, workorange_defaults)), \"false positive\")"
   ]
  },
  {
   "cell_type": "markdown",
   "metadata": {},
   "source": [
    "### Without fairness"
   ]
  },
  {
   "cell_type": "code",
   "execution_count": 150,
   "metadata": {},
   "outputs": [
    {
     "name": "stdout",
     "output_type": "stream",
     "text": [
      "final guess of [64.37621562 61.70109333] got us a profit of  499 $\n",
      "total credit score change for blues: 165 || total credit score change for oranges: 334\n",
      "325 this is true positive\n",
      "80 false positive\n",
      "460 this is true positive\n",
      "63 false positive\n"
     ]
    }
   ],
   "source": [
    "#optimise without fairness\n",
    "a = (0, 100)\n",
    "bounds = (a, a)\n",
    "\n",
    "solution_unfair = minimize(to_optimise, cutoffs, method='SLSQP',\n",
    "                    bounds=bounds, options = {'eps': 3})\n",
    "\n",
    "x_unfair = solution_unfair.x\n",
    "\n",
    "#final solution got us a profit of:\n",
    "print(\"final guess of\", x_unfair, \"got us a profit of \", -to_optimise(x_unfair), \"$\")\n",
    "\n",
    "_, _, blues_credit_change = bank_profit(workblue, workblue_defaults, x_unfair[0])\n",
    "_, _, oranges_credit_change = bank_profit(workorange, workorange_defaults, x_unfair[1])\n",
    "#final solution got us a change in credit score of:\n",
    "print(\"total credit score change for blues:\", blues_credit_change, \n",
    "      \"|| total credit score change for oranges:\", oranges_credit_change)\n",
    "\n",
    "print(sum(np.logical_and(workblue > x_unfair[0], np.logical_not(workblue_defaults))), \"this is true positive\")\n",
    "print(sum(np.logical_and(workblue > x_unfair[0], workblue_defaults)), \"false positive\")\n",
    "\n",
    "print(sum(np.logical_and(workorange > x_unfair[1], np.logical_not(workorange_defaults))), \"this is true positive\")\n",
    "print(sum(np.logical_and(workorange > x_unfair[1], workorange_defaults)), \"false positive\")"
   ]
  },
  {
   "cell_type": "code",
   "execution_count": 151,
   "metadata": {
    "collapsed": true
   },
   "outputs": [],
   "source": [
    "loans_b = workblue < x_fair[0]\n",
    "true_positives_b = np.logical_and(np.logical_not(loans_b), np.logical_not(workblue_defaults))\n",
    "false_positives_b = np.logical_and(np.logical_not(loans_b), workblue_defaults)\n",
    "\n",
    "\n",
    "loans_o = workorange < x_fair[1]\n",
    "true_positives_o = np.logical_and(np.logical_not(loans_o), np.logical_not(workorange_defaults))\n",
    "false_positives_o = np.logical_and(np.logical_not(loans_o), workorange_defaults)"
   ]
  },
  {
   "cell_type": "code",
   "execution_count": 152,
   "metadata": {},
   "outputs": [
    {
     "data": {
      "image/png": "[encoded data removed]",
      "text/plain": [
       "<matplotlib.figure.Figure at 0x113c67320>"
      ]
     },
     "metadata": {},
     "output_type": "display_data"
    }
   ],
   "source": [
    "plt.hist([workblue, workorange], color=['b', 'xkcd:orange'])\n",
    "plt.show()"
   ]
  },
  {
   "cell_type": "code",
   "execution_count": 153,
   "metadata": {},
   "outputs": [],
   "source": [
    "workblue_fair = np.copy(workblue)\n",
    "workorange_fair = np.copy(workorange)\n",
    "\n",
    "workblue_fair[true_positives_b] +=10\n",
    "workblue_fair[false_positives_b] -=20\n",
    "workblue_fair[workblue_fair<1] = 1\n",
    "workblue_fair[workblue_fair>99] = 99\n",
    "\n",
    "workorange_fair[true_positives_o] +=10\n",
    "workorange_fair[false_positives_o] -=20\n",
    "workorange_fair[workorange_fair<1] = 1\n",
    "workorange_fair[workorange_fair>99] = 99"
   ]
  },
  {
   "cell_type": "code",
   "execution_count": 154,
   "metadata": {},
   "outputs": [
    {
     "data": {
      "image/png": "[encoded data removed]",
      "text/plain": [
       "<matplotlib.figure.Figure at 0x1152f3898>"
      ]
     },
     "metadata": {},
     "output_type": "display_data"
    }
   ],
   "source": [
    "plt.hist([workblue_fair, workorange_fair], color=['b', 'xkcd:orange'])\n",
    "plt.show()"
   ]
  },
  {
   "cell_type": "code",
   "execution_count": 155,
   "metadata": {
    "collapsed": true
   },
   "outputs": [],
   "source": [
    "loans_b = workblue < x_unfair[0]\n",
    "true_positives_b = np.logical_and(np.logical_not(loans_b), np.logical_not(workblue_defaults))\n",
    "false_positives_b = np.logical_and(np.logical_not(loans_b), workblue_defaults)\n",
    "\n",
    "\n",
    "loans_o = workorange < x_unfair[1]\n",
    "true_positives_o = np.logical_and(np.logical_not(loans_o), np.logical_not(workorange_defaults))\n",
    "false_positives_o = np.logical_and(np.logical_not(loans_o), workorange_defaults)"
   ]
  },
  {
   "cell_type": "code",
   "execution_count": 156,
   "metadata": {
    "collapsed": true
   },
   "outputs": [],
   "source": [
    "workblue_unfair = np.copy(workblue)\n",
    "workorange_unfair = np.copy(workorange)\n",
    "\n",
    "workblue_unfair[true_positives_b] +=10\n",
    "workblue_unfair[false_positives_b] -=20\n",
    "workblue_unfair[workblue_unfair<1] = 1\n",
    "workblue_unfair[workblue_unfair>99] = 99\n",
    "\n",
    "workorange_unfair[true_positives_o] +=10\n",
    "workorange_unfair[false_positives_o] -=20\n",
    "workorange_unfair[workorange_unfair<1] = 1\n",
    "workorange_unfair[workorange_unfair>99] = 99"
   ]
  },
  {
   "cell_type": "code",
   "execution_count": 157,
   "metadata": {},
   "outputs": [
    {
     "data": {
      "image/png": "[encoded data removed]",
      "text/plain": [
       "<matplotlib.figure.Figure at 0x113ee2358>"
      ]
     },
     "metadata": {},
     "output_type": "display_data"
    }
   ],
   "source": [
    "plt.hist([workblue_unfair, workorange_unfair], color=['b', 'xkcd:orange'])\n",
    "plt.show()"
   ]
  },
  {
   "cell_type": "code",
   "execution_count": 158,
   "metadata": {},
   "outputs": [
    {
     "name": "stdout",
     "output_type": "stream",
     "text": [
      "455 498\n"
     ]
    }
   ],
   "source": [
    "print(sum(workblue_unfair<50), sum(workblue_fair<50))"
   ]
  },
  {
   "cell_type": "code",
   "execution_count": null,
   "metadata": {
    "collapsed": true
   },
   "outputs": [],
   "source": []
  },
  {
   "cell_type": "code",
   "execution_count": null,
   "metadata": {
    "collapsed": true
   },
   "outputs": [],
   "source": []
  },
  {
   "cell_type": "code",
   "execution_count": null,
   "metadata": {
    "collapsed": true
   },
   "outputs": [],
   "source": []
  },
  {
   "cell_type": "code",
   "execution_count": null,
   "metadata": {
    "collapsed": true
   },
   "outputs": [],
   "source": []
  },
  {
   "cell_type": "code",
   "execution_count": null,
   "metadata": {
    "collapsed": true
   },
   "outputs": [],
   "source": []
  },
  {
   "cell_type": "code",
   "execution_count": null,
   "metadata": {
    "collapsed": true
   },
   "outputs": [],
   "source": []
  },
  {
   "cell_type": "code",
   "execution_count": null,
   "metadata": {
    "collapsed": true
   },
   "outputs": [],
   "source": []
  },
  {
   "cell_type": "code",
   "execution_count": null,
   "metadata": {
    "collapsed": true
   },
   "outputs": [],
   "source": []
  },
  {
   "cell_type": "code",
   "execution_count": null,
   "metadata": {
    "collapsed": true
   },
   "outputs": [],
   "source": []
  },
  {
   "cell_type": "code",
   "execution_count": null,
   "metadata": {
    "collapsed": true
   },
   "outputs": [],
   "source": []
  },
  {
   "cell_type": "code",
   "execution_count": null,
   "metadata": {
    "collapsed": true
   },
   "outputs": [],
   "source": []
  },
  {
   "cell_type": "code",
   "execution_count": null,
   "metadata": {
    "collapsed": true
   },
   "outputs": [],
   "source": []
  },
  {
   "cell_type": "code",
   "execution_count": null,
   "metadata": {
    "collapsed": true
   },
   "outputs": [],
   "source": []
  },
  {
   "cell_type": "code",
   "execution_count": null,
   "metadata": {
    "collapsed": true
   },
   "outputs": [],
   "source": []
  },
  {
   "cell_type": "code",
   "execution_count": null,
   "metadata": {
    "collapsed": true
   },
   "outputs": [],
   "source": []
  },
  {
   "cell_type": "code",
   "execution_count": null,
   "metadata": {
    "collapsed": true
   },
   "outputs": [],
   "source": []
  },
  {
   "cell_type": "code",
   "execution_count": 159,
   "metadata": {},
   "outputs": [
    {
     "data": {
      "image/png": "[encoded data removed]",
      "text/plain": [
       "<matplotlib.figure.Figure at 0x115606208>"
      ]
     },
     "metadata": {},
     "output_type": "display_data"
    }
   ],
   "source": [
    "plt.hist([population_log_blues[168], population_log_oranges[168]], color=['b', 'xkcd:orange'])\n",
    "plt.show()"
   ]
  },
  {
   "cell_type": "code",
   "execution_count": null,
   "metadata": {
    "collapsed": true
   },
   "outputs": [],
   "source": []
  },
  {
   "cell_type": "code",
   "execution_count": null,
   "metadata": {
    "collapsed": true
   },
   "outputs": [],
   "source": []
  },
  {
   "cell_type": "code",
   "execution_count": null,
   "metadata": {
    "collapsed": true
   },
   "outputs": [],
   "source": []
  },
  {
   "cell_type": "code",
   "execution_count": 160,
   "metadata": {},
   "outputs": [
    {
     "data": {
      "text/plain": [
       "105"
      ]
     },
     "execution_count": 160,
     "metadata": {},
     "output_type": "execute_result"
    }
   ],
   "source": [
    "sum(credit_changes_blue[\"average distance\"] < 0)"
   ]
  },
  {
   "cell_type": "code",
   "execution_count": 166,
   "metadata": {},
   "outputs": [
    {
     "data": {
      "image/png": "[encoded data removed]",
      "text/plain": [
       "<matplotlib.figure.Figure at 0x113be6cf8>"
      ]
     },
     "metadata": {},
     "output_type": "display_data"
    }
   ],
   "source": [
    "# plt.figure(dpi=200)\n",
    "\n",
    "credit_changes_blue_sub = credit_changes_blue.sample(200)\n",
    "\n",
    "trendline = np.polyfit(credit_changes_blue_sub[\"sorted index\"], credit_changes_blue_sub[\"average distance\"], 1)\n",
    "p = np.poly1d(trendline)\n",
    "plt.scatter(credit_changes_blue_sub[\"sorted index\"],credit_changes_blue_sub[\"average distance\"], c='xkcd:deep sky blue')\n",
    "plt.plot(credit_changes_blue[\"sorted index\"], p(credit_changes_blue[\"sorted index\"]), \"r--\")\n",
    "plt.ylabel(\"mean orange population - mean blue population\")\n",
    "plt.xlabel(\"most to least distance between credit score changes\")\n",
    "plt.savefig(\"plots/big_sim/GOOD_worse_doesnt_help.png\")\n",
    "plt.show()"
   ]
  },
  {
   "cell_type": "code",
   "execution_count": 167,
   "metadata": {
    "scrolled": true
   },
   "outputs": [
    {
     "data": {
      "text/html": [
       "<div>\n",
       "<style>\n",
       "    .dataframe thead tr:only-child th {\n",
       "        text-align: right;\n",
       "    }\n",
       "\n",
       "    .dataframe thead th {\n",
       "        text-align: left;\n",
       "    }\n",
       "\n",
       "    .dataframe tbody tr th {\n",
       "        vertical-align: top;\n",
       "    }\n",
       "</style>\n",
       "<table border=\"1\" class=\"dataframe\">\n",
       "  <thead>\n",
       "    <tr style=\"text-align: right;\">\n",
       "      <th></th>\n",
       "      <th>blue with equal opportunity</th>\n",
       "      <th>blue with no constraints</th>\n",
       "      <th>average distance</th>\n",
       "      <th>distance</th>\n",
       "      <th>sorted index</th>\n",
       "    </tr>\n",
       "  </thead>\n",
       "  <tbody>\n",
       "    <tr>\n",
       "      <th>196</th>\n",
       "      <td>61.0</td>\n",
       "      <td>52.0</td>\n",
       "      <td>11.200</td>\n",
       "      <td>-9.0</td>\n",
       "      <td>195</td>\n",
       "    </tr>\n",
       "    <tr>\n",
       "      <th>67</th>\n",
       "      <td>245.0</td>\n",
       "      <td>234.0</td>\n",
       "      <td>-5.320</td>\n",
       "      <td>-11.0</td>\n",
       "      <td>196</td>\n",
       "    </tr>\n",
       "    <tr>\n",
       "      <th>60</th>\n",
       "      <td>149.0</td>\n",
       "      <td>133.0</td>\n",
       "      <td>-6.360</td>\n",
       "      <td>-16.0</td>\n",
       "      <td>197</td>\n",
       "    </tr>\n",
       "    <tr>\n",
       "      <th>145</th>\n",
       "      <td>124.0</td>\n",
       "      <td>105.0</td>\n",
       "      <td>4.990</td>\n",
       "      <td>-19.0</td>\n",
       "      <td>198</td>\n",
       "    </tr>\n",
       "    <tr>\n",
       "      <th>15</th>\n",
       "      <td>109.0</td>\n",
       "      <td>58.0</td>\n",
       "      <td>-14.045</td>\n",
       "      <td>-51.0</td>\n",
       "      <td>199</td>\n",
       "    </tr>\n",
       "  </tbody>\n",
       "</table>\n",
       "</div>"
      ],
      "text/plain": [
       "     blue with equal opportunity  blue with no constraints  average distance  \\\n",
       "196                         61.0                      52.0            11.200   \n",
       "67                         245.0                     234.0            -5.320   \n",
       "60                         149.0                     133.0            -6.360   \n",
       "145                        124.0                     105.0             4.990   \n",
       "15                         109.0                      58.0           -14.045   \n",
       "\n",
       "     distance  sorted index  \n",
       "196      -9.0           195  \n",
       "67      -11.0           196  \n",
       "60      -16.0           197  \n",
       "145     -19.0           198  \n",
       "15      -51.0           199  "
      ]
     },
     "execution_count": 167,
     "metadata": {},
     "output_type": "execute_result"
    }
   ],
   "source": [
    "credit_changes_blue.tail()"
   ]
  },
  {
   "cell_type": "code",
   "execution_count": 177,
   "metadata": {},
   "outputs": [
    {
     "name": "stdout",
     "output_type": "stream",
     "text": [
      "145\n",
      "far= 21.551350000000006 || close= 8.042849999999998 || medium= 10.019850000000002\n"
     ]
    }
   ],
   "source": [
    "print(credit_changes_blue.index[-2])\n",
    "distance_far = 0\n",
    "distance_close = 0\n",
    "distance_medium = 0\n",
    "for i in range(20):\n",
    "    index = credit_changes_blue.index[i]\n",
    "    distance_far += np.average(population_log_oranges[index]) - np.average(population_log_blues[index])\n",
    "\n",
    "for i in range(20):\n",
    "    index = credit_changes_blue.index[-i]\n",
    "    distance_close += np.average(population_log_oranges[index]) - np.average(population_log_blues[index])\n",
    "    \n",
    "    \n",
    "for i in range(20):\n",
    "    index = credit_changes_blue.index[i+100]\n",
    "    distance_medium +=np.average(population_log_oranges[index]) - np.average(population_log_blues[index])\n",
    "print(\"far=\",distance_far/20, \"|| close=\",distance_close/20, \"|| medium=\", distance_medium/20)"
   ]
  },
  {
   "cell_type": "code",
   "execution_count": 172,
   "metadata": {},
   "outputs": [
    {
     "data": {
      "image/png": "[encoded data removed]",
      "text/plain": [
       "<matplotlib.figure.Figure at 0x1147c74e0>"
      ]
     },
     "metadata": {},
     "output_type": "display_data"
    },
    {
     "name": "stdout",
     "output_type": "stream",
     "text": [
      "47\n"
     ]
    }
   ],
   "source": [
    "plt.scatter(credit_changes_blue[\"sorted index\"], credit_changes_blue[\"blue with equal opportunity\"])\n",
    "plt.scatter(credit_changes_blue[\"sorted index\"], credit_changes_blue[\"blue with no constraints\"])\n",
    "plt.show()\n",
    "print(sum(credit_changes_blue[\"blue with equal opportunity\"] < 0))"
   ]
  },
  {
   "cell_type": "code",
   "execution_count": 178,
   "metadata": {},
   "outputs": [
    {
     "name": "stdout",
     "output_type": "stream",
     "text": [
      "23\n"
     ]
    }
   ],
   "source": [
    "print(sum(credit_changes_blue['distance'] < 0))"
   ]
  },
  {
   "cell_type": "code",
   "execution_count": null,
   "metadata": {},
   "outputs": [],
   "source": [
    "print(sum(credit_changes_blue[\"distance\"] > 1))\n",
    "print(sum(credit_changes_blue[\"distance\"] < -1))\n",
    "\n",
    "small = credit_changes_blue[\"distance\"] <= 1\n",
    "butbig = credit_changes_blue[\"distance\"] >= -1\n",
    "medium = np.logical_and(small, butbig)\n",
    "print(sum(medium))"
   ]
  },
  {
   "cell_type": "code",
   "execution_count": null,
   "metadata": {},
   "outputs": [],
   "source": [
    "subsampled_credit_changes = credit_changes_blue.sample(150)\n",
    "\n",
    "average_no_fairness = np.average(subsampled_credit_changes[\"blue with no constraints\"])\n",
    "average_eq_opt = np.average(subsampled_credit_changes[\"blue with equal opportunity\"])\n",
    "# plt.figure(figsize=(4,3), dpi=150) \n",
    "plt.figure(dpi=200)\n",
    "\n",
    "# plt.scatter(subsampled_credit_changes[\"sorted index\"], subsampled_credit_changes[\"blue with equal opportunity\"], \n",
    "#             c=\"xkcd:bright blue\")\n",
    "# plt.scatter(subsampled_credit_changes[\"sorted index\"], subsampled_credit_changes[\"blue with no constraints\"], \n",
    "#             c='xkcd:leaf green')\n",
    "\n",
    "plt.ylabel(\"change in credit score\")\n",
    "plt.xlabel(\"most to least distance between credit score changes\")\n",
    "# plt.legend([\"with equal opportunity\", \"with no fairness constraint\"])\n",
    "           \n",
    "for i in range(len(subsampled_credit_changes.values)):\n",
    "    plotdistances = plt.plot(subsampled_credit_changes['sorted index'].values[i]*np.ones((2, 1)),\n",
    "                             [subsampled_credit_changes['blue with equal opportunity'].values[i], \n",
    "                              subsampled_credit_changes['blue with no constraints'].values[i]], \n",
    "                             c='black', linewidth=0.25)\n",
    "\n",
    "scatterblue = plt.scatter(subsampled_credit_changes[\"sorted index\"], subsampled_credit_changes[\"blue with equal opportunity\"], \n",
    "            c=\"xkcd:bright blue\")\n",
    "scattergreen = plt.scatter(subsampled_credit_changes[\"sorted index\"], subsampled_credit_changes[\"blue with no constraints\"], \n",
    "            c='xkcd:leaf green')\n",
    "\n",
    "plt.legend((scattergreen, scatterblue, plotdistances), (\"with equal opportunity\", \"with no fairness constraint\", \"else\"))\n",
    "\n",
    "plt.savefig(\"plots/big_sim/distance_between_score_changes.png\")\n",
    "plt.show()"
   ]
  },
  {
   "cell_type": "code",
   "execution_count": null,
   "metadata": {},
   "outputs": [],
   "source": [
    "subsampled_credit_changes = credit_changes_blue.sample(150)\n",
    "\n",
    "average_no_fairness = np.average(subsampled_credit_changes[\"blue with no constraints\"])\n",
    "average_eq_opt = np.average(subsampled_credit_changes[\"blue with equal opportunity\"])\n",
    "# plt.figure(figsize=(4,3), dpi=150) \n",
    "plt.figure(dpi=200)\n",
    "\n",
    "# plt.scatter(subsampled_credit_changes[\"sorted index\"], subsampled_credit_changes[\"blue with equal opportunity\"])\n",
    "# plt.scatter(subsampled_credit_changes[\"sorted index\"], subsampled_credit_changes[\"blue with no constraints\"])\n",
    "\n",
    "# plt.ylabel(\"change in credit score\")\n",
    "# plt.xlabel(\"most to least distance between credit score changes\")\n",
    "\n",
    "\n",
    "for i in range(len(subsampled_credit_changes.values)):\n",
    "    plt.plot(subsampled_credit_changes['sorted index'].values[i]*np.ones((2, 1)),\n",
    "             [subsampled_credit_changes['blue with equal opportunity'].values[i], \n",
    "              subsampled_credit_changes['blue with no constraints'].values[i]], \n",
    "             'ro-', linewidth=0.4)\n",
    "\n",
    "plt.legend([\"distance between fair and unfair\"])\n",
    "\n",
    "plt.savefig(\"plots/big_sim/distance_between_score_changes.png\")\n",
    "plt.show()"
   ]
  },
  {
   "cell_type": "markdown",
   "metadata": {},
   "source": [
    "## 2. What do the distributions look like?"
   ]
  },
  {
   "cell_type": "code",
   "execution_count": 162,
   "metadata": {},
   "outputs": [
    {
     "data": {
      "image/png": "[encoded data removed]",
      "text/plain": [
       "<matplotlib.figure.Figure at 0x115335518>"
      ]
     },
     "metadata": {},
     "output_type": "display_data"
    }
   ],
   "source": [
    "plt.figure(figsize=(7,9), dpi=150)       \n",
    "sns.set_palette(\"Paired\")\n",
    "for i in range(6):\n",
    "    a, b, c, d, mean_a, mean_b = create_blues_and_oranges()\n",
    "    plt.subplot(3, 2, i+1)\n",
    "\n",
    "    plt.hist([a, b], color=['xkcd:deep sky blue', 'xkcd:dusty orange'])\n",
    "    \n",
    "    if(i==0):\n",
    "        plt.ylabel(\"number of people\")\n",
    "        plt.xlabel(\"credit score\")\n",
    "        plt.legend((\"blue population\", \"orange population\"))\n",
    "        \n",
    "\n",
    "plt.savefig(\"plots/big_sim/blues_and_oranges.png\")\n",
    "plt.show()"
   ]
  },
  {
   "cell_type": "code",
   "execution_count": null,
   "metadata": {
    "collapsed": true
   },
   "outputs": [],
   "source": []
  },
  {
   "cell_type": "code",
   "execution_count": 163,
   "metadata": {},
   "outputs": [
    {
     "data": {
      "image/png": "[encoded data removed]",
      "text/plain": [
       "<matplotlib.figure.Figure at 0x113ee5320>"
      ]
     },
     "metadata": {},
     "output_type": "display_data"
    }
   ],
   "source": [
    "plt.figure(figsize=(7,7), dpi=150)       \n",
    "sns.set_palette(\"Paired\")\n",
    "for i in range(4):\n",
    "    a, b, c, d, mean_a, mean_b = create_blues_and_oranges()\n",
    "    plt.subplot(2, 2, i+1)\n",
    "\n",
    "    plt.hist([a, b], color=['xkcd:deep sky blue', 'xkcd:dusty orange'])\n",
    "    \n",
    "    if(i==0):\n",
    "        plt.ylabel(\"number of people\")\n",
    "        plt.xlabel(\"credit score\")\n",
    "        plt.legend((\"blue population\", \"orange population\"))\n",
    "\n",
    "plt.savefig(\"plots/big_sim/blues_and_oranges.png\")\n",
    "plt.show()"
   ]
  },
  {
   "cell_type": "markdown",
   "metadata": {},
   "source": [
    "### 3. How many people default?"
   ]
  },
  {
   "cell_type": "code",
   "execution_count": 164,
   "metadata": {},
   "outputs": [
    {
     "data": {
      "image/png": "[encoded data removed]",
      "text/plain": [
       "<matplotlib.figure.Figure at 0x113ee5128>"
      ]
     },
     "metadata": {},
     "output_type": "display_data"
    }
   ],
   "source": [
    "plt.figure(figsize=(7,9), dpi=150)       \n",
    "sns.set_palette(\"Paired\")\n",
    "for i in range(6):\n",
    "    a, b, c, d, _, _ = create_blues_and_oranges()\n",
    "    plt.subplot(3, 2, i+1)\n",
    "    \n",
    "    if(i%2==0):\n",
    "        plt.hist([a[np.logical_not(c)],a[c]], \n",
    "                 stacked=True, bins=20, color=(\"xkcd:deep sky blue\", \"xkcd:sky blue\"))\n",
    "    if(i%2==1):\n",
    "        plt.hist([b[np.logical_not(d)],b[d]], \n",
    "                 stacked=True, bins=20, color=(\"xkcd:dusty orange\", \"xkcd:orangey yellow\"))\n",
    "    \n",
    "    if(i==1):\n",
    "\n",
    "        plt.legend((\"pay back\", \"default\"))\n",
    "        plt.title(\"orange population\")\n",
    "        \n",
    "    if(i==0):\n",
    "        plt.legend((\"pay back\", \"default\"))\n",
    "        plt.title(\"blue population\")\n",
    "        plt.ylabel(\"number of people\")\n",
    "        plt.xlabel(\"credit score\")        \n",
    "    \n",
    "\n",
    "plt.savefig(\"plots/big_sim/defaults_no_defaults.png\")\n",
    "plt.show()"
   ]
  },
  {
   "cell_type": "code",
   "execution_count": 165,
   "metadata": {},
   "outputs": [
    {
     "name": "stdout",
     "output_type": "stream",
     "text": [
      "2\n"
     ]
    }
   ],
   "source": [
    "print(1+1)"
   ]
  },
  {
   "cell_type": "code",
   "execution_count": null,
   "metadata": {
    "collapsed": true
   },
   "outputs": [],
   "source": []
  },
  {
   "cell_type": "code",
   "execution_count": null,
   "metadata": {
    "collapsed": true
   },
   "outputs": [],
   "source": []
  },
  {
   "cell_type": "code",
   "execution_count": null,
   "metadata": {
    "collapsed": true
   },
   "outputs": [],
   "source": []
  },
  {
   "cell_type": "code",
   "execution_count": null,
   "metadata": {
    "collapsed": true
   },
   "outputs": [],
   "source": []
  },
  {
   "cell_type": "code",
   "execution_count": null,
   "metadata": {
    "collapsed": true
   },
   "outputs": [],
   "source": []
  },
  {
   "cell_type": "code",
   "execution_count": null,
   "metadata": {
    "collapsed": true
   },
   "outputs": [],
   "source": []
  },
  {
   "cell_type": "code",
   "execution_count": null,
   "metadata": {
    "collapsed": true
   },
   "outputs": [],
   "source": []
  }
 ],
 "metadata": {
  "kernelspec": {
   "display_name": "Python 3",
   "language": "python",
   "name": "python3"
  },
  "language_info": {
   "codemirror_mode": {
    "name": "ipython",
    "version": 3
   },
   "file_extension": ".py",
   "mimetype": "text/x-python",
   "name": "python",
   "nbconvert_exporter": "python",
   "pygments_lexer": "ipython3",
   "version": "3.6.2"
  }
 },
 "nbformat": 4,
 "nbformat_minor": 2
}
