{
 "cells": [
  {
   "cell_type": "code",
   "execution_count": 29,
   "metadata": {},
   "outputs": [],
   "source": [
    "# import everything required\n",
    "import numpy as np\n",
    "import pandas as pd\n",
    "import keras as ks\n",
    "import matplotlib.pyplot as plt\n",
    "from sklearn import feature_selection\n",
    "from sklearn.metrics.cluster import normalized_mutual_info_score as mi\n",
    "\n",
    "# for reproducibility\n",
    "np.random.seed(123)\n",
    "\n",
    "# load data\n",
    "PATH=\"datasets/german_credit.csv\"\n",
    "raw_data = pd.read_csv(PATH, index_col=False)\n",
    "df = pd.DataFrame(raw_data)"
   ]
  },
  {
   "cell_type": "code",
   "execution_count": null,
   "metadata": {
    "collapsed": true
   },
   "outputs": [],
   "source": []
  },
  {
   "cell_type": "code",
   "execution_count": null,
   "metadata": {
    "collapsed": true
   },
   "outputs": [],
   "source": []
  },
  {
   "cell_type": "code",
   "execution_count": null,
   "metadata": {
    "collapsed": true
   },
   "outputs": [],
   "source": []
  },
  {
   "cell_type": "code",
   "execution_count": null,
   "metadata": {
    "collapsed": true
   },
   "outputs": [],
   "source": []
  },
  {
   "cell_type": "code",
   "execution_count": null,
   "metadata": {
    "collapsed": true
   },
   "outputs": [],
   "source": []
  },
  {
   "cell_type": "code",
   "execution_count": 57,
   "metadata": {},
   "outputs": [
    {
     "name": "stdout",
     "output_type": "stream",
     "text": [
      "There is maximum mutual of 0.37008620506805123 between s9 and ns5\n",
      "1\n",
      "There is maximum mutual of 0.2802530349639538 between y and ns5\n",
      "1\n"
     ]
    }
   ],
   "source": [
    "def mutual_info_stats(df, sensitive_name):\n",
    "\n",
    "    sensitive = df[sensitive_name]\n",
    "    df = df.drop(sensitive_name, axis=1)\n",
    "    \n",
    "    mutual_informations = np.zeros((df.shape[1], 1))\n",
    "\n",
    "    for i, col in enumerate(df.columns):\n",
    "        mutual_informations[i] = mi(df[col], sensitive)\n",
    "        \n",
    "    maximum = np.amax(mutual_informations)\n",
    "    index_of_max = np.argmax(mutual_informations)\n",
    "    \n",
    "    print(\"There is maximum mutual information of\", maximum, \"between\", sensitive_name, \"and\", df.columns[index_of_max])\n",
    "    \n",
    "    return 1\n",
    "\n",
    "print(mutual_info_stats(df, 's9'))\n",
    "print(mutual_info_stats(df, 'y'))"
   ]
  },
  {
   "cell_type": "code",
   "execution_count": null,
   "metadata": {
    "collapsed": true
   },
   "outputs": [],
   "source": []
  }
 ],
 "metadata": {
  "kernelspec": {
   "display_name": "Python 3",
   "language": "python",
   "name": "python3"
  },
  "language_info": {
   "codemirror_mode": {
    "name": "ipython",
    "version": 3
   },
   "file_extension": ".py",
   "mimetype": "text/x-python",
   "name": "python",
   "nbconvert_exporter": "python",
   "pygments_lexer": "ipython3",
   "version": "3.6.2"
  }
 },
 "nbformat": 4,
 "nbformat_minor": 2
}
