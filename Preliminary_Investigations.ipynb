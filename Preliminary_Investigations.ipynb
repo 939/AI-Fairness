{
 "cells": [
  {
   "cell_type": "markdown",
   "metadata": {},
   "source": [
    "# TOY PROBLEM\n",
    "\n",
    "## Setup\n",
    "\n",
    "In a magical land, there's N blue haired people and N green haired people. Every day, they can eat normal food, or they can steal a cookie from the temple. The initial probabilities of stealing a cookie are $\\mu_{blue}=0.9$ for the blues and $\\mu_{green}=0.2$ for the greens, as a population."
   ]
  },
  {
   "cell_type": "code",
   "execution_count": 8,
   "metadata": {},
   "outputs": [],
   "source": [
    "import numpy as np\n",
    "import sklearn \n",
    "from sklearn.linear_model import LogisticRegression\n",
    "from sklearn import metrics\n",
    "np.set_printoptions(precision=3, suppress=True)"
   ]
  },
  {
   "cell_type": "markdown",
   "metadata": {},
   "source": [
    "Generate results vectors for blues and greens"
   ]
  },
  {
   "cell_type": "code",
   "execution_count": 2,
   "metadata": {
    "collapsed": true
   },
   "outputs": [],
   "source": [
    "mu_blue = 0.9\n",
    "mu_green = 0.2\n",
    "N = 100\n",
    "#generate rand uniforms between 0 and 1\n",
    "y_blue = np.random.uniform(0,1, (N,1))\n",
    "y_green = np.random.uniform(0,1, (N,1))\n",
    "\n",
    "#replace each value with 0 or 1\n",
    "y_blue[y_blue > mu_blue] = 1\n",
    "y_blue[y_blue <= mu_blue] = 0\n",
    "y_green[y_green > mu_green] = 1\n",
    "y_green[y_green <= mu_green] = 0\n",
    "\n",
    "y_green = np.abs(y_green - 1)\n",
    "y_blue = np.abs(y_blue - 1)"
   ]
  },
  {
   "cell_type": "markdown",
   "metadata": {},
   "source": [
    "Which works!\n",
    "\n",
    "Next, we create 10 dimensional vectors as follows.\n",
    "\n",
    "Blue_vector =\n",
    "\n",
    "[drawn from standard normal with mean around mu_B*3 | \n",
    "drawn from exponential with mean mu_B + 1 |\n",
    "drawn from beta with mean mu_B^2 |\n",
    "standard normal]\n",
    "\n",
    "The same goes for Green_vector."
   ]
  },
  {
   "cell_type": "code",
   "execution_count": 3,
   "metadata": {
    "collapsed": true
   },
   "outputs": [],
   "source": [
    "#create X_blue\n",
    "blue_vector1 = np.random.normal(mu_blue*3, 1, (N,3))\n",
    "blue_vector2 = np.random.exponential(mu_blue + 1, (N,3))\n",
    "blue_vector3 = np.random.binomial(100, mu_blue**2, (N,3))\n",
    "blue_vector4 = np.random.standard_normal((N,1))\n",
    "blue_features = (blue_vector1, blue_vector2, blue_vector3, blue_vector4)\n",
    "\n",
    "X_blue = np.concatenate(blue_features, axis=1)\n",
    "\n",
    "#create X_green\n",
    "green_vector1 = np.random.normal(mu_green*3, 1, (N,3))\n",
    "green_vector2 = np.random.exponential(mu_green+1, (N,3))\n",
    "green_vector3 = np.random.binomial(10, mu_green**2, (N,3))\n",
    "green_vector4 = np.random.standard_normal((N,1))\n",
    "\n",
    "green_features = (green_vector1, green_vector2, green_vector3, green_vector4)\n",
    "\n",
    "X_green = np.concatenate(green_features, axis=1)\n",
    "\n",
    "#append ys\n",
    "X_blue = np.concatenate((X_blue, y_blue), axis = 1)\n",
    "X_green = np.concatenate((X_green, y_green), axis = 1)\n",
    "\n",
    "np.shape(X_green)\n",
    "np.shape(X_blue)\n",
    "\n",
    "X = np.concatenate((X_blue, X_green), axis=0)\n",
    "np.random.shuffle(X)\n",
    "\n",
    "y = X[:,10]\n",
    "X = X[:,0:10]"
   ]
  },
  {
   "cell_type": "markdown",
   "metadata": {},
   "source": [
    "Fit a simple logistic regression model."
   ]
  },
  {
   "cell_type": "code",
   "execution_count": 4,
   "metadata": {},
   "outputs": [
    {
     "data": {
      "text/plain": [
       "0.875"
      ]
     },
     "execution_count": 4,
     "metadata": {},
     "output_type": "execute_result"
    }
   ],
   "source": [
    "# instantiate a logistic regression model, and fit with X and y\n",
    "model = LogisticRegression()\n",
    "model = model.fit(X, y)\n",
    "\n",
    "# check the accuracy on the training set\n",
    "model.score(X, y)"
   ]
  },
  {
   "cell_type": "markdown",
   "metadata": {},
   "source": [
    "SO NOW WE HAVE A TRAINED MODEL, WHICH CAN OUTPUT PREDICTIONS."
   ]
  },
  {
   "cell_type": "code",
   "execution_count": 5,
   "metadata": {},
   "outputs": [
    {
     "data": {
      "text/plain": [
       "array([[-0.098, -0.036,  0.067, -0.082, -0.176, -0.178, -0.143,  0.026,\n",
       "         0.177, -0.059]])"
      ]
     },
     "execution_count": 5,
     "metadata": {},
     "output_type": "execute_result"
    }
   ],
   "source": [
    "model.coef_"
   ]
  },
  {
   "cell_type": "markdown",
   "metadata": {},
   "source": [
    "## Simulation\n",
    "\n",
    "Now, we're going to have the simulation have an effect on the world in which the Blues and Greens live. \n",
    "\n",
    "Suppose that the reason that Blues and Greens is not innate to their complexions, and that ultimately the probability that both Blues and Greens would steal the cookie asymptotes to zero. So each day, $\\mu_{blue}$ and $\\mu_{green}$ decrease by some amount $\\alpha$. We'll start off setting $\\alpha = 0.03$.\n",
    "Then, at each time step, have each person steal a cookie or not steal a cookie (based on their own $\\mu_i$, and have the classifier try to predict whether or not each person will steal a cookie. If it predicts that someone steals a cookie, then they go hungry for that day, and their probability of stealing a cookie the next day goes up by $\\beta$. We'll start off setting $\\beta = 0.04$.\n",
    "\n",
    "So in order to do that, we're gonna restart everything, individualising each individual.\n"
   ]
  },
  {
   "cell_type": "markdown",
   "metadata": {},
   "source": [
    "Set up initial results vectors:"
   ]
  },
  {
   "cell_type": "code",
   "execution_count": 6,
   "metadata": {},
   "outputs": [],
   "source": [
    "#generate rand uniforms between 0 and 1\n",
    "y_blue = np.random.uniform(0,1, (N,1))\n",
    "y_green = np.random.uniform(0,1, (N,1))\n",
    "\n",
    "#replace each value with 0 or 1\n",
    "y_blue[y_blue > mu_blue] = 1\n",
    "y_blue[y_blue <= mu_blue] = 0\n",
    "y_green[y_green > mu_green] = 1\n",
    "y_green[y_green <= mu_green] = 0\n",
    "\n",
    "y_green = np.abs(y_green - 1)\n",
    "y_blue = np.abs(y_blue - 1)\n"
   ]
  },
  {
   "cell_type": "markdown",
   "metadata": {},
   "source": [
    "Create an identity number for each of the 2*N individuals, and also make :"
   ]
  },
  {
   "cell_type": "code",
   "execution_count": 7,
   "metadata": {},
   "outputs": [],
   "source": [
    "#create identities for each being:\n",
    "    #give them a number\n",
    "identities = np.arange(2*N)\n",
    "identities = np.reshape(identities,(200,1))\n",
    "    #give them a base rate of stealing the cookies\n",
    "base_rates_blue = np.ones((N, 1))*mu_blue\n",
    "base_rates_green = np.ones((N, 1))*mu_green\n",
    "base_rates = np.concatenate((base_rates_blue, base_rates_green), axis=0)\n",
    "\n",
    "#create X_blue\n",
    "thisisatest= np.random.normal(mu_blue*3, 1, (N,3))\n",
    "blue_vector2 = np.random.exponential(mu_blue + 1, (N,3))\n",
    "blue_vector3 = np.random.binomial(100, mu_blue**2, (N,3))\n",
    "blue_vector4 = np.random.standard_normal((N,1))\n",
    "blue_features = (blue_vector1, blue_vector2, blue_vector3, blue_vector4)\n",
    "\n",
    "X_blue = np.concatenate(blue_features, axis=1)\n",
    "\n",
    "#create X_green\n",
    "green_vector1 = np.random.normal(mu_green*3, 1, (N,3))\n",
    "green_vector2 = np.random.exponential(mu_green+1, (N,3))\n",
    "green_vector3 = np.random.binomial(10, mu_green**2, (N,3))\n",
    "green_vector4 = np.random.standard_normal((N,1))\n",
    "green_features = (green_vector1, green_vector2, green_vector3, green_vector4)\n",
    "\n",
    "X_green = np.concatenate(green_features, axis=1)\n",
    "\n",
    "#append identities, base rates, and mix everything together\n",
    "X = np.concatenate((X_blue, X_green), axis=0)\n",
    "X = np.concatenate((X, identities, base_rates), axis=1)\n",
    "np.random.shuffle(X)\n",
    "\n",
    "\n",
    "identities = X[:,10]\n",
    "base_rates = X[:,11]\n",
    "X = X[:,0:10]"
   ]
  },
  {
   "cell_type": "code",
   "execution_count": null,
   "metadata": {
    "collapsed": true
   },
   "outputs": [],
   "source": []
  },
  {
   "cell_type": "code",
   "execution_count": null,
   "metadata": {
    "collapsed": true
   },
   "outputs": [],
   "source": []
  },
  {
   "cell_type": "code",
   "execution_count": null,
   "metadata": {
    "collapsed": true
   },
   "outputs": [],
   "source": []
  },
  {
   "cell_type": "code",
   "execution_count": null,
   "metadata": {
    "collapsed": true
   },
   "outputs": [],
   "source": []
  }
 ],
 "metadata": {
  "kernelspec": {
   "display_name": "Python 3",
   "language": "python",
   "name": "python3"
  },
  "language_info": {
   "codemirror_mode": {
    "name": "ipython",
    "version": 3
   },
   "file_extension": ".py",
   "mimetype": "text/x-python",
   "name": "python",
   "nbconvert_exporter": "python",
   "pygments_lexer": "ipython3",
   "version": "3.6.2"
  }
 },
 "nbformat": 4,
 "nbformat_minor": 2
}
