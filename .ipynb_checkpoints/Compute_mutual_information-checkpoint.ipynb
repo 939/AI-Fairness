{
 "cells": [
  {
   "cell_type": "markdown",
   "metadata": {},
   "source": [
    "# Mutual information"
   ]
  },
  {
   "cell_type": "markdown",
   "metadata": {},
   "source": [
    "The purpose of this notebook is to find the features with the highest mutual information with both the target `y` and the sensitive features `s9` (here the loan applicant's sex)."
   ]
  },
  {
   "cell_type": "code",
   "execution_count": 29,
   "metadata": {},
   "outputs": [],
   "source": [
    "# import everything required\n",
    "import numpy as np\n",
    "import pandas as pd\n",
    "import keras as ks\n",
    "import matplotlib.pyplot as plt\n",
    "from sklearn import feature_selection\n",
    "from sklearn.metrics.cluster import normalized_mutual_info_score as mi\n",
    "\n",
    "# for reproducibility\n",
    "np.random.seed(123)\n",
    "\n",
    "# load data\n",
    "PATH=\"datasets/german_credit.csv\"\n",
    "raw_data = pd.read_csv(PATH, index_col=False)\n",
    "df = pd.DataFrame(raw_data)"
   ]
  },
  {
   "cell_type": "code",
   "execution_count": 58,
   "metadata": {},
   "outputs": [
    {
     "name": "stdout",
     "output_type": "stream",
     "text": [
      "There is maximum mutual information of 0.37008620506805123 between s9 and ns5\n",
      "[[0.0056476 ]\n",
      " [0.03453689]\n",
      " [0.01194647]\n",
      " [0.02432974]\n",
      " [0.37008621]\n",
      " [0.00523346]\n",
      " [0.03399761]\n",
      " [0.01329708]\n",
      " [0.00362657]\n",
      " [0.01488925]\n",
      " [0.01970804]\n",
      " [0.07196294]\n",
      " [0.00455454]\n",
      " [0.04670449]\n",
      " [0.01101005]\n",
      " [0.00946846]\n",
      " [0.06826694]\n",
      " [0.00472697]\n",
      " [0.00564488]\n",
      " [0.00586109]]\n",
      "There is maximum mutual information of 0.2802530349639538 between y and ns5\n",
      "[[7.51771477e-02]\n",
      " [3.47819316e-02]\n",
      " [3.55114453e-02]\n",
      " [1.62383444e-02]\n",
      " [2.80253035e-01]\n",
      " [2.30526511e-02]\n",
      " [9.50704284e-03]\n",
      " [3.14594511e-03]\n",
      " [5.86109088e-03]\n",
      " [6.96359572e-03]\n",
      " [4.25781454e-04]\n",
      " [1.29640471e-02]\n",
      " [2.11531997e-02]\n",
      " [1.02862592e-02]\n",
      " [1.27290198e-02]\n",
      " [1.97841899e-03]\n",
      " [1.19826892e-03]\n",
      " [8.86908694e-06]\n",
      " [1.04052779e-03]\n",
      " [1.29799384e-02]]\n"
     ]
    }
   ],
   "source": [
    "def mutual_info_stats(df, sensitive_name):\n",
    "\n",
    "    sensitive = df[sensitive_name]\n",
    "    df = df.drop(sensitive_name, axis=1)\n",
    "    \n",
    "    mutual_informations = np.zeros((df.shape[1], 1))\n",
    "\n",
    "    for i, col in enumerate(df.columns):\n",
    "        mutual_informations[i] = mi(df[col], sensitive)\n",
    "        \n",
    "    maximum = np.amax(mutual_informations)\n",
    "    index_of_max = np.argmax(mutual_informations)\n",
    "    \n",
    "    print(\"There is maximum mutual information of\", maximum, \"between\", sensitive_name, \"and\", df.columns[index_of_max])\n",
    "    \n",
    "    return mutual_informations\n",
    "\n",
    "print(mutual_info_stats(df, 's9'))\n",
    "print(mutual_info_stats(df, 'y'))"
   ]
  },
  {
   "cell_type": "markdown",
   "metadata": {},
   "source": [
    "I found that the feature with the highest mutual information with the target `y` is also the feature with the highest mutual information with the sensitive feature `s9`. That feature is `ns5`, i.e. the applicant's credit score. "
   ]
  },
  {
   "cell_type": "code",
   "execution_count": null,
   "metadata": {
    "collapsed": true
   },
   "outputs": [],
   "source": []
  }
 ],
 "metadata": {
  "kernelspec": {
   "display_name": "Python 3",
   "language": "python",
   "name": "python3"
  },
  "language_info": {
   "codemirror_mode": {
    "name": "ipython",
    "version": 3
   },
   "file_extension": ".py",
   "mimetype": "text/x-python",
   "name": "python",
   "nbconvert_exporter": "python",
   "pygments_lexer": "ipython3",
   "version": "3.6.2"
  }
 },
 "nbformat": 4,
 "nbformat_minor": 2
}
