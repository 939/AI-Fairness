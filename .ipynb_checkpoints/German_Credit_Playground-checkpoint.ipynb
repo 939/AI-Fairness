{
 "cells": [
  {
   "cell_type": "markdown",
   "metadata": {},
   "source": [
    "# German Credit Playground notebook\n",
    "\n",
    "Structured as follows:\n",
    "\n",
    "## 1. importing and data wrangling\n",
    "## 2. logistic regression playground\n",
    "## 3. neural network playground (includes bootstrapping!)\n",
    "\n",
    "But first: \n",
    "\n",
    "## 1. importing and data wrangling"
   ]
  },
  {
   "cell_type": "code",
   "execution_count": 1,
   "metadata": {},
   "outputs": [
    {
     "name": "stderr",
     "output_type": "stream",
     "text": [
      "/anaconda/envs/mlp/lib/python3.6/site-packages/h5py/__init__.py:36: FutureWarning: Conversion of the second argument of issubdtype from `float` to `np.floating` is deprecated. In future, it will be treated as `np.float64 == np.dtype(float).type`.\n",
      "  from ._conv import register_converters as _register_converters\n",
      "Using TensorFlow backend.\n"
     ]
    }
   ],
   "source": [
    "# import everything required\n",
    "import numpy as np\n",
    "import pandas as pd\n",
    "import keras as ks\n",
    "import matplotlib.pyplot as plt\n",
    "import sklearn as sk\n",
    "from sklearn.linear_model import LogisticRegression\n",
    "\n",
    "# for reproducibility\n",
    "np.random.seed(123)"
   ]
  },
  {
   "cell_type": "code",
   "execution_count": 2,
   "metadata": {
    "scrolled": true
   },
   "outputs": [
    {
     "data": {
      "text/html": [
       "<div>\n",
       "<style>\n",
       "    .dataframe thead tr:only-child th {\n",
       "        text-align: right;\n",
       "    }\n",
       "\n",
       "    .dataframe thead th {\n",
       "        text-align: left;\n",
       "    }\n",
       "\n",
       "    .dataframe tbody tr th {\n",
       "        vertical-align: top;\n",
       "    }\n",
       "</style>\n",
       "<table border=\"1\" class=\"dataframe\">\n",
       "  <thead>\n",
       "    <tr style=\"text-align: right;\">\n",
       "      <th></th>\n",
       "      <th>ns1</th>\n",
       "      <th>ns2</th>\n",
       "      <th>ns3</th>\n",
       "      <th>ns4</th>\n",
       "      <th>ns5</th>\n",
       "      <th>ns6</th>\n",
       "      <th>ns7</th>\n",
       "      <th>ns8</th>\n",
       "      <th>s9</th>\n",
       "      <th>ns10</th>\n",
       "      <th>...</th>\n",
       "      <th>ns12</th>\n",
       "      <th>s13</th>\n",
       "      <th>ns14</th>\n",
       "      <th>ns15</th>\n",
       "      <th>ns16</th>\n",
       "      <th>ns17</th>\n",
       "      <th>ns18</th>\n",
       "      <th>ns19</th>\n",
       "      <th>ns20</th>\n",
       "      <th>y</th>\n",
       "    </tr>\n",
       "  </thead>\n",
       "  <tbody>\n",
       "    <tr>\n",
       "      <th>0</th>\n",
       "      <td>A11</td>\n",
       "      <td>6</td>\n",
       "      <td>A34</td>\n",
       "      <td>A43</td>\n",
       "      <td>1169</td>\n",
       "      <td>A65</td>\n",
       "      <td>A75</td>\n",
       "      <td>4</td>\n",
       "      <td>A93</td>\n",
       "      <td>A101</td>\n",
       "      <td>...</td>\n",
       "      <td>A121</td>\n",
       "      <td>67</td>\n",
       "      <td>A143</td>\n",
       "      <td>A152</td>\n",
       "      <td>2</td>\n",
       "      <td>A173</td>\n",
       "      <td>1</td>\n",
       "      <td>A192</td>\n",
       "      <td>A201</td>\n",
       "      <td>1</td>\n",
       "    </tr>\n",
       "    <tr>\n",
       "      <th>1</th>\n",
       "      <td>A12</td>\n",
       "      <td>48</td>\n",
       "      <td>A32</td>\n",
       "      <td>A43</td>\n",
       "      <td>5951</td>\n",
       "      <td>A61</td>\n",
       "      <td>A73</td>\n",
       "      <td>2</td>\n",
       "      <td>A92</td>\n",
       "      <td>A101</td>\n",
       "      <td>...</td>\n",
       "      <td>A121</td>\n",
       "      <td>22</td>\n",
       "      <td>A143</td>\n",
       "      <td>A152</td>\n",
       "      <td>1</td>\n",
       "      <td>A173</td>\n",
       "      <td>1</td>\n",
       "      <td>A191</td>\n",
       "      <td>A201</td>\n",
       "      <td>2</td>\n",
       "    </tr>\n",
       "    <tr>\n",
       "      <th>2</th>\n",
       "      <td>A14</td>\n",
       "      <td>12</td>\n",
       "      <td>A34</td>\n",
       "      <td>A46</td>\n",
       "      <td>2096</td>\n",
       "      <td>A61</td>\n",
       "      <td>A74</td>\n",
       "      <td>2</td>\n",
       "      <td>A93</td>\n",
       "      <td>A101</td>\n",
       "      <td>...</td>\n",
       "      <td>A121</td>\n",
       "      <td>49</td>\n",
       "      <td>A143</td>\n",
       "      <td>A152</td>\n",
       "      <td>1</td>\n",
       "      <td>A172</td>\n",
       "      <td>2</td>\n",
       "      <td>A191</td>\n",
       "      <td>A201</td>\n",
       "      <td>1</td>\n",
       "    </tr>\n",
       "    <tr>\n",
       "      <th>3</th>\n",
       "      <td>A11</td>\n",
       "      <td>42</td>\n",
       "      <td>A32</td>\n",
       "      <td>A42</td>\n",
       "      <td>7882</td>\n",
       "      <td>A61</td>\n",
       "      <td>A74</td>\n",
       "      <td>2</td>\n",
       "      <td>A93</td>\n",
       "      <td>A103</td>\n",
       "      <td>...</td>\n",
       "      <td>A122</td>\n",
       "      <td>45</td>\n",
       "      <td>A143</td>\n",
       "      <td>A153</td>\n",
       "      <td>1</td>\n",
       "      <td>A173</td>\n",
       "      <td>2</td>\n",
       "      <td>A191</td>\n",
       "      <td>A201</td>\n",
       "      <td>1</td>\n",
       "    </tr>\n",
       "    <tr>\n",
       "      <th>4</th>\n",
       "      <td>A11</td>\n",
       "      <td>24</td>\n",
       "      <td>A33</td>\n",
       "      <td>A40</td>\n",
       "      <td>4870</td>\n",
       "      <td>A61</td>\n",
       "      <td>A73</td>\n",
       "      <td>3</td>\n",
       "      <td>A93</td>\n",
       "      <td>A101</td>\n",
       "      <td>...</td>\n",
       "      <td>A124</td>\n",
       "      <td>53</td>\n",
       "      <td>A143</td>\n",
       "      <td>A153</td>\n",
       "      <td>2</td>\n",
       "      <td>A173</td>\n",
       "      <td>2</td>\n",
       "      <td>A191</td>\n",
       "      <td>A201</td>\n",
       "      <td>2</td>\n",
       "    </tr>\n",
       "  </tbody>\n",
       "</table>\n",
       "<p>5 rows × 21 columns</p>\n",
       "</div>"
      ],
      "text/plain": [
       "   ns1  ns2  ns3  ns4   ns5  ns6  ns7  ns8   s9  ns10 ...  ns12 s13  ns14  \\\n",
       "0  A11    6  A34  A43  1169  A65  A75    4  A93  A101 ...  A121  67  A143   \n",
       "1  A12   48  A32  A43  5951  A61  A73    2  A92  A101 ...  A121  22  A143   \n",
       "2  A14   12  A34  A46  2096  A61  A74    2  A93  A101 ...  A121  49  A143   \n",
       "3  A11   42  A32  A42  7882  A61  A74    2  A93  A103 ...  A122  45  A143   \n",
       "4  A11   24  A33  A40  4870  A61  A73    3  A93  A101 ...  A124  53  A143   \n",
       "\n",
       "   ns15 ns16  ns17 ns18  ns19  ns20  y  \n",
       "0  A152    2  A173    1  A192  A201  1  \n",
       "1  A152    1  A173    1  A191  A201  2  \n",
       "2  A152    1  A172    2  A191  A201  1  \n",
       "3  A153    1  A173    2  A191  A201  1  \n",
       "4  A153    2  A173    2  A191  A201  2  \n",
       "\n",
       "[5 rows x 21 columns]"
      ]
     },
     "execution_count": 2,
     "metadata": {},
     "output_type": "execute_result"
    }
   ],
   "source": [
    "# load data\n",
    "PATH=\"datasets/german_credit.csv\"\n",
    "raw_data = pd.read_csv(PATH, index_col=False)\n",
    "df = pd.DataFrame(raw_data)\n",
    "df.head()"
   ]
  },
  {
   "cell_type": "code",
   "execution_count": 3,
   "metadata": {},
   "outputs": [],
   "source": [
    "# one-hot encode categorical variables\n",
    "categoricals = [\"ns1\", \"ns3\", \"ns4\", \"ns6\", \"ns7\", \"s9\", \"ns10\", \"ns12\", \"ns14\", \"ns15\", \"ns17\", \"ns19\", \"ns20\"]\n",
    "for a in categoricals:\n",
    "    one_hot = pd.get_dummies(df[a])\n",
    "    df = df.join(one_hot)\n",
    "    df = df.drop(a, axis=1)\n",
    "# create labels, drop labels from main database, turn y into a binary variable\n",
    "y = df[\"y\"] - 1\n",
    "df = df.drop(\"y\", axis=1)"
   ]
  },
  {
   "cell_type": "code",
   "execution_count": 4,
   "metadata": {},
   "outputs": [],
   "source": [
    "sensitive = df[\"A93\"]\n",
    "df = df.drop(\"A93\", axis=1)\n",
    "df = df.drop(\"A91\", axis=1)\n",
    "df = df.drop(\"A92\", axis=1)\n",
    "df = df.drop(\"A94\", axis=1)"
   ]
  },
  {
   "cell_type": "code",
   "execution_count": 5,
   "metadata": {
    "collapsed": true
   },
   "outputs": [],
   "source": [
    "# train-test split\n",
    "X_train = df[0:800]\n",
    "X_val = df[800:900]\n",
    "X_test = df[900:1000]\n",
    "y_train = y[0:800]\n",
    "y_val = y[800:900]\n",
    "y_test = y[900:1000]"
   ]
  },
  {
   "cell_type": "markdown",
   "metadata": {},
   "source": [
    "## 2. logistic regression playground"
   ]
  },
  {
   "cell_type": "markdown",
   "metadata": {},
   "source": [
    "I computed elsewhere that the feature with the biggest mutual information with the applicant's sex (`s9`) is feature `ns5`, i.e. the applicant's credit score. Annoyingly, this is also the feature that has highest mutual information with the target `y`. The goal of this section is to figure out whether this is bad news or not, by first computing the accuracy of a logistic regression with the credit score information untouched, and computing the accuracy of a logistic regression with the credit score information fiddled with.\n",
    "\n",
    "### Untouched logistic regression:"
   ]
  },
  {
   "cell_type": "code",
   "execution_count": 6,
   "metadata": {
    "collapsed": true
   },
   "outputs": [],
   "source": [
    "def fit_logistic_regression(X, y):\n",
    "    model = LogisticRegression()\n",
    "    model = model.fit(X, y)\n",
    "    \n",
    "    return model\n",
    "    #return model.coef_, model.intercept_, model.Score(X, y)"
   ]
  },
  {
   "cell_type": "code",
   "execution_count": 7,
   "metadata": {},
   "outputs": [
    {
     "name": "stdout",
     "output_type": "stream",
     "text": [
      "0.76\n",
      "[[ 2.89195851e-02  6.86301683e-05  2.42856034e-01 -1.94042482e-02\n",
      "  -2.24581304e-02  2.09284158e-01  1.08169393e-01  6.03257178e-01\n",
      "   3.11840437e-01 -3.32947593e-01 -1.10715928e+00  4.21431152e-01\n",
      "   4.82874816e-01 -2.38231858e-01 -3.56527627e-01 -8.34555743e-01\n",
      "   6.19346074e-01 -9.61378155e-01 -3.06283070e-01 -1.87824249e-01\n",
      "  -2.40964759e-01 -2.11626462e-03  2.77352845e-01  5.99298273e-01\n",
      "  -2.76940416e-01 -4.54995396e-02  3.69965444e-01  5.23725466e-02\n",
      "  -1.79183038e-01 -4.51206794e-01 -3.16957419e-01  1.56028930e-01\n",
      "   1.77650737e-01  1.04443975e-02 -7.77386373e-01 -9.17469507e-02\n",
      "  -1.19349888e-01  3.88388960e-01 -7.94048332e-01 -3.89359909e-01\n",
      "  -5.11781310e-02 -2.12695882e-01  1.28224663e-01 -5.08981988e-02\n",
      "  -2.16335541e-02 -4.52477507e-01  1.45932424e-01 -3.72605772e-01\n",
      "  -2.98335912e-01 -2.73752875e-01 -2.10896615e-01 -1.62096717e-01\n",
      "   1.21736947e-01 -1.02991296e-01 -4.22017964e-01  1.61287807e-01\n",
      "  -6.86297067e-01]]\n"
     ]
    }
   ],
   "source": [
    "model_unfiddled = fit_logistic_regression(X_train, y_train)\n",
    "\n",
    "print(model_unfiddled.score(X_val, y_val))\n",
    "print(model_unfiddled.coef_)"
   ]
  },
  {
   "cell_type": "markdown",
   "metadata": {},
   "source": [
    "### Logistic regression with fiddled `ns5`"
   ]
  },
  {
   "cell_type": "code",
   "execution_count": 8,
   "metadata": {
    "collapsed": true
   },
   "outputs": [],
   "source": [
    "#fiddle\n",
    "X_train_fiddled = X_train.copy()\n",
    "X_train_fiddled['ns5'] += np.transpose(np.random.randn(800))*100000"
   ]
  },
  {
   "cell_type": "code",
   "execution_count": 9,
   "metadata": {
    "scrolled": true
   },
   "outputs": [
    {
     "name": "stdout",
     "output_type": "stream",
     "text": [
      "0.74\n",
      "[[ 2.97237291e-02 -1.50833404e-06  9.53095353e-03 -1.36689810e-02\n",
      "  -3.74363480e-02 -1.51959461e-02 -7.00344852e-03  3.38202008e-02\n",
      "   1.79527973e-02 -3.68016930e-03 -5.95039625e-02  8.82189343e-03\n",
      "   9.12745686e-03 -6.42701012e-03  1.76659018e-04 -2.31101329e-02\n",
      "   1.81943008e-02 -1.52269801e-02  5.71353011e-04 -1.65741939e-03\n",
      "  -2.11398145e-02  6.72288738e-05  1.69145504e-03  7.42616182e-03\n",
      "  -1.22422350e-03 -1.13195743e-04  1.70608683e-02 -5.00745190e-04\n",
      "  -8.07384778e-03 -5.97244675e-03 -1.39249623e-02  5.93785055e-03\n",
      "   7.73252140e-03 -6.86406060e-03 -1.83543661e-02  1.36921123e-04\n",
      "  -9.91595995e-03  4.16390345e-03 -5.65907717e-03 -1.59787392e-02\n",
      "  -3.72155777e-04 -1.19164422e-02  1.68562035e-02  8.01826108e-03\n",
      "   2.82935632e-03 -2.22587511e-02  5.02220333e-03 -2.81594051e-02\n",
      "   1.17260681e-02  4.67987374e-04  7.41313707e-04 -1.97853026e-02\n",
      "   7.16486788e-03 -2.19980284e-04 -1.11911534e-02 -6.46211154e-03\n",
      "  -4.94902213e-03]]\n"
     ]
    }
   ],
   "source": [
    "model_fiddled = fit_logistic_regression(X_train_fiddled, y_train)\n",
    "print(model_fiddled.score(X_val, y_val))\n",
    "print(model_fiddled.coef_)"
   ]
  },
  {
   "cell_type": "code",
   "execution_count": 10,
   "metadata": {
    "collapsed": true
   },
   "outputs": [],
   "source": [
    "averages = [0]*61\n",
    "\n",
    "for i, col in enumerate(X_train.columns):\n",
    "    averages[i] = np.average(model_fiddled.coef_[0][i]*X_train[col])"
   ]
  },
  {
   "cell_type": "code",
   "execution_count": 11,
   "metadata": {},
   "outputs": [
    {
     "name": "stdout",
     "output_type": "stream",
     "text": [
      "[0.6138321612117015, -0.004813058103611578, 0.0282711909105334, -0.0388369923465342, -1.325480695117193, -0.021217339703959295, -0.008036457171981507, 0.008835527466404876, 0.0050716652485573955, -0.0002530116395496912, -0.023057785483939594, 0.0003639031040479007, 0.0004221448799006697, -0.003406315365423509, 1.5678487826916393e-05, -0.0067886015281768694, 0.004184689178943931, -0.0015417317333323293, 7.141912642721243e-06, -0.00029833549073084436, -0.005892723287199237, 7.563248300752808e-07, 4.017205719474629e-05, 0.0004177216025726758, -1.2242234986624162e-05, -1.08950902396738e-05, 0.010151216637906649, -5.5707902433683696e-05, -0.000514707795883589, -0.00031355345436998613, -0.0024716807999939027, 0.00035627103300871806, 0.0012855316819554736, -0.0023595208300421578, -0.003234957033048873, 3.4743734887282344e-05, -0.009023523552115933, 0.00015614637933201355, -0.00029710155167926653, -0.004573914094786552, -8.233946556639555e-05, -0.0039622170335366, 0.002696992560814, 0.001122556550743356, 0.00012378433888462736, -0.018168705558823148, 0.0008788855828672954, -0.020063576114657894, 0.0013191826577809605, 9.944731695106676e-06, 0.00014918938356582378, -0.012440009030826255, 0.0010657740970167872, -0.00013226314604867877, -0.004462472413816409, -0.00624401527714171, -0.00016702949694475755, 0, 0, 0, 0]\n"
     ]
    },
    {
     "data": {
      "image/png": "[encoded data removed]",
      "text/plain": [
       "<matplotlib.figure.Figure at 0x11a231208>"
      ]
     },
     "metadata": {},
     "output_type": "display_data"
    }
   ],
   "source": [
    "print(averages)\n",
    "plt.hist(averages, bins=100)\n",
    "plt.show()"
   ]
  },
  {
   "cell_type": "code",
   "execution_count": 12,
   "metadata": {},
   "outputs": [
    {
     "data": {
      "text/html": [
       "<div>\n",
       "<style>\n",
       "    .dataframe thead tr:only-child th {\n",
       "        text-align: right;\n",
       "    }\n",
       "\n",
       "    .dataframe thead th {\n",
       "        text-align: left;\n",
       "    }\n",
       "\n",
       "    .dataframe tbody tr th {\n",
       "        vertical-align: top;\n",
       "    }\n",
       "</style>\n",
       "<table border=\"1\" class=\"dataframe\">\n",
       "  <thead>\n",
       "    <tr style=\"text-align: right;\">\n",
       "      <th></th>\n",
       "      <th>ns2</th>\n",
       "      <th>ns5</th>\n",
       "      <th>ns8</th>\n",
       "      <th>ns11</th>\n",
       "      <th>s13</th>\n",
       "      <th>ns16</th>\n",
       "      <th>ns18</th>\n",
       "      <th>A11</th>\n",
       "      <th>A12</th>\n",
       "      <th>A13</th>\n",
       "      <th>...</th>\n",
       "      <th>A152</th>\n",
       "      <th>A153</th>\n",
       "      <th>A171</th>\n",
       "      <th>A172</th>\n",
       "      <th>A173</th>\n",
       "      <th>A174</th>\n",
       "      <th>A191</th>\n",
       "      <th>A192</th>\n",
       "      <th>A201</th>\n",
       "      <th>A202</th>\n",
       "    </tr>\n",
       "  </thead>\n",
       "  <tbody>\n",
       "    <tr>\n",
       "      <th>0</th>\n",
       "      <td>6</td>\n",
       "      <td>1169</td>\n",
       "      <td>4</td>\n",
       "      <td>4</td>\n",
       "      <td>67</td>\n",
       "      <td>2</td>\n",
       "      <td>1</td>\n",
       "      <td>1</td>\n",
       "      <td>0</td>\n",
       "      <td>0</td>\n",
       "      <td>...</td>\n",
       "      <td>1</td>\n",
       "      <td>0</td>\n",
       "      <td>0</td>\n",
       "      <td>0</td>\n",
       "      <td>1</td>\n",
       "      <td>0</td>\n",
       "      <td>0</td>\n",
       "      <td>1</td>\n",
       "      <td>1</td>\n",
       "      <td>0</td>\n",
       "    </tr>\n",
       "    <tr>\n",
       "      <th>1</th>\n",
       "      <td>48</td>\n",
       "      <td>5951</td>\n",
       "      <td>2</td>\n",
       "      <td>2</td>\n",
       "      <td>22</td>\n",
       "      <td>1</td>\n",
       "      <td>1</td>\n",
       "      <td>0</td>\n",
       "      <td>1</td>\n",
       "      <td>0</td>\n",
       "      <td>...</td>\n",
       "      <td>1</td>\n",
       "      <td>0</td>\n",
       "      <td>0</td>\n",
       "      <td>0</td>\n",
       "      <td>1</td>\n",
       "      <td>0</td>\n",
       "      <td>1</td>\n",
       "      <td>0</td>\n",
       "      <td>1</td>\n",
       "      <td>0</td>\n",
       "    </tr>\n",
       "    <tr>\n",
       "      <th>2</th>\n",
       "      <td>12</td>\n",
       "      <td>2096</td>\n",
       "      <td>2</td>\n",
       "      <td>3</td>\n",
       "      <td>49</td>\n",
       "      <td>1</td>\n",
       "      <td>2</td>\n",
       "      <td>0</td>\n",
       "      <td>0</td>\n",
       "      <td>0</td>\n",
       "      <td>...</td>\n",
       "      <td>1</td>\n",
       "      <td>0</td>\n",
       "      <td>0</td>\n",
       "      <td>1</td>\n",
       "      <td>0</td>\n",
       "      <td>0</td>\n",
       "      <td>1</td>\n",
       "      <td>0</td>\n",
       "      <td>1</td>\n",
       "      <td>0</td>\n",
       "    </tr>\n",
       "    <tr>\n",
       "      <th>3</th>\n",
       "      <td>42</td>\n",
       "      <td>7882</td>\n",
       "      <td>2</td>\n",
       "      <td>4</td>\n",
       "      <td>45</td>\n",
       "      <td>1</td>\n",
       "      <td>2</td>\n",
       "      <td>1</td>\n",
       "      <td>0</td>\n",
       "      <td>0</td>\n",
       "      <td>...</td>\n",
       "      <td>0</td>\n",
       "      <td>1</td>\n",
       "      <td>0</td>\n",
       "      <td>0</td>\n",
       "      <td>1</td>\n",
       "      <td>0</td>\n",
       "      <td>1</td>\n",
       "      <td>0</td>\n",
       "      <td>1</td>\n",
       "      <td>0</td>\n",
       "    </tr>\n",
       "    <tr>\n",
       "      <th>4</th>\n",
       "      <td>24</td>\n",
       "      <td>4870</td>\n",
       "      <td>3</td>\n",
       "      <td>4</td>\n",
       "      <td>53</td>\n",
       "      <td>2</td>\n",
       "      <td>2</td>\n",
       "      <td>1</td>\n",
       "      <td>0</td>\n",
       "      <td>0</td>\n",
       "      <td>...</td>\n",
       "      <td>0</td>\n",
       "      <td>1</td>\n",
       "      <td>0</td>\n",
       "      <td>0</td>\n",
       "      <td>1</td>\n",
       "      <td>0</td>\n",
       "      <td>1</td>\n",
       "      <td>0</td>\n",
       "      <td>1</td>\n",
       "      <td>0</td>\n",
       "    </tr>\n",
       "  </tbody>\n",
       "</table>\n",
       "<p>5 rows × 57 columns</p>\n",
       "</div>"
      ],
      "text/plain": [
       "   ns2   ns5  ns8  ns11  s13  ns16  ns18  A11  A12  A13  ...   A152  A153  \\\n",
       "0    6  1169    4     4   67     2     1    1    0    0  ...      1     0   \n",
       "1   48  5951    2     2   22     1     1    0    1    0  ...      1     0   \n",
       "2   12  2096    2     3   49     1     2    0    0    0  ...      1     0   \n",
       "3   42  7882    2     4   45     1     2    1    0    0  ...      0     1   \n",
       "4   24  4870    3     4   53     2     2    1    0    0  ...      0     1   \n",
       "\n",
       "   A171  A172  A173  A174  A191  A192  A201  A202  \n",
       "0     0     0     1     0     0     1     1     0  \n",
       "1     0     0     1     0     1     0     1     0  \n",
       "2     0     1     0     0     1     0     1     0  \n",
       "3     0     0     1     0     1     0     1     0  \n",
       "4     0     0     1     0     1     0     1     0  \n",
       "\n",
       "[5 rows x 57 columns]"
      ]
     },
     "execution_count": 12,
     "metadata": {},
     "output_type": "execute_result"
    }
   ],
   "source": [
    "X_train.head()"
   ]
  },
  {
   "cell_type": "code",
   "execution_count": 13,
   "metadata": {},
   "outputs": [
    {
     "data": {
      "text/html": [
       "<div>\n",
       "<style>\n",
       "    .dataframe thead tr:only-child th {\n",
       "        text-align: right;\n",
       "    }\n",
       "\n",
       "    .dataframe thead th {\n",
       "        text-align: left;\n",
       "    }\n",
       "\n",
       "    .dataframe tbody tr th {\n",
       "        vertical-align: top;\n",
       "    }\n",
       "</style>\n",
       "<table border=\"1\" class=\"dataframe\">\n",
       "  <thead>\n",
       "    <tr style=\"text-align: right;\">\n",
       "      <th></th>\n",
       "      <th>ns2</th>\n",
       "      <th>ns5</th>\n",
       "      <th>ns8</th>\n",
       "      <th>ns11</th>\n",
       "      <th>s13</th>\n",
       "      <th>ns16</th>\n",
       "      <th>ns18</th>\n",
       "      <th>A11</th>\n",
       "      <th>A12</th>\n",
       "      <th>A13</th>\n",
       "      <th>...</th>\n",
       "      <th>A152</th>\n",
       "      <th>A153</th>\n",
       "      <th>A171</th>\n",
       "      <th>A172</th>\n",
       "      <th>A173</th>\n",
       "      <th>A174</th>\n",
       "      <th>A191</th>\n",
       "      <th>A192</th>\n",
       "      <th>A201</th>\n",
       "      <th>A202</th>\n",
       "    </tr>\n",
       "  </thead>\n",
       "  <tbody>\n",
       "    <tr>\n",
       "      <th>0</th>\n",
       "      <td>6</td>\n",
       "      <td>-55791.969590</td>\n",
       "      <td>4</td>\n",
       "      <td>4</td>\n",
       "      <td>67</td>\n",
       "      <td>2</td>\n",
       "      <td>1</td>\n",
       "      <td>1</td>\n",
       "      <td>0</td>\n",
       "      <td>0</td>\n",
       "      <td>...</td>\n",
       "      <td>1</td>\n",
       "      <td>0</td>\n",
       "      <td>0</td>\n",
       "      <td>0</td>\n",
       "      <td>1</td>\n",
       "      <td>0</td>\n",
       "      <td>0</td>\n",
       "      <td>1</td>\n",
       "      <td>1</td>\n",
       "      <td>0</td>\n",
       "    </tr>\n",
       "    <tr>\n",
       "      <th>1</th>\n",
       "      <td>48</td>\n",
       "      <td>175534.372043</td>\n",
       "      <td>2</td>\n",
       "      <td>2</td>\n",
       "      <td>22</td>\n",
       "      <td>1</td>\n",
       "      <td>1</td>\n",
       "      <td>0</td>\n",
       "      <td>1</td>\n",
       "      <td>0</td>\n",
       "      <td>...</td>\n",
       "      <td>1</td>\n",
       "      <td>0</td>\n",
       "      <td>0</td>\n",
       "      <td>0</td>\n",
       "      <td>1</td>\n",
       "      <td>0</td>\n",
       "      <td>1</td>\n",
       "      <td>0</td>\n",
       "      <td>1</td>\n",
       "      <td>0</td>\n",
       "    </tr>\n",
       "    <tr>\n",
       "      <th>2</th>\n",
       "      <td>12</td>\n",
       "      <td>113183.147343</td>\n",
       "      <td>2</td>\n",
       "      <td>3</td>\n",
       "      <td>49</td>\n",
       "      <td>1</td>\n",
       "      <td>2</td>\n",
       "      <td>0</td>\n",
       "      <td>0</td>\n",
       "      <td>0</td>\n",
       "      <td>...</td>\n",
       "      <td>1</td>\n",
       "      <td>0</td>\n",
       "      <td>0</td>\n",
       "      <td>1</td>\n",
       "      <td>0</td>\n",
       "      <td>0</td>\n",
       "      <td>1</td>\n",
       "      <td>0</td>\n",
       "      <td>1</td>\n",
       "      <td>0</td>\n",
       "    </tr>\n",
       "    <tr>\n",
       "      <th>3</th>\n",
       "      <td>42</td>\n",
       "      <td>104641.406824</td>\n",
       "      <td>2</td>\n",
       "      <td>4</td>\n",
       "      <td>45</td>\n",
       "      <td>1</td>\n",
       "      <td>2</td>\n",
       "      <td>1</td>\n",
       "      <td>0</td>\n",
       "      <td>0</td>\n",
       "      <td>...</td>\n",
       "      <td>0</td>\n",
       "      <td>1</td>\n",
       "      <td>0</td>\n",
       "      <td>0</td>\n",
       "      <td>1</td>\n",
       "      <td>0</td>\n",
       "      <td>1</td>\n",
       "      <td>0</td>\n",
       "      <td>1</td>\n",
       "      <td>0</td>\n",
       "    </tr>\n",
       "    <tr>\n",
       "      <th>4</th>\n",
       "      <td>24</td>\n",
       "      <td>157006.080062</td>\n",
       "      <td>3</td>\n",
       "      <td>4</td>\n",
       "      <td>53</td>\n",
       "      <td>2</td>\n",
       "      <td>2</td>\n",
       "      <td>1</td>\n",
       "      <td>0</td>\n",
       "      <td>0</td>\n",
       "      <td>...</td>\n",
       "      <td>0</td>\n",
       "      <td>1</td>\n",
       "      <td>0</td>\n",
       "      <td>0</td>\n",
       "      <td>1</td>\n",
       "      <td>0</td>\n",
       "      <td>1</td>\n",
       "      <td>0</td>\n",
       "      <td>1</td>\n",
       "      <td>0</td>\n",
       "    </tr>\n",
       "  </tbody>\n",
       "</table>\n",
       "<p>5 rows × 57 columns</p>\n",
       "</div>"
      ],
      "text/plain": [
       "   ns2            ns5  ns8  ns11  s13  ns16  ns18  A11  A12  A13  ...   A152  \\\n",
       "0    6  -55791.969590    4     4   67     2     1    1    0    0  ...      1   \n",
       "1   48  175534.372043    2     2   22     1     1    0    1    0  ...      1   \n",
       "2   12  113183.147343    2     3   49     1     2    0    0    0  ...      1   \n",
       "3   42  104641.406824    2     4   45     1     2    1    0    0  ...      0   \n",
       "4   24  157006.080062    3     4   53     2     2    1    0    0  ...      0   \n",
       "\n",
       "   A153  A171  A172  A173  A174  A191  A192  A201  A202  \n",
       "0     0     0     0     1     0     0     1     1     0  \n",
       "1     0     0     0     1     0     1     0     1     0  \n",
       "2     0     0     1     0     0     1     0     1     0  \n",
       "3     1     0     0     1     0     1     0     1     0  \n",
       "4     1     0     0     1     0     1     0     1     0  \n",
       "\n",
       "[5 rows x 57 columns]"
      ]
     },
     "execution_count": 13,
     "metadata": {},
     "output_type": "execute_result"
    }
   ],
   "source": [
    "X_train_fiddled.head()"
   ]
  },
  {
   "cell_type": "markdown",
   "metadata": {},
   "source": [
    "This doesn't make sense to me, as I computed elsewhere (in my compute_mutual_information notebook) that the mutual information between the target and feature `ns5` is high, and so prediction accuracy should be affected if it is randomised. I do not know why this happened :("
   ]
  },
  {
   "cell_type": "markdown",
   "metadata": {
    "collapsed": true
   },
   "source": [
    "## 3. neural networks playground"
   ]
  },
  {
   "cell_type": "code",
   "execution_count": 15,
   "metadata": {},
   "outputs": [
    {
     "name": "stdout",
     "output_type": "stream",
     "text": [
      "Train on 800 samples, validate on 100 samples\n",
      "Epoch 1/100\n",
      "800/800 [==============================] - 1s 855us/step - loss: 0.7012 - val_loss: 0.7100\n",
      "Epoch 2/100\n",
      "800/800 [==============================] - 0s 80us/step - loss: 0.7012 - val_loss: 0.7100\n",
      "Epoch 3/100\n",
      "800/800 [==============================] - 0s 74us/step - loss: 0.7013 - val_loss: 0.7100\n",
      "Epoch 4/100\n",
      "800/800 [==============================] - 0s 70us/step - loss: 0.7013 - val_loss: 0.7100\n",
      "Epoch 5/100\n",
      "800/800 [==============================] - 0s 78us/step - loss: 0.7013 - val_loss: 0.7100\n",
      "Epoch 6/100\n",
      "800/800 [==============================] - 0s 75us/step - loss: 0.7012 - val_loss: 0.7100\n",
      "Epoch 00006: early stopping\n"
     ]
    }
   ],
   "source": [
    "from keras.models import Sequential\n",
    "from keras.layers import Dense\n",
    "\n",
    "# create model\n",
    "model = ks.Sequential()\n",
    "model.add(ks.layers.Dense(200, activation='relu', input_shape=(57,)))\n",
    "model.add(ks.layers.Dense(100, activation='relu'))\n",
    "model.add(ks.layers.Dense(50, activation='relu'))\n",
    "model.add(ks.layers.Dense(1, activation='sigmoid'))\n",
    "# early stopping\n",
    "es = ks.callbacks.EarlyStopping(monitor='val_loss',\n",
    "                              min_delta=0,\n",
    "                              patience=5,\n",
    "                              verbose=1, mode='auto')\n",
    "# compile model\n",
    "model.compile(loss='mean_squared_error', optimizer='adam')\n",
    "# fit the model\n",
    "history = model.fit(X_train, y_train, epochs=100, batch_size=50, verbose=1, \n",
    "          callbacks=[es], validation_split=0.5, validation_data=(X_val, y_val))"
   ]
  },
  {
   "cell_type": "code",
   "execution_count": 16,
   "metadata": {},
   "outputs": [
    {
     "name": "stdout",
     "output_type": "stream",
     "text": [
      "100/100 [==============================] - 0s 152us/step\n",
      "800/800 [==============================] - 0s 35us/step\n",
      "0.71 0.70125\n",
      "dict_keys(['val_loss', 'loss'])\n"
     ]
    },
    {
     "data": {
      "image/png": "[encoded data removed]",
      "text/plain": [
       "<matplotlib.figure.Figure at 0x11a6ad3c8>"
      ]
     },
     "metadata": {},
     "output_type": "display_data"
    }
   ],
   "source": [
    "# evaluate the model\n",
    "val_loss = model.evaluate(X_val, y_val)\n",
    "train_loss = model.evaluate(X_train, y_train)\n",
    "print(val_loss, train_loss)\n",
    "# history\n",
    "print(history.history.keys())\n",
    "# summarize history for accuracy\n",
    "plt.plot(history.history['loss'])\n",
    "plt.plot(history.history['val_loss'])\n",
    "plt.title('model loss')\n",
    "plt.ylabel('loss')\n",
    "plt.xlabel('epoch')\n",
    "plt.legend(['train', 'val'], loc='upper right')\n",
    "plt.show()"
   ]
  },
  {
   "cell_type": "code",
   "execution_count": 17,
   "metadata": {},
   "outputs": [
    {
     "name": "stdout",
     "output_type": "stream",
     "text": [
      "[[1.]\n",
      " [1.]\n",
      " [1.]\n",
      " [1.]\n",
      " [1.]]\n",
      "500    1\n",
      "501    0\n",
      "502    0\n",
      "503    1\n",
      "504    1\n",
      "Name: y, dtype: int64\n"
     ]
    }
   ],
   "source": [
    "print(model.predict(X_train[500:505]))\n",
    "print(y_train[500:505])"
   ]
  },
  {
   "cell_type": "markdown",
   "metadata": {},
   "source": [
    "## Random interlude: boostrapping!"
   ]
  },
  {
   "cell_type": "code",
   "execution_count": 18,
   "metadata": {
    "collapsed": true
   },
   "outputs": [],
   "source": [
    "base_scores = np.abs(model.predict(X_val) - y_val.values.reshape((100,1)))"
   ]
  },
  {
   "cell_type": "code",
   "execution_count": 19,
   "metadata": {
    "collapsed": true
   },
   "outputs": [],
   "source": [
    "def permute(x):\n",
    "    n = len(x)\n",
    "    score = 0\n",
    "    for i in range(n):\n",
    "        index = np.random.randint(n)\n",
    "        score += x[index]\n",
    "    return score\n",
    "\n",
    "def bootstrap(x, number_of_times):\n",
    "    histogram = np.zeros((number_of_times, 1))\n",
    "    for i in range(number_of_times):\n",
    "        histogram[i] = permute(x)\n",
    "    return histogram"
   ]
  },
  {
   "cell_type": "code",
   "execution_count": 20,
   "metadata": {
    "collapsed": true
   },
   "outputs": [],
   "source": [
    "distribution = bootstrap(base_scores, 10000)"
   ]
  },
  {
   "cell_type": "code",
   "execution_count": 21,
   "metadata": {
    "scrolled": true
   },
   "outputs": [
    {
     "data": {
      "image/png": "[encoded data removed]",
      "text/plain": [
       "<matplotlib.figure.Figure at 0x11a3204e0>"
      ]
     },
     "metadata": {},
     "output_type": "display_data"
    }
   ],
   "source": [
    "plt.hist(distribution, 20)\n",
    "plt.title(\"My first bootstrap\")\n",
    "plt.ylabel(\"Iterations\")\n",
    "plt.xlabel(\"Error in %\")\n",
    "plt.show()"
   ]
  },
  {
   "cell_type": "code",
   "execution_count": 22,
   "metadata": {},
   "outputs": [
    {
     "name": "stdout",
     "output_type": "stream",
     "text": [
      "Average error is 71.0155 with variance 20.741659749999997\n"
     ]
    }
   ],
   "source": [
    "average = np.average(distribution)\n",
    "var = np.var(distribution)\n",
    "print(\"Average error is\", average, \"with variance\", var)"
   ]
  },
  {
   "cell_type": "code",
   "execution_count": 23,
   "metadata": {},
   "outputs": [
    {
     "name": "stdout",
     "output_type": "stream",
     "text": [
      "Index(['ns2', 'ns5', 'ns8', 'ns11', 's13', 'ns16', 'ns18', 'A11', 'A12', 'A13',\n",
      "       'A14', 'A30', 'A31', 'A32', 'A33', 'A34', 'A40', 'A41', 'A410', 'A42',\n",
      "       'A43', 'A44', 'A45', 'A46', 'A48', 'A49', 'A61', 'A62', 'A63', 'A64',\n",
      "       'A65', 'A71', 'A72', 'A73', 'A74', 'A75', 'A101', 'A102', 'A103',\n",
      "       'A121', 'A122', 'A123', 'A124', 'A141', 'A142', 'A143', 'A151', 'A152',\n",
      "       'A153', 'A171', 'A172', 'A173', 'A174', 'A191', 'A192', 'A201', 'A202'],\n",
      "      dtype='object')\n"
     ]
    }
   ],
   "source": [
    "print(X_train.columns)"
   ]
  },
  {
   "cell_type": "code",
   "execution_count": null,
   "metadata": {
    "collapsed": true
   },
   "outputs": [],
   "source": []
  },
  {
   "cell_type": "markdown",
   "metadata": {},
   "source": [
    "# To do \n",
    "\n",
    "look into GANs to augment data \n",
    "read a paper real quick\n",
    "\n"
   ]
  },
  {
   "cell_type": "code",
   "execution_count": null,
   "metadata": {
    "collapsed": true
   },
   "outputs": [],
   "source": []
  },
  {
   "cell_type": "code",
   "execution_count": null,
   "metadata": {
    "collapsed": true
   },
   "outputs": [],
   "source": []
  },
  {
   "cell_type": "code",
   "execution_count": 24,
   "metadata": {},
   "outputs": [
    {
     "name": "stdout",
     "output_type": "stream",
     "text": [
      "(800,)\n"
     ]
    }
   ],
   "source": [
    "print(np.shape(np.transpose(np.random.randn(800))))"
   ]
  },
  {
   "cell_type": "code",
   "execution_count": 25,
   "metadata": {},
   "outputs": [
    {
     "data": {
      "image/png": "[encoded data removed]",
      "text/plain": [
       "<matplotlib.figure.Figure at 0x11b3a6ac8>"
      ]
     },
     "metadata": {},
     "output_type": "display_data"
    }
   ],
   "source": [
    "plt.hist(np.random.randn(800))\n",
    "plt.show()"
   ]
  },
  {
   "cell_type": "markdown",
   "metadata": {},
   "source": [
    "# Show that model can predict someones sex based on other features"
   ]
  },
  {
   "cell_type": "code",
   "execution_count": 26,
   "metadata": {},
   "outputs": [
    {
     "data": {
      "text/html": [
       "<div>\n",
       "<style>\n",
       "    .dataframe thead tr:only-child th {\n",
       "        text-align: right;\n",
       "    }\n",
       "\n",
       "    .dataframe thead th {\n",
       "        text-align: left;\n",
       "    }\n",
       "\n",
       "    .dataframe tbody tr th {\n",
       "        vertical-align: top;\n",
       "    }\n",
       "</style>\n",
       "<table border=\"1\" class=\"dataframe\">\n",
       "  <thead>\n",
       "    <tr style=\"text-align: right;\">\n",
       "      <th></th>\n",
       "      <th>ns2</th>\n",
       "      <th>ns5</th>\n",
       "      <th>ns8</th>\n",
       "      <th>ns11</th>\n",
       "      <th>s13</th>\n",
       "      <th>ns16</th>\n",
       "      <th>ns18</th>\n",
       "      <th>A11</th>\n",
       "      <th>A12</th>\n",
       "      <th>A13</th>\n",
       "      <th>...</th>\n",
       "      <th>A152</th>\n",
       "      <th>A153</th>\n",
       "      <th>A171</th>\n",
       "      <th>A172</th>\n",
       "      <th>A173</th>\n",
       "      <th>A174</th>\n",
       "      <th>A191</th>\n",
       "      <th>A192</th>\n",
       "      <th>A201</th>\n",
       "      <th>A202</th>\n",
       "    </tr>\n",
       "  </thead>\n",
       "  <tbody>\n",
       "    <tr>\n",
       "      <th>0</th>\n",
       "      <td>6</td>\n",
       "      <td>1169</td>\n",
       "      <td>4</td>\n",
       "      <td>4</td>\n",
       "      <td>67</td>\n",
       "      <td>2</td>\n",
       "      <td>1</td>\n",
       "      <td>1</td>\n",
       "      <td>0</td>\n",
       "      <td>0</td>\n",
       "      <td>...</td>\n",
       "      <td>1</td>\n",
       "      <td>0</td>\n",
       "      <td>0</td>\n",
       "      <td>0</td>\n",
       "      <td>1</td>\n",
       "      <td>0</td>\n",
       "      <td>0</td>\n",
       "      <td>1</td>\n",
       "      <td>1</td>\n",
       "      <td>0</td>\n",
       "    </tr>\n",
       "    <tr>\n",
       "      <th>1</th>\n",
       "      <td>48</td>\n",
       "      <td>5951</td>\n",
       "      <td>2</td>\n",
       "      <td>2</td>\n",
       "      <td>22</td>\n",
       "      <td>1</td>\n",
       "      <td>1</td>\n",
       "      <td>0</td>\n",
       "      <td>1</td>\n",
       "      <td>0</td>\n",
       "      <td>...</td>\n",
       "      <td>1</td>\n",
       "      <td>0</td>\n",
       "      <td>0</td>\n",
       "      <td>0</td>\n",
       "      <td>1</td>\n",
       "      <td>0</td>\n",
       "      <td>1</td>\n",
       "      <td>0</td>\n",
       "      <td>1</td>\n",
       "      <td>0</td>\n",
       "    </tr>\n",
       "    <tr>\n",
       "      <th>2</th>\n",
       "      <td>12</td>\n",
       "      <td>2096</td>\n",
       "      <td>2</td>\n",
       "      <td>3</td>\n",
       "      <td>49</td>\n",
       "      <td>1</td>\n",
       "      <td>2</td>\n",
       "      <td>0</td>\n",
       "      <td>0</td>\n",
       "      <td>0</td>\n",
       "      <td>...</td>\n",
       "      <td>1</td>\n",
       "      <td>0</td>\n",
       "      <td>0</td>\n",
       "      <td>1</td>\n",
       "      <td>0</td>\n",
       "      <td>0</td>\n",
       "      <td>1</td>\n",
       "      <td>0</td>\n",
       "      <td>1</td>\n",
       "      <td>0</td>\n",
       "    </tr>\n",
       "    <tr>\n",
       "      <th>3</th>\n",
       "      <td>42</td>\n",
       "      <td>7882</td>\n",
       "      <td>2</td>\n",
       "      <td>4</td>\n",
       "      <td>45</td>\n",
       "      <td>1</td>\n",
       "      <td>2</td>\n",
       "      <td>1</td>\n",
       "      <td>0</td>\n",
       "      <td>0</td>\n",
       "      <td>...</td>\n",
       "      <td>0</td>\n",
       "      <td>1</td>\n",
       "      <td>0</td>\n",
       "      <td>0</td>\n",
       "      <td>1</td>\n",
       "      <td>0</td>\n",
       "      <td>1</td>\n",
       "      <td>0</td>\n",
       "      <td>1</td>\n",
       "      <td>0</td>\n",
       "    </tr>\n",
       "    <tr>\n",
       "      <th>4</th>\n",
       "      <td>24</td>\n",
       "      <td>4870</td>\n",
       "      <td>3</td>\n",
       "      <td>4</td>\n",
       "      <td>53</td>\n",
       "      <td>2</td>\n",
       "      <td>2</td>\n",
       "      <td>1</td>\n",
       "      <td>0</td>\n",
       "      <td>0</td>\n",
       "      <td>...</td>\n",
       "      <td>0</td>\n",
       "      <td>1</td>\n",
       "      <td>0</td>\n",
       "      <td>0</td>\n",
       "      <td>1</td>\n",
       "      <td>0</td>\n",
       "      <td>1</td>\n",
       "      <td>0</td>\n",
       "      <td>1</td>\n",
       "      <td>0</td>\n",
       "    </tr>\n",
       "  </tbody>\n",
       "</table>\n",
       "<p>5 rows × 57 columns</p>\n",
       "</div>"
      ],
      "text/plain": [
       "   ns2   ns5  ns8  ns11  s13  ns16  ns18  A11  A12  A13  ...   A152  A153  \\\n",
       "0    6  1169    4     4   67     2     1    1    0    0  ...      1     0   \n",
       "1   48  5951    2     2   22     1     1    0    1    0  ...      1     0   \n",
       "2   12  2096    2     3   49     1     2    0    0    0  ...      1     0   \n",
       "3   42  7882    2     4   45     1     2    1    0    0  ...      0     1   \n",
       "4   24  4870    3     4   53     2     2    1    0    0  ...      0     1   \n",
       "\n",
       "   A171  A172  A173  A174  A191  A192  A201  A202  \n",
       "0     0     0     1     0     0     1     1     0  \n",
       "1     0     0     1     0     1     0     1     0  \n",
       "2     0     1     0     0     1     0     1     0  \n",
       "3     0     0     1     0     1     0     1     0  \n",
       "4     0     0     1     0     1     0     1     0  \n",
       "\n",
       "[5 rows x 57 columns]"
      ]
     },
     "execution_count": 26,
     "metadata": {},
     "output_type": "execute_result"
    }
   ],
   "source": [
    "X_train.head()"
   ]
  },
  {
   "cell_type": "code",
   "execution_count": 27,
   "metadata": {},
   "outputs": [
    {
     "name": "stdout",
     "output_type": "stream",
     "text": [
      "0.79\n",
      "[[-1.46396948e-02  2.01152011e-04  3.72551187e-01  1.06193006e-02\n",
      "   1.68496552e-02  2.35434157e-02  1.73290961e+00 -3.74834362e-01\n",
      "  -2.91526806e-01  8.31394473e-02 -1.61930353e-01  9.02704107e-02\n",
      "  -6.34413319e-01 -3.05808417e-01  2.81694128e-01 -1.76894876e-01\n",
      "  -8.10498683e-02  2.34653648e-01  1.38457034e-01  1.75400204e-03\n",
      "  -5.25169147e-02 -1.36146182e-01 -1.76753355e-01 -3.79013748e-01\n",
      "  -2.89625569e-01 -4.91112064e-03 -1.02227949e-01 -3.15781773e-01\n",
      "   2.04949136e-01 -5.48317385e-01  1.62258973e-02 -2.93664160e-01\n",
      "  -8.12395736e-01 -7.80499482e-02  1.89171769e-01  2.49786002e-01\n",
      "  -4.79348023e-01 -7.79644883e-02 -1.87839562e-01 -4.67465088e-01\n",
      "  -1.66615703e-01 -2.16339765e-01  1.05268482e-01 -3.86945827e-01\n",
      "   7.23249378e-02 -4.30531185e-01 -8.91572605e-01  1.29485266e-01\n",
      "   1.69352647e-02 -4.12417455e-02 -2.12040793e-01 -8.73651272e-02\n",
      "  -4.04504408e-01 -3.60742567e-01 -3.84409507e-01 -7.67823576e-01\n",
      "   2.26715020e-02]]\n"
     ]
    },
    {
     "data": {
      "text/plain": [
       "Index(['ns2', 'ns5', 'ns8', 'ns11', 's13', 'ns16', 'ns18', 'A11', 'A12', 'A13',\n",
       "       'A14', 'A30', 'A31', 'A32', 'A33', 'A34', 'A40', 'A41', 'A410', 'A42',\n",
       "       'A43', 'A44', 'A45', 'A46', 'A48', 'A49', 'A61', 'A62', 'A63', 'A64',\n",
       "       'A65', 'A71', 'A72', 'A73', 'A74', 'A75', 'A101', 'A102', 'A103',\n",
       "       'A121', 'A122', 'A123', 'A124', 'A141', 'A142', 'A143', 'A151', 'A152',\n",
       "       'A153', 'A171', 'A172', 'A173', 'A174', 'A191', 'A192', 'A201', 'A202'],\n",
       "      dtype='object')"
      ]
     },
     "execution_count": 27,
     "metadata": {},
     "output_type": "execute_result"
    }
   ],
   "source": [
    "model_unfiddled = fit_logistic_regression(X_train, sensitive[0:800])\n",
    "\n",
    "print(model_unfiddled.score(X_val, sensitive[800:900]))\n",
    "print(model_unfiddled.coef_)\n",
    "X_val.columns"
   ]
  },
  {
   "cell_type": "code",
   "execution_count": 28,
   "metadata": {},
   "outputs": [
    {
     "name": "stdout",
     "output_type": "stream",
     "text": [
      "0.79\n",
      "[[-1.43289794e-02  1.98867222e-04  3.69425659e-01  4.98318669e-03\n",
      "   1.69316524e-02  4.80331846e-02  1.77432976e+00 -3.83444417e-01\n",
      "  -2.78883823e-01  6.08777643e-02 -1.73306723e-01  8.13750787e-02\n",
      "  -6.61871986e-01 -3.01260050e-01  2.79524914e-01 -1.72525155e-01\n",
      "  -6.72927109e-02  2.54667460e-01  1.68113554e-01  5.13604596e-03\n",
      "  -5.53526995e-02 -1.50286249e-01 -2.19466794e-01 -3.77454418e-01\n",
      "  -3.39773600e-01  6.95221442e-03 -9.92748608e-02 -3.11518551e-01\n",
      "   2.00762816e-01 -5.78978965e-01  1.42523629e-02 -3.15716340e-01\n",
      "  -8.36168127e-01 -6.78259226e-02  2.02409819e-01  2.42543372e-01\n",
      "  -4.76320581e-01 -8.85586399e-02 -2.09877978e-01 -4.83474736e-01\n",
      "  -1.76772859e-01 -2.48088761e-01  1.33579157e-01 -4.01524963e-01\n",
      "   4.98087274e-02 -4.23040963e-01 -8.83794712e-01  1.26918711e-01\n",
      "  -1.78811971e-02 -3.00394561e-02 -2.22823771e-01 -1.07909856e-01\n",
      "  -4.13984115e-01 -3.60396538e-01 -4.14360660e-01 -7.52436920e-01\n",
      "  -2.23202786e-02]]\n"
     ]
    }
   ],
   "source": [
    "model_unfiddled = fit_logistic_regression(X_train, sensitive[0:800])\n",
    "\n",
    "print(model_unfiddled.score(X_val, sensitive[800:900]))\n",
    "print(model_unfiddled.coef_)\n"
   ]
  },
  {
   "cell_type": "markdown",
   "metadata": {},
   "source": []
  }
 ],
 "metadata": {
  "kernelspec": {
   "display_name": "Python 3",
   "language": "python",
   "name": "python3"
  },
  "language_info": {
   "codemirror_mode": {
    "name": "ipython",
    "version": 3
   },
   "file_extension": ".py",
   "mimetype": "text/x-python",
   "name": "python",
   "nbconvert_exporter": "python",
   "pygments_lexer": "ipython3",
   "version": "3.6.2"
  }
 },
 "nbformat": 4,
 "nbformat_minor": 2
}
