{
 "cells": [
  {
   "cell_type": "code",
   "execution_count": 1,
   "metadata": {
    "collapsed": true
   },
   "outputs": [],
   "source": [
    "#import stuff\n",
    "import numpy as np\n",
    "import pandas as pd\n",
    "import matplotlib.pyplot as plt\n",
    "import seaborn as sns\n",
    "import math"
   ]
  },
  {
   "cell_type": "code",
   "execution_count": 2,
   "metadata": {},
   "outputs": [],
   "source": [
    "population_size = 1000\n",
    "mu_blue = 50\n",
    "mu_orange = 70\n",
    "\n",
    "#create populations\n",
    "blues = np.random.normal(mu_blue, 10, (population_size,1))\n",
    "oranges = np.random.normal(mu_orange, 10, (population_size,1))\n",
    "\n",
    "blues_who_defaulted = blues < np.random.uniform(0, 100, (population_size,1))\n",
    "oranges_who_defaulted = oranges < np.random.uniform(0, 100, (population_size,1))\n",
    "\n",
    "blues_bank_thinks_defaulted = blues < 30\n",
    "oranges_bank_thinks_defaulted = oranges < 60"
   ]
  },
  {
   "cell_type": "code",
   "execution_count": 3,
   "metadata": {},
   "outputs": [],
   "source": [
    "#define true and false negatives/positives\n",
    "true_negative_blues = np.logical_and(blues_who_defaulted, blues_bank_thinks_defaulted)\n",
    "false_negative_blues = np.logical_and(np.logical_not(blues_who_defaulted), blues_bank_thinks_defaulted)\n",
    "true_positive_blues = np.logical_and(np.logical_not(blues_who_defaulted), np.logical_not(blues_bank_thinks_defaulted))\n",
    "false_positive_blues = np.logical_and(blues_who_defaulted, np.logical_not(blues_bank_thinks_defaulted))"
   ]
  },
  {
   "cell_type": "code",
   "execution_count": 58,
   "metadata": {
    "collapsed": true
   },
   "outputs": [],
   "source": [
    "#create function that finds true positive rates as a function of the cutoff\n",
    "def true_positive_rate(population, population_that_defaulted, cutoff):\n",
    "    population_bank_thinks_defaulted = population < cutoff\n",
    "    \n",
    "    true_positives = np.logical_and(np.logical_not(population_that_defaulted), \n",
    "                                    np.logical_not(population_bank_thinks_defaulted))\n",
    "    \n",
    "    number_true_positives = sum(true_positives)\n",
    "    \n",
    "    false_negatives = np.logical_and(np.logical_not(population_that_defaulted), \n",
    "                                     population_bank_thinks_defaulted)\n",
    "    \n",
    "    number_false_negatives = sum(false_negatives) \n",
    "    \n",
    "    true_positive_rate = number_true_positives/(number_true_positives+number_false_negatives)\n",
    "    \n",
    "    return true_positive_rate\n",
    "\n",
    "def difference_bw_positive_rates(pop1, pop2, pop1_that_defaulted, pop2_that_defaulted, cutoff1, cutoff2):\n",
    "    true_positive_rate_group1 = true_positive_rate(pop1, pop1_that_defaulted, cutoff1)\n",
    "    true_positive_rate_group2 = true_positive_rate(pop2, pop2_that_defaulted, cutoff2)\n",
    "    \n",
    "    return np.abs(true_positive_rate_group1-true_positive_rate_group2)\n",
    "\n",
    "#create function that finds bank profit as a function of the cutoff\n",
    "def bank_profit(population, population_that_defaulted, cutoff, \n",
    "                revenue_factor=1, cost_factor=3, credit_upside=1, credit_downside=2):\n",
    "    population_bank_thinks_defaulted = population < cutoff\n",
    "    \n",
    "    true_positives = np.logical_and(np.logical_not(population_that_defaulted), \n",
    "                                    np.logical_not(population_bank_thinks_defaulted))\n",
    "    paid_back = sum(true_positives)\n",
    "    false_positives = np.logical_and(population_that_defaulted, \n",
    "                                     np.logical_not(population_bank_thinks_defaulted))\n",
    "    defaulted = sum(false_positives)\n",
    "    \n",
    "    profit = paid_back*revenue_factor - defaulted*cost_factor\n",
    "    selection_rate = sum(np.logical_not(population_bank_thinks_defaulted))/len(population)\n",
    "    \n",
    "    credit_change = paid_back*credit_upside - defaulted*credit_downside\n",
    "\n",
    "    \n",
    "    return profit, selection_rate, credit_change\n",
    "\n",
    "def total_bank_profit(pop1, pop2, pop1_that_defaulted, pop2_that_defaulted, cutoff1, cutoff2, \n",
    "                      revenue_factor=1, cost_factor=3, credit_upside=1, credit_downside=2):\n",
    "    \n",
    "    profit_group1, _, _ = bank_profit(pop1, pop1_that_defaulted, cutoff1)\n",
    "    profit_group2, _, _ = bank_profit(pop2, pop2_that_defaulted, cutoff2)\n",
    "    \n",
    "    return profit_group1 + profit_group2"
   ]
  },
  {
   "cell_type": "code",
   "execution_count": 62,
   "metadata": {},
   "outputs": [
    {
     "name": "stdout",
     "output_type": "stream",
     "text": [
      "initial guess got us a profit of  [45]\n"
     ]
    }
   ],
   "source": [
    "from scipy.optimize import minimize\n",
    "\n",
    "#initial guess\n",
    "cutoffs = np.zeros(2)\n",
    "cutoffs[0] = 80\n",
    "cutoffs[1] = 80\n",
    "\n",
    "#show initial objective\n",
    "print(\"initial guess got us a profit of \", \n",
    "      str(total_bank_profit(blues, oranges, blues_who_defaulted, oranges_who_defaulted, cutoffs[0], cutoffs[1])))\n",
    "\n",
    "equal_true_positives = {'type': 'ineq', 'fun': difference_bw_positive_rates}\n",
    "constraints = ([equal_true_positives])"
   ]
  },
  {
   "cell_type": "code",
   "execution_count": 57,
   "metadata": {},
   "outputs": [
    {
     "name": "stdout",
     "output_type": "stream",
     "text": [
      "Initial SSE Objective: 16.0\n",
      "Final SSE Objective: 17.01401724563517\n",
      "Solution\n",
      "x1 = 1.0\n",
      "x2 = 4.742996096883977\n",
      "x3 = 3.8211546234095715\n",
      "x4 = 1.379407645075325\n"
     ]
    }
   ],
   "source": [
    "import numpy as np\n",
    "from scipy.optimize import minimize\n",
    "\n",
    "def objective(x):\n",
    "    return x[0]*x[3]*(x[0]+x[1]+x[2])+x[2]\n",
    "\n",
    "def constraint1(x):\n",
    "    return x[0]*x[1]*x[2]*x[3]-25.0\n",
    "\n",
    "def constraint2(x):\n",
    "    sum_eq = 40.0\n",
    "    for i in range(4):\n",
    "        sum_eq = sum_eq - x[i]**2\n",
    "    return sum_eq\n",
    "\n",
    "# initial guesses\n",
    "n = 4\n",
    "x0 = np.zeros(n)\n",
    "x0[0] = 1.0\n",
    "x0[1] = 5.0\n",
    "x0[2] = 5.0\n",
    "x0[3] = 1.0\n",
    "\n",
    "# show initial objective\n",
    "print('Initial SSE Objective: ' + str(objective(x0)))\n",
    "\n",
    "# optimize\n",
    "b = (1.0,5.0)\n",
    "bnds = (b, b, b, b)\n",
    "con1 = {'type': 'ineq', 'fun': constraint1} \n",
    "con2 = {'type': 'eq', 'fun': constraint2}\n",
    "cons = ([con1,con2])\n",
    "solution = minimize(objective,x0,method='SLSQP',\\\n",
    "                    bounds=bnds,constraints=cons)\n",
    "x = solution.x\n",
    "\n",
    "# show final objective\n",
    "print('Final SSE Objective: ' + str(objective(x)))\n",
    "\n",
    "# print solution\n",
    "print('Solution')\n",
    "print('x1 = ' + str(x[0]))\n",
    "print('x2 = ' + str(x[1]))\n",
    "print('x3 = ' + str(x[2]))\n",
    "print('x4 = ' + str(x[3]))"
   ]
  },
  {
   "cell_type": "code",
   "execution_count": 53,
   "metadata": {},
   "outputs": [
    {
     "ename": "ValueError",
     "evalue": "setting an array element with a sequence.",
     "output_type": "error",
     "traceback": [
      "\u001b[0;31m---------------------------------------------------------------------------\u001b[0m",
      "\u001b[0;31mValueError\u001b[0m                                Traceback (most recent call last)",
      "\u001b[0;32m<ipython-input-53-f070f1c3bdb8>\u001b[0m in \u001b[0;36m<module>\u001b[0;34m()\u001b[0m\n\u001b[1;32m      6\u001b[0m         \u001b[0mtrue_positive_rate_orange\u001b[0m \u001b[0;34m=\u001b[0m \u001b[0mtrue_positive_rate\u001b[0m\u001b[0;34m(\u001b[0m\u001b[0moranges\u001b[0m\u001b[0;34m,\u001b[0m \u001b[0moranges_who_defaulted\u001b[0m\u001b[0;34m,\u001b[0m \u001b[0mj\u001b[0m\u001b[0;34m)\u001b[0m\u001b[0;34m\u001b[0m\u001b[0m\n\u001b[1;32m      7\u001b[0m         \u001b[0mdifferences_in_true_positive_rates\u001b[0m\u001b[0;34m[\u001b[0m\u001b[0mi\u001b[0m\u001b[0;34m,\u001b[0m\u001b[0mj\u001b[0m\u001b[0;34m]\u001b[0m \u001b[0;34m=\u001b[0m \u001b[0mnp\u001b[0m\u001b[0;34m.\u001b[0m\u001b[0mabs\u001b[0m\u001b[0;34m(\u001b[0m\u001b[0mtrue_positive_rate_blue\u001b[0m \u001b[0;34m-\u001b[0m \u001b[0mtrue_positive_rate_orange\u001b[0m\u001b[0;34m)\u001b[0m\u001b[0;34m\u001b[0m\u001b[0m\n\u001b[0;32m----> 8\u001b[0;31m         \u001b[0mprofit\u001b[0m\u001b[0;34m[\u001b[0m\u001b[0mi\u001b[0m\u001b[0;34m,\u001b[0m\u001b[0mj\u001b[0m\u001b[0;34m]\u001b[0m \u001b[0;34m=\u001b[0m \u001b[0mbank_profit\u001b[0m\u001b[0;34m(\u001b[0m\u001b[0mblues\u001b[0m\u001b[0;34m,\u001b[0m \u001b[0mblues_who_defaulted\u001b[0m\u001b[0;34m,\u001b[0m \u001b[0mi\u001b[0m\u001b[0;34m)\u001b[0m \u001b[0;34m+\u001b[0m \u001b[0mbank_profit\u001b[0m\u001b[0;34m(\u001b[0m\u001b[0moranges\u001b[0m\u001b[0;34m,\u001b[0m \u001b[0moranges_who_defaulted\u001b[0m\u001b[0;34m,\u001b[0m \u001b[0mj\u001b[0m\u001b[0;34m)\u001b[0m\u001b[0;34m\u001b[0m\u001b[0m\n\u001b[0m\u001b[1;32m      9\u001b[0m \u001b[0;34m\u001b[0m\u001b[0m\n\u001b[1;32m     10\u001b[0m     \u001b[0;32mif\u001b[0m\u001b[0;34m(\u001b[0m\u001b[0mi\u001b[0m\u001b[0;34m%\u001b[0m\u001b[0;36m10\u001b[0m \u001b[0;34m==\u001b[0m \u001b[0;36m0\u001b[0m\u001b[0;34m)\u001b[0m\u001b[0;34m:\u001b[0m\u001b[0;34m\u001b[0m\u001b[0m\n",
      "\u001b[0;31mValueError\u001b[0m: setting an array element with a sequence."
     ]
    }
   ],
   "source": [
    "differences_in_true_positive_rates = np.zeros((80, 80))\n",
    "profit = np.zeros((80, 80))\n",
    "for i in range(80):\n",
    "    for j in range(80):\n",
    "        true_positive_rate_blue = true_positive_rate(blues, blues_who_defaulted, i)\n",
    "        true_positive_rate_orange = true_positive_rate(oranges, oranges_who_defaulted, j)\n",
    "        differences_in_true_positive_rates[i,j] = np.abs(true_positive_rate_blue - true_positive_rate_orange)\n",
    "        #profit[i,j], _, _ = bank_profit(blues, blues_who_defaulted, i) + bank_profit(oranges, oranges_who_defaulted, j)\n",
    "    \n",
    "    if(i%10 == 0):\n",
    "        print(i)"
   ]
  },
  {
   "cell_type": "code",
   "execution_count": 6,
   "metadata": {},
   "outputs": [
    {
     "data": {
      "image/png": "[encoded data removed]",
      "text/plain": [
       "<matplotlib.figure.Figure at 0x1174252e8>"
      ]
     },
     "metadata": {},
     "output_type": "display_data"
    }
   ],
   "source": [
    "plt.imshow(differences_in_true_positive_rates < 0.1, cmap='hot', interpolation='nearest')\n",
    "plt.show()"
   ]
  },
  {
   "cell_type": "code",
   "execution_count": 7,
   "metadata": {},
   "outputs": [
    {
     "data": {
      "image/png": "[encoded data removed]",
      "text/plain": [
       "<matplotlib.figure.Figure at 0x117425cc0>"
      ]
     },
     "metadata": {},
     "output_type": "display_data"
    }
   ],
   "source": [
    "plt.imshow(profit, cmap='hot', interpolation='nearest')\n",
    "plt.show()"
   ]
  },
  {
   "cell_type": "code",
   "execution_count": 54,
   "metadata": {},
   "outputs": [
    {
     "data": {
      "image/png": "[encoded data removed]",
      "text/plain": [
       "<matplotlib.figure.Figure at 0x117492588>"
      ]
     },
     "metadata": {},
     "output_type": "display_data"
    }
   ],
   "source": [
    "orange_profit = np.zeros(100)\n",
    "selection_rate = np.zeros(100)\n",
    "credit_change = np.zeros(100)\n",
    "\n",
    "for i in range(100):\n",
    "    orange_profit[i], selection_rate[i], credit_change[i] = bank_profit(oranges, oranges_who_defaulted, i)\n",
    "    \n",
    "plt.plot(selection_rate, orange_profit)\n",
    "plt.show()"
   ]
  },
  {
   "cell_type": "code",
   "execution_count": 55,
   "metadata": {},
   "outputs": [
    {
     "data": {
      "image/png": "[encoded data removed]",
      "text/plain": [
       "<matplotlib.figure.Figure at 0x1174926d8>"
      ]
     },
     "metadata": {},
     "output_type": "display_data"
    }
   ],
   "source": [
    "plt.plot(selection_rate, credit_change)\n",
    "plt.show()"
   ]
  },
  {
   "cell_type": "code",
   "execution_count": null,
   "metadata": {
    "collapsed": true
   },
   "outputs": [],
   "source": []
  }
 ],
 "metadata": {
  "kernelspec": {
   "display_name": "Python 3",
   "language": "python",
   "name": "python3"
  },
  "language_info": {
   "codemirror_mode": {
    "name": "ipython",
    "version": 3
   },
   "file_extension": ".py",
   "mimetype": "text/x-python",
   "name": "python",
   "nbconvert_exporter": "python",
   "pygments_lexer": "ipython3",
   "version": "3.6.2"
  }
 },
 "nbformat": 4,
 "nbformat_minor": 2
}
