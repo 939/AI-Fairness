{
 "cells": [
  {
   "cell_type": "markdown",
   "metadata": {},
   "source": [
    "# TOY PROBLEM\n",
    "\n",
    "The purpose of this notebook is to illustrate the impact that a classifier can have on the world. \n",
    "\n",
    "The toy example is as follows:\n",
    "\n",
    "In a magical land, there's 100 blue haired people and 100 green haired people. Every day, they can eat normal food, or they can steal a cookie from a sacred cookie jar in their house. The initial probabilities of stealing a cookie are $\\mu_{blue}=0.6$ for the blues and $\\mu_{green}=0.4$ for the greens, as a population. There is also a central fucked up dystopian government, which sends police to the houses of people that it thinks are likely to have stolen a cookie. If the police catches someone stealing a cookie, that person's food is confiscated for the day, and they go hungry (which means that they're likelier to want a cookie the next day, because cookies are more filling than normal food). If not, they progressively lose interest in stealing the cookies, and their probabilities of stealing a cookie diminishes. \n",
    "\n",
    "## More formally\n",
    "\n",
    "Each individual is associated with a feature vector $X$, which is made up of different distributions with mean $\\mu$.\n",
    "At each time step, the means mu are used to generate actual stealing data, i.e. to determine if an individual stole a cookie or not, represented by a vector $y$ full of zeros and ones.\n",
    "This data is fed into a logistic regression classifier.\n",
    "Each time step, and for each individual, the classifier predicts whether or not someone will steal a cookie, and depending on that prediction, will decide to send or not send a policeman to their house. If the police is sent to someone's house, and that person gets caught stealing a cookie, that person's $\\mu$ increases by $\\alpha$. Otherwise, it decreases by $\\beta$.\n",
    "\n",
    "Then I plot each person's $\\mu$ over time to see how it evolves!"
   ]
  },
  {
   "cell_type": "code",
   "execution_count": 54,
   "metadata": {
    "collapsed": true
   },
   "outputs": [],
   "source": [
    "#import things\n",
    "import numpy as np\n",
    "import sklearn \n",
    "from sklearn.linear_model import LogisticRegression\n",
    "from sklearn import metrics\n",
    "import matplotlib.pyplot as plt\n",
    "np.set_printoptions(precision=3, suppress=True)\n",
    "\n",
    "#set up hyperparameters\n",
    "mu_blue = 0.65\n",
    "mu_green = 0.35\n",
    "N = 100\n",
    "alpha = 0.003\n",
    "beta = 0.003"
   ]
  },
  {
   "cell_type": "markdown",
   "metadata": {},
   "source": [
    "## This part was mostly initial experimentation.\n",
    "It can be safely ignored"
   ]
  },
  {
   "cell_type": "markdown",
   "metadata": {},
   "source": [
    "Generate results vectors for blues and greens"
   ]
  },
  {
   "cell_type": "code",
   "execution_count": 55,
   "metadata": {
    "collapsed": true
   },
   "outputs": [],
   "source": [
    "#generate rand uniforms between 0 and 1\n",
    "y_blue = np.random.uniform(0,1, (N,1))\n",
    "y_green = np.random.uniform(0,1, (N,1))\n",
    "\n",
    "#replace each value with 0 or 1\n",
    "y_blue[y_blue > mu_blue] = 1\n",
    "y_blue[y_blue <= mu_blue] = 0\n",
    "y_green[y_green > mu_green] = 1\n",
    "y_green[y_green <= mu_green] = 0\n",
    "\n",
    "y_green = np.abs(y_green - 1)\n",
    "y_blue = np.abs(y_blue - 1)"
   ]
  },
  {
   "cell_type": "markdown",
   "metadata": {},
   "source": [
    "Which works!\n",
    "\n",
    "Next, we create 10 dimensional vectors as follows.\n",
    "\n",
    "Blue_vector =\n",
    "\n",
    "[drawn from standard normal with mean around mu_B*3 | \n",
    "drawn from exponential with mean mu_B + 1 |\n",
    "drawn from beta with mean mu_B^2 |\n",
    "standard normal]\n",
    "\n",
    "The same goes for Green_vector."
   ]
  },
  {
   "cell_type": "code",
   "execution_count": 56,
   "metadata": {
    "collapsed": true
   },
   "outputs": [],
   "source": [
    "#create X_blue\n",
    "blue_vector1 = np.random.normal(mu_blue, 0.01, (N,1))\n",
    "# blue_vector2 = np.random.exponential(mu_blue + 1, (N,3))\n",
    "# blue_vector3 = np.random.binomial(100, mu_blue**2, (N,3))\n",
    "# blue_vector4 = np.random.standard_normal((N,1))\n",
    "# blue_features = (blue_vector1, blue_vector2, blue_vector3, blue_vector4)\n",
    "\n",
    "# X_blue = np.concatenate(blue_features, axis=1)\n",
    "X_blue = blue_vector1\n",
    "\n",
    "#create X_green\n",
    "green_vector1 = np.random.normal(mu_green, 0.01, (N,1))\n",
    "# green_vector2 = np.random.exponential(mu_green+1, (N,3))\n",
    "# green_vector3 = np.random.binomial(10, mu_green**2, (N,3))\n",
    "# green_vector4 = np.random.standard_normal((N,1))\n",
    "\n",
    "# green_features = (green_vector1, green_vector2, green_vector3, green_vector4)\n",
    "\n",
    "# X_green = np.concatenate(green_features, axis=1)\n",
    "X_green = green_vector1\n",
    "\n",
    "#append ys\n",
    "X_blue = np.concatenate((X_blue, y_blue), axis = 1)\n",
    "X_green = np.concatenate((X_green, y_green), axis = 1)\n",
    "\n",
    "np.shape(X_green)\n",
    "np.shape(X_blue)\n",
    "\n",
    "X = np.concatenate((X_blue, X_green), axis=0)\n",
    "np.random.shuffle(X)\n",
    "\n",
    "y = X[:,1]\n",
    "X = X[:,0]"
   ]
  },
  {
   "cell_type": "code",
   "execution_count": 57,
   "metadata": {},
   "outputs": [
    {
     "data": {
      "text/plain": [
       "(100, 2)"
      ]
     },
     "execution_count": 57,
     "metadata": {},
     "output_type": "execute_result"
    }
   ],
   "source": [
    "np.shape(X_blue)"
   ]
  },
  {
   "cell_type": "markdown",
   "metadata": {},
   "source": [
    "Fit a simple logistic regression model."
   ]
  },
  {
   "cell_type": "code",
   "execution_count": 58,
   "metadata": {},
   "outputs": [
    {
     "name": "stdout",
     "output_type": "stream",
     "text": [
      "0.64\n"
     ]
    }
   ],
   "source": [
    "# instantiate a logistic regression model, and fit with X and y\n",
    "model = LogisticRegression()\n",
    "model = model.fit(X.reshape(-1, 1), y)\n",
    "\n",
    "# check the accuracy on the training set\n",
    "model.score(X.reshape(-1, 1), y)\n",
    "\n",
    "#this works, so set up a function:\n",
    "def fit_logistic_regression(X, y):\n",
    "    model = LogisticRegression()\n",
    "    model = model.fit(X.reshape(-1, 1), y)\n",
    "    \n",
    "    return model\n",
    "    #return model.coef_, model.intercept_, model.Score(X, y)\n",
    "\n",
    "model = fit_logistic_regression(X, y)\n",
    "\n",
    "print(model.score(X.reshape(-1, 1), y))"
   ]
  },
  {
   "cell_type": "markdown",
   "metadata": {},
   "source": [
    "SO NOW WE HAVE A TRAINED MODEL, WHICH CAN OUTPUT PREDICTIONS."
   ]
  },
  {
   "cell_type": "code",
   "execution_count": 63,
   "metadata": {},
   "outputs": [],
   "source": [
    "#this works\n",
    "predictions = 1 / (1 + np.exp(-(X.reshape(-1, 1) @ np.transpose(model.coef_) + model.intercept_)))\n",
    "predictions[predictions > 0.5] = 1\n",
    "predictions[predictions <= 0.5] = 0\n",
    "\n",
    "#thus, define a function that does the same thing:\n",
    "def predict_probs_steal(X, modelcoef, modelintercept):\n",
    "    predictions = 1 / (1 + np.exp(-(X @ np.transpose(modelcoef) + modelintercept)))\n",
    "    predictions[predictions > 0.5] = 1\n",
    "    predictions[predictions <= 0.5] = 0\n",
    "    \n",
    "    return predictions"
   ]
  },
  {
   "cell_type": "markdown",
   "metadata": {},
   "source": [
    "# This is the actual simulation"
   ]
  },
  {
   "cell_type": "markdown",
   "metadata": {},
   "source": [
    "## Simulation\n",
    "\n",
    "Now, we're going to have the simulation have an effect on the world in which the Blues and Greens live. \n",
    "\n",
    "Suppose that the reason that Blues and Greens is not innate to their complexions, and that ultimately the probability that both Blues and Greens would steal the cookie asymptotes to zero. So each day, $\\mu_{blue}$ and $\\mu_{green}$ decrease by some amount $\\alpha$. We'll start off setting $\\alpha = 0.003$.\n",
    "Then, at each time step, have each person steal a cookie or not steal a cookie (based on their own $\\mu_i$, and have the classifier try to predict whether or not each person will steal a cookie. If it predicts that someone steals a cookie, then they go hungry for that day, and their probability of stealing a cookie the next day goes up by $\\beta$. We'll start off setting $\\beta = 0.003$.\n",
    "\n",
    "So in order to do that, we're gonna restart everything, individualising each individual."
   ]
  },
  {
   "cell_type": "markdown",
   "metadata": {},
   "source": [
    "Set up initial results vectors:"
   ]
  },
  {
   "cell_type": "code",
   "execution_count": 64,
   "metadata": {
    "collapsed": true
   },
   "outputs": [],
   "source": [
    "#generate rand uniforms between 0 and 1\n",
    "y_blue = np.random.uniform(0,1, (N,1))\n",
    "y_green = np.random.uniform(0,1, (N,1))\n",
    "\n",
    "#replace each value with 0 or 1\n",
    "y_blue[y_blue > mu_blue] = 1\n",
    "y_blue[y_blue <= mu_blue] = 0\n",
    "y_green[y_green > mu_green] = 1\n",
    "y_green[y_green <= mu_green] = 0\n",
    "\n",
    "y_green = np.abs(y_green - 1)\n",
    "y_blue = np.abs(y_blue - 1)"
   ]
  },
  {
   "cell_type": "markdown",
   "metadata": {},
   "source": [
    "Create an identity number for each of the 2*N individuals, and also make :"
   ]
  },
  {
   "cell_type": "code",
   "execution_count": 8,
   "metadata": {
    "collapsed": true
   },
   "outputs": [],
   "source": [
    "#create identities for each being:\n",
    "    #give them a number\n",
    "identities = np.arange(2*N)\n",
    "identities = np.reshape(identities,(200,1))\n",
    "    #give them a base rate of stealing the cookies\n",
    "base_rates_blue = np.ones((N, 1))*mu_blue\n",
    "base_rates_green = np.ones((N, 1))*mu_green\n",
    "base_rates = np.concatenate((base_rates_blue, base_rates_green), axis=0)\n",
    "\n",
    "#create X_blue\n",
    "blue_vector1 = np.random.normal(mu_blue*3, 1, (N,3))\n",
    "# blue_vector2 = np.random.exponential(mu_blue + 1, (N,3))\n",
    "# blue_vector3 = np.random.binomial(100, mu_blue**2, (N,3))\n",
    "# blue_vector4 = np.random.standard_normal((N,1))\n",
    "# blue_features = (blue_vector1, blue_vector2, blue_vector3, blue_vector4)\n",
    "\n",
    "# X_blue = np.concatenate(blue_features, axis=1)\n",
    "X_blue = blue_vector1\n",
    "\n",
    "#create X_green\n",
    "green_vector1 = np.random.normal(mu_green*3, 1, (N,3))\n",
    "# green_vector2 = np.random.exponential(mu_green+1, (N,3))\n",
    "# green_vector3 = np.random.binomial(10, mu_green**2, (N,3))\n",
    "# green_vector4 = np.random.standard_normal((N,1))\n",
    "# green_features = (green_vector1, green_vector2, green_vector3, green_vector4)\n",
    "\n",
    "# X_green = np.concatenate(green_features, axis=1)\n",
    "X_green = green_vector1\n",
    "\n",
    "#append identities, base rates, and mix everything together\n",
    "X = np.concatenate((X_blue, X_green), axis=0)\n",
    "X = np.concatenate((X, identities, base_rates), axis=1)\n",
    "np.random.shuffle(X)\n",
    "\n",
    "\n",
    "identities = X[:,10]\n",
    "base_rates = X[:,11]\n",
    "X = X[:,0:10]"
   ]
  },
  {
   "cell_type": "markdown",
   "metadata": {},
   "source": [
    "Now we have our first Xs, and we trained our first model. So we can start using the model to make predictions, and use each individual's mu to figure out whether they stole a cookie or not."
   ]
  },
  {
   "cell_type": "markdown",
   "metadata": {},
   "source": [
    "## Where all the functions are from"
   ]
  },
  {
   "cell_type": "code",
   "execution_count": 9,
   "metadata": {
    "collapsed": true
   },
   "outputs": [],
   "source": [
    "#function to generate actual stealing or not stealing events\n",
    "def did_they_steal(base_rates):\n",
    "    \n",
    "    y = np.zeros((len(base_rates),1))\n",
    "    \n",
    "    for i in range(len(base_rates)):\n",
    "        if base_rates[i] > np.random.uniform(0,1):\n",
    "            y[i] = 1        \n",
    "    \n",
    "    return y\n",
    "\n",
    "#function to update base rates\n",
    "def update_base_rates(base_rates, y, predictions, alpha, beta):\n",
    "    for i in range(len(y)):\n",
    "        if y[i] == predictions[i] and y[i] == 1 and (base_rates[i] + beta)  < 1:\n",
    "            base_rates[i] = base_rates[i] + beta\n",
    "        elif base_rates[i] > alpha:\n",
    "            base_rates[i] = base_rates[i] - alpha\n",
    "            \n",
    "    return base_rates\n",
    "\n",
    "#function that uses new base rates to create new feature vector\n",
    "def update_X(base_rates):\n",
    "    for i in range(len(base_rates)):\n",
    "        new_vec1 = np.random.normal(base_rates[i]*3, 1, (1, 3))\n",
    "        new_vec2 = np.random.exponential(base_rates[i]+1, (1, 3))\n",
    "        new_vec3 = np.random.binomial(100, base_rates[i]**2, (1, 3))\n",
    "        new_vec4 = np.random.standard_normal((1, 1))\n",
    "        new_features = (new_vec1, new_vec2, new_vec3, new_vec4)\n",
    "\n",
    "        X[i] = np.concatenate(new_features, axis=1)\n",
    "    \n",
    "    return X"
   ]
  },
  {
   "cell_type": "markdown",
   "metadata": {},
   "source": [
    "## Running the actual simulation"
   ]
  },
  {
   "cell_type": "code",
   "execution_count": 15,
   "metadata": {},
   "outputs": [],
   "source": [
    "#generate rand uniforms between 0 and 1\n",
    "y_blue = np.random.uniform(0,1, (N,1))\n",
    "y_green = np.random.uniform(0,1, (N,1))\n",
    "\n",
    "#replace each value with 0 or 1\n",
    "y_blue[y_blue > mu_blue] = 1\n",
    "y_blue[y_blue <= mu_blue] = 0\n",
    "y_green[y_green > mu_green] = 1\n",
    "y_green[y_green <= mu_green] = 0\n",
    "\n",
    "y_green = np.abs(y_green - 1)\n",
    "y_blue = np.abs(y_blue - 1)\n",
    "\n",
    "#create identities for each being:\n",
    "    #give them a number\n",
    "identities = np.arange(2*N)\n",
    "identities = np.reshape(identities,(200,1))\n",
    "    #give them a base rate of stealing the cookies\n",
    "base_rates_blue = np.ones((N, 1))*mu_blue\n",
    "base_rates_green = np.ones((N, 1))*mu_green\n",
    "base_rates = np.concatenate((base_rates_blue, base_rates_green), axis=0)\n",
    "\n",
    "#create X_blue\n",
    "thisisatest= np.random.normal(mu_blue*3, 1, (N,3))\n",
    "blue_vector2 = np.random.exponential(mu_blue + 1, (N,3))\n",
    "blue_vector3 = np.random.binomial(100, mu_blue**2, (N,3))\n",
    "blue_vector4 = np.random.standard_normal((N,1))\n",
    "blue_features = (blue_vector1, blue_vector2, blue_vector3, blue_vector4)\n",
    "\n",
    "X_blue = np.concatenate(blue_features, axis=1)\n",
    "\n",
    "#create X_green\n",
    "green_vector1 = np.random.normal(mu_green*3, 1, (N,3))\n",
    "green_vector2 = np.random.exponential(mu_green+1, (N,3))\n",
    "green_vector3 = np.random.binomial(10, mu_green**2, (N,3))\n",
    "green_vector4 = np.random.standard_normal((N,1))\n",
    "green_features = (green_vector1, green_vector2, green_vector3, green_vector4)\n",
    "\n",
    "X_green = np.concatenate(green_features, axis=1)\n",
    "\n",
    "#append identities, base rates, and mix everything together\n",
    "X = np.concatenate((X_blue, X_green), axis=0)\n",
    "X = np.concatenate((X, identities, base_rates), axis=1)\n",
    "np.random.shuffle(X)\n",
    "\n",
    "\n",
    "identities = X[:,10]\n",
    "base_rates = X[:,11]\n",
    "base_rates_copy = np.copy(base_rates)\n",
    "X = X[:,0:10]\n",
    "\n",
    "############################STARTS BEING DIFFERENT#######################\n",
    "\n",
    "iters = 180\n",
    "base_rates_list = np.zeros((2*N, 1))\n",
    "score_list = np.zeros((iters, 1))\n",
    "    \n",
    "for j in range(iters):\n",
    "    \n",
    "    #generate actual stealing or not stealing events, and predictions\n",
    "    y = did_they_steal(base_rates)\n",
    "    predictions = predict_probs_steal(X, model.coef_, model.intercept_)\n",
    "\n",
    "    #update base rates and thus feature vector\n",
    "    base_rates = update_base_rates(base_rates, y, predictions, alpha, beta)\n",
    "    X = update_X(base_rates)\n",
    "    \n",
    "    base_rates_list= np.concatenate((base_rates_list, np.reshape(base_rates, (200,1))), axis=1)\n",
    "\n",
    "    #use new feature vector to create new model\n",
    "    model = fit_logistic_regression(X, np.ravel(y))\n",
    "    score_list[j] = model.score(X, y)\n",
    "\n",
    "base_rates_list = base_rates_list[:,1:]\n"
   ]
  },
  {
   "cell_type": "code",
   "execution_count": 16,
   "metadata": {},
   "outputs": [
    {
     "data": {
      "text/plain": [
       "(200, 180)"
      ]
     },
     "execution_count": 16,
     "metadata": {},
     "output_type": "execute_result"
    }
   ],
   "source": [
    "base_rates_list.shape"
   ]
  },
  {
   "cell_type": "markdown",
   "metadata": {},
   "source": [
    "## Plot the results with model based intervention"
   ]
  },
  {
   "cell_type": "code",
   "execution_count": 17,
   "metadata": {
    "scrolled": true
   },
   "outputs": [
    {
     "data": {
      "image/png": "[encoded data removed]",
      "text/plain": [
       "<matplotlib.figure.Figure at 0x103139f60>"
      ]
     },
     "metadata": {},
     "output_type": "display_data"
    },
    {
     "data": {
      "image/png": "[encoded data removed]",
      "text/plain": [
       "<matplotlib.figure.Figure at 0x10b99a320>"
      ]
     },
     "metadata": {},
     "output_type": "display_data"
    }
   ],
   "source": [
    "plt.figure(figsize=(14,5))\n",
    "plt.subplot(1, 2, 1)\n",
    "for i in range(2*N):\n",
    "    plt.scatter(range(iters), base_rates_list[i,:])\n",
    "plt.xlabel(\"Time\")\n",
    "plt.ylabel(\"Proportion of people that steal\")\n",
    "plt.subplot(1, 2, 2)\n",
    "plt.plot(range(iters), score_list)\n",
    "plt.xlabel(\"Time\")\n",
    "plt.ylabel(\"Classifier accuracy\")\n",
    "plt.savefig(\"plots/scatter_with_labels_and_score.svg\")\n",
    "plt.show()"
   ]
  },
  {
   "cell_type": "markdown",
   "metadata": {},
   "source": [
    "# SAD!\n",
    "\n",
    "The biases get reinforced, and the classifier gets better. Not an ideal world. There are parallels to be drawn with the US justice system :'( \n",
    "\n",
    "However, there's something we can do: exploration!"
   ]
  },
  {
   "cell_type": "code",
   "execution_count": null,
   "metadata": {},
   "outputs": [],
   "source": [
    "identities"
   ]
  },
  {
   "cell_type": "code",
   "execution_count": 18,
   "metadata": {},
   "outputs": [
    {
     "data": {
      "text/plain": [
       "array([[ 0.45 , -0.15 ,  0.002, -1.206, -1.012, -0.693, -0.288, -0.229,\n",
       "        -0.191, -0.479]])"
      ]
     },
     "execution_count": 18,
     "metadata": {},
     "output_type": "execute_result"
    }
   ],
   "source": [
    "model.coef_"
   ]
  },
  {
   "cell_type": "code",
   "execution_count": null,
   "metadata": {
    "collapsed": true
   },
   "outputs": [],
   "source": []
  },
  {
   "cell_type": "code",
   "execution_count": null,
   "metadata": {
    "collapsed": true
   },
   "outputs": [],
   "source": []
  },
  {
   "cell_type": "code",
   "execution_count": null,
   "metadata": {
    "collapsed": true
   },
   "outputs": [],
   "source": []
  },
  {
   "cell_type": "code",
   "execution_count": null,
   "metadata": {
    "collapsed": true
   },
   "outputs": [],
   "source": []
  }
 ],
 "metadata": {
  "kernelspec": {
   "display_name": "Python 3",
   "language": "python",
   "name": "python3"
  },
  "language_info": {
   "codemirror_mode": {
    "name": "ipython",
    "version": 3
   },
   "file_extension": ".py",
   "mimetype": "text/x-python",
   "name": "python",
   "nbconvert_exporter": "python",
   "pygments_lexer": "ipython3",
   "version": "3.6.2"
  }
 },
 "nbformat": 4,
 "nbformat_minor": 2
}
