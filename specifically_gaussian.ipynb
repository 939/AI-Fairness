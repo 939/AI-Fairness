{
 "cells": [
  {
   "cell_type": "code",
   "execution_count": 1,
   "metadata": {
    "collapsed": true
   },
   "outputs": [],
   "source": [
    "#import stuff, and set seaborn up\n",
    "from scipy.stats import norm\n",
    "import numpy as np\n",
    "import seaborn as sns\n",
    "import matplotlib.pyplot as plt\n",
    "sns.set()\n",
    "import pandas as pd\n",
    "import time\n",
    "from scipy.optimize import minimize"
   ]
  },
  {
   "cell_type": "code",
   "execution_count": null,
   "metadata": {
    "collapsed": true
   },
   "outputs": [],
   "source": []
  },
  {
   "cell_type": "code",
   "execution_count": 117,
   "metadata": {},
   "outputs": [],
   "source": [
    "def create_gaussians_blues_oranges():\n",
    "    blues = np.random.normal(35, 15, size=(100,))\n",
    "    oranges = np.random.normal(65, 15, size=(100,))\n",
    "\n",
    "    blues[blues<0] = 1\n",
    "    blues[blues>100] = 99\n",
    "    oranges[oranges<0] = 1\n",
    "    oranges[oranges>100] = 99\n",
    "    \n",
    "    oranges = np.round(1000*oranges/sum(oranges))\n",
    "    blues = np.round(1000*blues/sum(blues))\n",
    "    \n",
    "\n",
    "    if sum(oranges) < 1000:\n",
    "        oranges[0] += 1000-sum(oranges)\n",
    "    elif sum(oranges) > 1000:\n",
    "        oranges[np.argmax(oranges)] -= -1000+sum(oranges)\n",
    "\n",
    "    if sum(blues) < 1000:\n",
    "        blues[0] += 1000-sum(blues)\n",
    "    elif sum(oranges) > 1000:\n",
    "        blues[np.argmax(blues)] -= -1000+sum(blues)\n",
    "        \n",
    "    true_blues = np.zeros(1)\n",
    "    true_oranges = np.zeros(1)\n",
    "    \n",
    "\n",
    "        \n",
    "    for i in range(100):\n",
    "        num_blues = int(blues[i])\n",
    "        num_oranges = int(oranges[i])\n",
    "        \n",
    "        if num_blues >= 0 and num_oranges >= 0:\n",
    "\n",
    "            elements_blues = np.multiply(np.ones(num_blues),i)\n",
    "            elements_oranges = np.multiply(np.ones(num_oranges), i)\n",
    "\n",
    "            true_blues = np.concatenate((true_blues, elements_blues), axis=0)\n",
    "            true_oranges = np.concatenate((true_oranges, elements_oranges), axis=0)\n",
    "           \n",
    "#     blues = true_blues\n",
    "#     oranges = true_oranges\n",
    "\n",
    "    return true_blues, true_oranges, blues, oranges\n",
    "\n",
    "\n",
    "def brownian_population(delta=2, dt=1, n=100, x=0):\n",
    "\n",
    "    history=np.zeros(n)\n",
    "    \n",
    "    # Iterate to compute the steps of the Brownian motion.\n",
    "    for i in range(n):\n",
    "        x = x + norm.rvs(scale=delta**2*dt)\n",
    "        history[i] = x\n",
    "    \n",
    "    history = history+np.abs(np.min(history))\n",
    "    \n",
    "    original_hist = np.copy(history)\n",
    "    old_mean = mean_pop(original_hist)\n",
    "    \n",
    "    history = np.round(999*history/sum(history))\n",
    "    \n",
    "    mean = np.round(np.average(history))\n",
    "    \n",
    "    if sum(history) < 999:\n",
    "        history[0] += 999-sum(history)\n",
    "        \n",
    "    elif sum(history) > 999:  \n",
    "        history[np.argmax(history)] -= -999+sum(history)        \n",
    "    \n",
    "\n",
    "    return history, old_mean, original_hist\n",
    "\n",
    "def mean_pop(a):\n",
    "    mean = 0\n",
    "    for i in range(len(a)):\n",
    "        mean += a[i]*i\n",
    "\n",
    "    mean = int(mean/sum(a))\n",
    "\n",
    "    return mean\n",
    "\n",
    "\n",
    "\n",
    "def create_blues_and_oranges():\n",
    "    a, mean_a, _ = brownian_population()\n",
    "    b, mean_b, _ = brownian_population()\n",
    "\n",
    "    if mean_a >= mean_b:\n",
    "        blues = np.copy(b)\n",
    "        oranges = np.copy(a)\n",
    "    elif mean_a < mean_b:\n",
    "        blues = np.copy(a)\n",
    "        oranges = np.copy(b)\n",
    "    else:\n",
    "        print(\"um\")\n",
    "\n",
    "    true_blues = np.zeros(1)\n",
    "    true_oranges = np.zeros(1)\n",
    "    \n",
    "    for i in range(100):\n",
    "        num_blues = int(blues[i])\n",
    "        num_oranges = int(oranges[i])\n",
    "        \n",
    "        if num_blues >= 0 and num_oranges >= 0:\n",
    "\n",
    "            elements_blues = np.multiply(np.ones(num_blues),i)\n",
    "            elements_oranges = np.multiply(np.ones(num_oranges), i)\n",
    "\n",
    "            true_blues = np.concatenate((true_blues, elements_blues), axis=0)\n",
    "            true_oranges = np.concatenate((true_oranges, elements_oranges), axis=0)\n",
    "\n",
    "    #determine who defaulted\n",
    "    blues_who_defaulted = true_blues < np.random.randint(100, size=(1000,))\n",
    "    oranges_who_defaulted = true_oranges < np.random.randint(100, size=(1000,))\n",
    "\n",
    "    blues = true_blues\n",
    "    oranges = true_oranges\n",
    "    \n",
    "    return blues, oranges, blues_who_defaulted, oranges_who_defaulted, mean_a, mean_b\n",
    "    "
   ]
  },
  {
   "cell_type": "code",
   "execution_count": 96,
   "metadata": {
    "scrolled": true
   },
   "outputs": [
    {
     "data": {
      "text/plain": [
       "49414.0"
      ]
     },
     "execution_count": 96,
     "metadata": {},
     "output_type": "execute_result"
    }
   ],
   "source": [
    "a, b, c, d = create_gaussians_blues_oranges()\n",
    "sum(b)"
   ]
  },
  {
   "cell_type": "code",
   "execution_count": 102,
   "metadata": {},
   "outputs": [
    {
     "data": {
      "image/png": "[encoded data removed]",
      "text/plain": [
       "<matplotlib.figure.Figure at 0x1178c67b8>"
      ]
     },
     "metadata": {},
     "output_type": "display_data"
    }
   ],
   "source": [
    "plt.hist(c)\n",
    "plt.show()"
   ]
  },
  {
   "cell_type": "code",
   "execution_count": 100,
   "metadata": {
    "scrolled": true
   },
   "outputs": [
    {
     "name": "stdout",
     "output_type": "stream",
     "text": [
      "[ 6. 10. 14.  7. 12.  8. 12.  8. 16.  7.  6. 14. 13.  9.  7. 15. 11. 20.\n",
      " 10.  6. 14.  9. 10. 13. 10. 13. 12. 14. 17. 11.  3.  7. 19. 11.  9. 14.\n",
      " 11. 10.  9.  0. 10.  6. 13.  2.  0.  5. 16. 16.  7.  6. 20. 10. 14. 16.\n",
      " 13.  5.  8. 17.  9.  8.  7. 14.  0.  7.  9.  5.  8.  8. 13. 11. 11.  0.\n",
      "  4. 14. 14. 14.  8.  9.  7.  2. 15.  8. 12. 15.  8.  7.  7.  8.  7. 14.\n",
      "  8. 11.  8.  6. 15.  9.  9. 14. 15. 11.]\n"
     ]
    }
   ],
   "source": [
    "print(c)"
   ]
  },
  {
   "cell_type": "code",
   "execution_count": 101,
   "metadata": {
    "scrolled": true
   },
   "outputs": [
    {
     "name": "stdout",
     "output_type": "stream",
     "text": [
      "[ 0.  0.  0.  0.  0.  0.  0.  1.  1.  1.  1.  1.  1.  1.  1.  1.  1.  2.\n",
      "  2.  2.  2.  2.  2.  2.  2.  2.  2.  2.  2.  2.  2.  3.  3.  3.  3.  3.\n",
      "  3.  3.  4.  4.  4.  4.  4.  4.  4.  4.  4.  4.  4.  4.  5.  5.  5.  5.\n",
      "  5.  5.  5.  5.  6.  6.  6.  6.  6.  6.  6.  6.  6.  6.  6.  6.  7.  7.\n",
      "  7.  7.  7.  7.  7.  7.  8.  8.  8.  8.  8.  8.  8.  8.  8.  8.  8.  8.\n",
      "  8.  8.  8.  8.  9.  9.  9.  9.  9.  9.  9. 10. 10. 10. 10. 10. 10. 11.\n",
      " 11. 11. 11. 11. 11. 11. 11. 11. 11. 11. 11. 11. 11. 12. 12. 12. 12. 12.\n",
      " 12. 12. 12. 12. 12. 12. 12. 12. 13. 13. 13. 13. 13. 13. 13. 13. 13. 14.\n",
      " 14. 14. 14. 14. 14. 14. 15. 15. 15. 15. 15. 15. 15. 15. 15. 15. 15. 15.\n",
      " 15. 15. 15. 16. 16. 16. 16. 16. 16. 16. 16. 16. 16. 16. 17. 17. 17. 17.\n",
      " 17. 17. 17. 17. 17. 17. 17. 17. 17. 17. 17. 17. 17. 17. 17. 17. 18. 18.\n",
      " 18. 18.]\n"
     ]
    }
   ],
   "source": [
    "print(a[0:200])"
   ]
  },
  {
   "cell_type": "code",
   "execution_count": 98,
   "metadata": {},
   "outputs": [
    {
     "data": {
      "image/png": "[encoded data removed]",
      "text/plain": [
       "<matplotlib.figure.Figure at 0x117e3e048>"
      ]
     },
     "metadata": {},
     "output_type": "display_data"
    }
   ],
   "source": [
    "plt.hist((c, d))\n",
    "plt.show()"
   ]
  },
  {
   "cell_type": "code",
   "execution_count": 55,
   "metadata": {},
   "outputs": [
    {
     "data": {
      "image/png": "[encoded data removed]",
      "text/plain": [
       "<matplotlib.figure.Figure at 0x117c92860>"
      ]
     },
     "metadata": {},
     "output_type": "display_data"
    }
   ],
   "source": [
    "blues = np.random.normal(35, 15, size=(100,))\n",
    "plt.hist(blues)\n",
    "plt.show()"
   ]
  },
  {
   "cell_type": "code",
   "execution_count": 113,
   "metadata": {},
   "outputs": [],
   "source": [
    "a, b, c = brownian_population()"
   ]
  },
  {
   "cell_type": "code",
   "execution_count": 114,
   "metadata": {
    "scrolled": true
   },
   "outputs": [
    {
     "data": {
      "image/png": "[encoded data removed]",
      "text/plain": [
       "<matplotlib.figure.Figure at 0x11806eb00>"
      ]
     },
     "metadata": {},
     "output_type": "display_data"
    },
    {
     "data": {
      "image/png": "[encoded data removed]",
      "text/plain": [
       "<matplotlib.figure.Figure at 0x1178de7f0>"
      ]
     },
     "metadata": {},
     "output_type": "display_data"
    }
   ],
   "source": [
    "plt.hist(a)\n",
    "plt.show()\n",
    "plt.hist(c)\n",
    "plt.show()"
   ]
  },
  {
   "cell_type": "code",
   "execution_count": 116,
   "metadata": {},
   "outputs": [
    {
     "name": "stdout",
     "output_type": "stream",
     "text": [
      "(100,)\n"
     ]
    }
   ],
   "source": [
    "print(c.shape)"
   ]
  },
  {
   "cell_type": "code",
   "execution_count": null,
   "metadata": {
    "collapsed": true
   },
   "outputs": [],
   "source": []
  }
 ],
 "metadata": {
  "kernelspec": {
   "display_name": "Python 3",
   "language": "python",
   "name": "python3"
  },
  "language_info": {
   "codemirror_mode": {
    "name": "ipython",
    "version": 3
   },
   "file_extension": ".py",
   "mimetype": "text/x-python",
   "name": "python",
   "nbconvert_exporter": "python",
   "pygments_lexer": "ipython3",
   "version": "3.6.2"
  }
 },
 "nbformat": 4,
 "nbformat_minor": 2
}
