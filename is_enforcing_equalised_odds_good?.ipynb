{
 "cells": [
  {
   "cell_type": "code",
   "execution_count": 1,
   "metadata": {
    "collapsed": true
   },
   "outputs": [],
   "source": [
    "#import stuff\n",
    "import numpy as np\n",
    "import pandas as pd\n",
    "import matplotlib.pyplot as plt\n",
    "import seaborn as sns\n",
    "from scipy.optimize import minimize"
   ]
  },
  {
   "cell_type": "markdown",
   "metadata": {},
   "source": [
    "# Create populations"
   ]
  },
  {
   "cell_type": "code",
   "execution_count": 2,
   "metadata": {},
   "outputs": [],
   "source": [
    "population_size = 1000\n",
    "mu_blue = 40\n",
    "mu_orange = 60\n",
    "\n",
    "#create populations\n",
    "blues1 = np.random.normal(mu_blue, 5, (int(population_size/5)*4,1))\n",
    "blues2 = np.random.normal(mu_blue+20, 5, (int(population_size/5),1))\n",
    "blues = np.concatenate((blues1, blues2), axis=0)\n",
    "oranges1 = np.random.normal(mu_orange, 5, (int(population_size/5),1))\n",
    "oranges2 = np.random.normal(mu_orange+20, 5, (int(population_size/5)*4,1))\n",
    "oranges = np.concatenate((oranges1, oranges2), axis=0)\n",
    "\n",
    "blues_who_defaulted = blues < np.random.uniform(50, 150, (population_size,1))\n",
    "oranges_who_defaulted = oranges < np.random.uniform(0, 100, (population_size,1))\n",
    "\n",
    "blues_bank_thinks_defaulted = blues < 30\n",
    "oranges_bank_thinks_defaulted = oranges < 60"
   ]
  },
  {
   "cell_type": "markdown",
   "metadata": {},
   "source": [
    "# Plot populations"
   ]
  },
  {
   "cell_type": "code",
   "execution_count": 53,
   "metadata": {},
   "outputs": [
    {
     "data": {
      "image/png": "[encoded data removed]",
      "text/plain": [
       "<matplotlib.figure.Figure at 0x10dc77cf8>"
      ]
     },
     "metadata": {},
     "output_type": "display_data"
    }
   ],
   "source": [
    "plt.hist(oranges, bins=25, color=\"orange\")\n",
    "plt.show()"
   ]
  },
  {
   "cell_type": "code",
   "execution_count": 49,
   "metadata": {},
   "outputs": [
    {
     "data": {
      "image/png": "[encoded data removed]",
      "text/plain": [
       "<matplotlib.figure.Figure at 0x10c8fb5f8>"
      ]
     },
     "metadata": {},
     "output_type": "display_data"
    }
   ],
   "source": [
    "plt.hist(blues, bins=25, color=\"b\")\n",
    "plt.show()"
   ]
  },
  {
   "cell_type": "code",
   "execution_count": 54,
   "metadata": {
    "scrolled": false
   },
   "outputs": [
    {
     "data": {
      "image/png": "[encoded data removed]",
      "text/plain": [
       "<matplotlib.figure.Figure at 0x10da2a828>"
      ]
     },
     "metadata": {},
     "output_type": "display_data"
    }
   ],
   "source": [
    "plt.hist([blues[np.logical_not(blues_who_defaulted)],blues[blues_who_defaulted]], stacked=True, bins=20)\n",
    "plt.show()"
   ]
  },
  {
   "cell_type": "code",
   "execution_count": 5,
   "metadata": {},
   "outputs": [],
   "source": [
    "#define true and false negatives/positives\n",
    "true_negative_blues = np.logical_and(blues_who_defaulted, blues_bank_thinks_defaulted)\n",
    "false_negative_blues = np.logical_and(np.logical_not(blues_who_defaulted), blues_bank_thinks_defaulted)\n",
    "true_positive_blues = np.logical_and(np.logical_not(blues_who_defaulted), np.logical_not(blues_bank_thinks_defaulted))\n",
    "false_positive_blues = np.logical_and(blues_who_defaulted, np.logical_not(blues_bank_thinks_defaulted))"
   ]
  },
  {
   "cell_type": "code",
   "execution_count": 35,
   "metadata": {
    "collapsed": true
   },
   "outputs": [],
   "source": [
    "#create function that finds true positive rates as a function of the cutoff\n",
    "def true_positive_rate(population, population_that_defaulted, cutoff):\n",
    "    population_bank_thinks_defaulted = population < cutoff\n",
    "    \n",
    "    true_positives = np.logical_and(np.logical_not(population_that_defaulted), \n",
    "                                    np.logical_not(population_bank_thinks_defaulted))\n",
    "    \n",
    "    number_true_positives = sum(true_positives)\n",
    "    \n",
    "    false_negatives = np.logical_and(np.logical_not(population_that_defaulted), \n",
    "                                     population_bank_thinks_defaulted)\n",
    "    \n",
    "    number_false_negatives = sum(false_negatives) \n",
    "    \n",
    "    true_positive_rate = number_true_positives/(number_true_positives+number_false_negatives)\n",
    "    \n",
    "    return true_positive_rate\n",
    "\n",
    "def difference_bw_positive_rates(pop1, pop2, pop1_that_defaulted, pop2_that_defaulted, cutoff1, cutoff2):\n",
    "    true_positive_rate_group1 = true_positive_rate(pop1, pop1_that_defaulted, cutoff1)\n",
    "    true_positive_rate_group2 = true_positive_rate(pop2, pop2_that_defaulted, cutoff2)\n",
    "    # for the optimiser's constraints\n",
    "    return 0.8 - np.abs(true_positive_rate_group1-true_positive_rate_group2)\n",
    "\n",
    "#create function that finds bank profit as a function of the cutoff\n",
    "def bank_profit(population, population_that_defaulted, cutoff, \n",
    "                revenue_factor=1, cost_factor=3, credit_upside=1, credit_downside=2):\n",
    "    population_bank_thinks_defaulted = population < cutoff\n",
    "    \n",
    "    true_positives = np.logical_and(np.logical_not(population_that_defaulted), \n",
    "                                    np.logical_not(population_bank_thinks_defaulted))\n",
    "    paid_back = sum(true_positives)\n",
    "    false_positives = np.logical_and(population_that_defaulted, \n",
    "                                     np.logical_not(population_bank_thinks_defaulted))\n",
    "    defaulted = sum(false_positives)\n",
    "    \n",
    "    profit = paid_back*revenue_factor - defaulted*cost_factor\n",
    "    selection_rate = sum(np.logical_not(population_bank_thinks_defaulted))/len(population)\n",
    "    \n",
    "    credit_change = paid_back*credit_upside - defaulted*credit_downside\n",
    "\n",
    "    \n",
    "    return profit, selection_rate, credit_change\n",
    "\n",
    "def total_bank_profit(pop1, pop2, pop1_that_defaulted, pop2_that_defaulted, cutoff1, cutoff2, \n",
    "                      revenue_factor=1, cost_factor=3, credit_upside=1, credit_downside=2):\n",
    "    \n",
    "    profit_group1, _, _ = bank_profit(pop1, pop1_that_defaulted, cutoff1)\n",
    "    profit_group2, _, _ = bank_profit(pop2, pop2_that_defaulted, cutoff2)\n",
    "    \n",
    "    return -(profit_group1 + profit_group2)"
   ]
  },
  {
   "cell_type": "markdown",
   "metadata": {},
   "source": [
    "# With fairness constraint:"
   ]
  },
  {
   "cell_type": "code",
   "execution_count": 36,
   "metadata": {},
   "outputs": [
    {
     "name": "stdout",
     "output_type": "stream",
     "text": [
      "initial guess of [50. 50.] got us a profit of  [-473] $\n"
     ]
    }
   ],
   "source": [
    "#what to optimise\n",
    "to_optimise = lambda x: total_bank_profit(blues, oranges, blues_who_defaulted, \n",
    "                                          oranges_who_defaulted, x[0], x[1])\n",
    "\n",
    "to_constrain = lambda x: difference_bw_positive_rates(blues, oranges, blues_who_defaulted, \n",
    "                                                      oranges_who_defaulted, x[0], x[1])\n",
    "\n",
    "#initial guess\n",
    "cutoffs = np.zeros(2)\n",
    "cutoffs[0] = 50\n",
    "cutoffs[1] = 50\n",
    "#show initial objective\n",
    "print(\"initial guess of\", cutoffs, \"got us a profit of \", -to_optimise(cutoffs), \"$\")"
   ]
  },
  {
   "cell_type": "code",
   "execution_count": 42,
   "metadata": {},
   "outputs": [],
   "source": [
    "#optimise with fairness\n",
    "a = (0, 100)\n",
    "bounds = (a, a)\n",
    "equal_true_positives = {'type': 'ineq', 'fun': to_constrain}\n",
    "cons = ([equal_true_positives])\n",
    "\n",
    "solution = minimize(to_optimise, cutoffs, method='SLSQP', constraints = cons,\n",
    "                    bounds=bounds, options = {'eps': 3})\n",
    "\n",
    "x_fair = solution.x"
   ]
  },
  {
   "cell_type": "code",
   "execution_count": 43,
   "metadata": {},
   "outputs": [
    {
     "name": "stdout",
     "output_type": "stream",
     "text": [
      "final guess of [81.89155344 75.46702463] got us a profit of  [236] $\n",
      "final guess of [81.89155344 75.46702463] got us an average credit score change for the blues of [0] and an average credit score change for the oranges of [342]\n"
     ]
    }
   ],
   "source": [
    "#final solution got us a profit of:\n",
    "print(\"final guess of\", x_fair, \"got us a profit of \", -to_optimise(x_fair), \"$\")\n",
    "\n",
    "_, _, blues_credit_change = bank_profit(blues, blues_who_defaulted, x_fair[0])\n",
    "_, _, oranges_credit_change = bank_profit(oranges, oranges_who_defaulted, x_fair[1])\n",
    "#final solution got us a change in credit score of:\n",
    "print(\"final guess of\", x_fair, \n",
    "      \"got us an average credit score change for the blues of\", blues_credit_change, \n",
    "      \"and an average credit score change for the oranges of\", oranges_credit_change)"
   ]
  },
  {
   "cell_type": "markdown",
   "metadata": {},
   "source": [
    "# Optimise without fairness"
   ]
  },
  {
   "cell_type": "code",
   "execution_count": 44,
   "metadata": {
    "collapsed": true
   },
   "outputs": [],
   "source": [
    "#optimise with fairness\n",
    "a = (0, 100)\n",
    "bounds = (a, a)\n",
    "equal_true_positives = {'type': 'ineq', 'fun': to_constrain}\n",
    "cons = ([equal_true_positives])\n",
    "\n",
    "solution_unfair = minimize(to_optimise, cutoffs, method='SLSQP',\n",
    "                    bounds=bounds, options = {'eps': 3})\n",
    "\n",
    "x_unfair = solution_unfair.x"
   ]
  },
  {
   "cell_type": "code",
   "execution_count": 45,
   "metadata": {},
   "outputs": [
    {
     "name": "stdout",
     "output_type": "stream",
     "text": [
      "final guess of [77.33548295 62.49823421] got us a profit of  [179] $\n",
      "final guess got us an average credit score change for the blues of [0] and an average credit score change for the oranges of [349]\n"
     ]
    }
   ],
   "source": [
    "#final solution got us a profit of:\n",
    "print(\"final guess of\", x_unfair, \"got us a profit of \", -to_optimise(x_unfair), \"$\")\n",
    "\n",
    "_, _, blues_credit_change = bank_profit(blues, blues_who_defaulted, x_unfair[0])\n",
    "_, _, oranges_credit_change = bank_profit(oranges, oranges_who_defaulted, x_unfair[1])\n",
    "#final solution got us a change in credit score of:\n",
    "print(\"final guess got us an average credit score change for the blues of\", blues_credit_change, \n",
    "      \"and an average credit score change for the oranges of\", oranges_credit_change)"
   ]
  },
  {
   "cell_type": "code",
   "execution_count": 46,
   "metadata": {},
   "outputs": [
    {
     "name": "stdout",
     "output_type": "stream",
     "text": [
      "0\n",
      "10\n",
      "20\n",
      "30\n",
      "40\n",
      "50\n",
      "60\n",
      "70\n"
     ]
    }
   ],
   "source": [
    "differences_in_true_positive_rates = np.zeros((80, 80))\n",
    "profit = np.zeros((80, 80))\n",
    "for i in range(80):\n",
    "    for j in range(80):\n",
    "        true_positive_rate_blue = true_positive_rate(blues, blues_who_defaulted, i)\n",
    "        true_positive_rate_orange = true_positive_rate(oranges, oranges_who_defaulted, j)\n",
    "        differences_in_true_positive_rates[i,j] = np.abs(true_positive_rate_blue - true_positive_rate_orange)\n",
    "        #profit[i,j], _, _ = bank_profit(blues, blues_who_defaulted, i) + bank_profit(oranges, oranges_who_defaulted, j)\n",
    "    \n",
    "    if(i%10 == 0):\n",
    "        print(i)"
   ]
  },
  {
   "cell_type": "code",
   "execution_count": 47,
   "metadata": {},
   "outputs": [
    {
     "data": {
      "image/png": "[encoded data removed]",
      "text/plain": [
       "<matplotlib.figure.Figure at 0x10d5638d0>"
      ]
     },
     "metadata": {},
     "output_type": "display_data"
    }
   ],
   "source": [
    "plt.imshow(differences_in_true_positive_rates < 0.1, cmap='hot', interpolation='nearest')\n",
    "plt.show()"
   ]
  },
  {
   "cell_type": "code",
   "execution_count": 32,
   "metadata": {
    "scrolled": true
   },
   "outputs": [
    {
     "data": {
      "image/png": "[encoded data removed]",
      "text/plain": [
       "<matplotlib.figure.Figure at 0x10ceeecc0>"
      ]
     },
     "metadata": {},
     "output_type": "display_data"
    }
   ],
   "source": [
    "plt.imshow(profit, cmap='hot', interpolation='nearest')\n",
    "plt.show()"
   ]
  },
  {
   "cell_type": "code",
   "execution_count": 33,
   "metadata": {},
   "outputs": [
    {
     "data": {
      "image/png": "[encoded data removed]",
      "text/plain": [
       "<matplotlib.figure.Figure at 0x10d26a908>"
      ]
     },
     "metadata": {},
     "output_type": "display_data"
    }
   ],
   "source": [
    "orange_profit = np.zeros(100)\n",
    "selection_rate = np.zeros(100)\n",
    "credit_change = np.zeros(100)\n",
    "\n",
    "for i in range(100):\n",
    "    orange_profit[i], selection_rate[i], credit_change[i] = bank_profit(oranges, oranges_who_defaulted, i)\n",
    "    \n",
    "plt.plot(selection_rate, orange_profit)\n",
    "plt.show()"
   ]
  },
  {
   "cell_type": "code",
   "execution_count": 34,
   "metadata": {},
   "outputs": [
    {
     "data": {
      "image/png": "[encoded data removed]",
      "text/plain": [
       "<matplotlib.figure.Figure at 0x10d3f0c88>"
      ]
     },
     "metadata": {},
     "output_type": "display_data"
    }
   ],
   "source": [
    "plt.plot(selection_rate, credit_change)\n",
    "plt.show()"
   ]
  },
  {
   "cell_type": "code",
   "execution_count": null,
   "metadata": {
    "collapsed": true
   },
   "outputs": [],
   "source": []
  },
  {
   "cell_type": "code",
   "execution_count": null,
   "metadata": {
    "collapsed": true
   },
   "outputs": [],
   "source": []
  },
  {
   "cell_type": "code",
   "execution_count": null,
   "metadata": {
    "collapsed": true
   },
   "outputs": [],
   "source": []
  },
  {
   "cell_type": "code",
   "execution_count": null,
   "metadata": {
    "collapsed": true
   },
   "outputs": [],
   "source": []
  },
  {
   "cell_type": "code",
   "execution_count": null,
   "metadata": {
    "collapsed": true
   },
   "outputs": [],
   "source": []
  },
  {
   "cell_type": "code",
   "execution_count": null,
   "metadata": {
    "collapsed": true
   },
   "outputs": [],
   "source": []
  }
 ],
 "metadata": {
  "kernelspec": {
   "display_name": "Python 3",
   "language": "python",
   "name": "python3"
  },
  "language_info": {
   "codemirror_mode": {
    "name": "ipython",
    "version": 3
   },
   "file_extension": ".py",
   "mimetype": "text/x-python",
   "name": "python",
   "nbconvert_exporter": "python",
   "pygments_lexer": "ipython3",
   "version": "3.6.2"
  }
 },
 "nbformat": 4,
 "nbformat_minor": 2
}
